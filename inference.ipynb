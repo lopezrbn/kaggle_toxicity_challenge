{
 "cells": [
  {
   "cell_type": "code",
   "execution_count": 35,
   "id": "a29cdf1e",
   "metadata": {},
   "outputs": [],
   "source": [
    "import os\n",
    "import pandas as pd\n",
    "import numpy as np\n",
    "import pickle\n",
    "from transformers import AutoTokenizer, AutoModelForSequenceClassification, Trainer\n",
    "from sklearn.metrics import roc_auc_score\n",
    "from datasets import Dataset, load_from_disk\n",
    "\n",
    "MAX_LENGTH = 256\n",
    "MODEL_BASE = \"microsoft/deberta-v3-base\"\n",
    "\n",
    "PATH_DATA_PROCESSED = f\"data/processed_data/{MODEL_BASE}\"\n",
    "PATH_DS_TEST_TOKENIZED = os.path.join(PATH_DATA_PROCESSED, \"ds_test_tokenized\")\n",
    "PATH_PREDICTIONS_DICT = f\"results/predictions/predictions.pkl\"\n",
    "PATH_DF_SUBMISSION = f\"results/submission/submission.csv\"\n"
   ]
  },
  {
   "cell_type": "code",
   "execution_count": 2,
   "id": "85453fa3",
   "metadata": {},
   "outputs": [
    {
     "data": {
      "application/vnd.microsoft.datawrangler.viewer.v0+json": {
       "columns": [
        {
         "name": "index",
         "rawType": "int64",
         "type": "integer"
        },
        {
         "name": "id",
         "rawType": "object",
         "type": "string"
        },
        {
         "name": "comment_text",
         "rawType": "object",
         "type": "string"
        }
       ],
       "ref": "1dfb61db-2fa9-4ae1-b6b9-454495274d77",
       "rows": [
        [
         "0",
         "00001cee341fdb12",
         "Yo bitch Ja Rule is more succesful then you'll ever be whats up with you and hating you sad mofuckas...i should bitch slap ur pethedic white faces and get you to kiss my ass you guys sicken me. Ja rule is about pride in da music man. dont diss that shit on him. and nothin is wrong bein like tupac he was a brother too...fuckin white boys get things right next time.,"
        ],
        [
         "1",
         "0000247867823ef7",
         "== From RfC == \n\n The title is fine as it is, IMO."
        ],
        [
         "2",
         "00013b17ad220c46",
         "\" \n\n == Sources == \n\n * Zawe Ashton on Lapland —  /  \""
        ],
        [
         "3",
         "00017563c3f7919a",
         ":If you have a look back at the source, the information I updated was the correct form. I can only guess the source hadn't updated. I shall update the information once again but thank you for your message."
        ],
        [
         "4",
         "00017695ad8997eb",
         "I don't anonymously edit articles at all."
        ],
        [
         "5",
         "0001ea8717f6de06",
         "Thank you for understanding. I think very highly of you and would not revert without discussion."
        ],
        [
         "6",
         "00024115d4cbde0f",
         "Please do not add nonsense to Wikipedia. Such edits are considered vandalism and quickly undone. If you would like to experiment, please use the sandbox instead. Thank you.   -"
        ],
        [
         "7",
         "000247e83dcc1211",
         ":Dear god this site is horrible."
        ],
        [
         "8",
         "00025358d4737918",
         "\" \n Only a fool can believe in such numbers. \n The correct number lies between 10 000 to 15 000. \n Ponder the numbers carefully.  \n\n This error will persist for a long time as it continues to reproduce... The latest reproduction I know is from ENCYCLOPÆDIA BRITANNICA ALMANAC 2008 wich states \n Magnittude: 8.7 (fair enough) \n victims: 70 000 (today 10 000 to 15 000 is not \"\"a lot\"\" so I guess people just come out with a number that impresses enough, I don't know. But I know this: it's just a shameless lucky number that they throw in the air. \n GC \n\n \""
        ],
        [
         "9",
         "00026d1092fe71cc",
         "== Double Redirects == \n\n When fixing double redirects, don't just blank the outer one, you need edit it to point it to the final target, unless you think it's inappropriate, in which case, it needs to be nominated at WP:RfD"
        ],
        [
         "10",
         "0002eadc3b301559",
         "I think its crap that the link to roggenbier is to this article. Somebody that knows how to do things should change it."
        ],
        [
         "11",
         "0002f87b16116a7f",
         "\"::: Somebody will invariably try to add Religion?  Really??  You mean, the way people have invariably kept adding \"\"Religion\"\" to the Samuel Beckett infobox?  And why do you bother bringing up the long-dead completely non-existent \"\"Influences\"\" issue?  You're just flailing, making up crap on the fly. \n ::: For comparison, the only explicit acknowledgement in the entire Amos Oz article that he is personally Jewish is in the categories!    \n\n \""
        ],
        [
         "12",
         "0003806b11932181",
         ", 25 February 2010 (UTC) \n\n :::Looking it over, it's clear that  (a banned sockpuppet of ) ignored the consensus (&, fwiw, policy-appropriate) choice to leave the page at Chihuahua (Mexico) and the current page should be returned there. Anyone have the time to fix the incoming links? -  18:24"
        ],
        [
         "13",
         "0003e1cccfd5a40a",
         "\" \n\n It says it right there that it IS a type. The \"\"Type\"\" of institution is needed in this case because there are three levels of SUNY schools: \n -University Centers and Doctoral Granting Institutions \n -State Colleges \n -Community Colleges. \n\n It is needed in this case to clarify that UB is a SUNY Center. It says it even in Binghamton University, University at Albany, State University of New York, and Stony Brook University. Stop trying to say it's not because I am totally right in this case.\""
        ],
        [
         "14",
         "00059ace3e3e9a53",
         "\" \n\n == Before adding a new product to the list, make sure it's relevant == \n\n Before adding a new product to the list, make sure it has a wikipedia entry already, \"\"proving\"\" it's relevance and giving the reader the possibility to read more about it. \n Otherwise it could be subject to deletion. See this article's revision history.\""
        ],
        [
         "15",
         "000634272d0d44eb",
         "==Current Position== \n Anyone have confirmation that Sir, Alfred is no longer at the airport and is hospitalised?"
        ],
        [
         "16",
         "000663aff0fffc80",
         "this other one from 1897"
        ],
        [
         "17",
         "000689dd34e20979",
         "== Reason for banning throwing == \n\n This article needs a section on /why/ throwing is banned. At the moment, to a non-cricket fan, it seems kind of arbitrary."
        ],
        [
         "18",
         "000834769115370c",
         ":: Wallamoose was changing the cited material to say things the original source did not say. In response to his objections, I modified the article as we went along. I was not just reverting him. I repeatedly asked him to use the talk page. I've been trying to add to the article for a long time.  It's so thin on content. This is wrong."
        ],
        [
         "19",
         "000844b52dee5f3f",
         "|blocked]] from editing Wikipedia.   |"
        ],
        [
         "20",
         "00084da5d4ead7aa",
         "==Indefinitely blocked== \n I have indefinitely blocked this account."
        ],
        [
         "21",
         "00091c35fa9d0465",
         "== Arabs are committing genocide in Iraq, but no protests in Europe. == \n\n May Europe also burn in hell."
        ],
        [
         "22",
         "000968ce11f5ee34",
         "Please stop. If you continue to vandalize Wikipedia, as you did to Homosexuality, you will be blocked from editing."
        ],
        [
         "23",
         "0009734200a85047",
         "== Energy  == \n\n I have edited the introduction, because previously it said that passive transport does not use any kind of energy. This is not true. Passive transport relies on the kinetic energy of the substance that is being transported. This kinetic energy is what causes it to move around and (by random chance) cross the membrane. The difference is that active transport actually uses the cell's energy (ATP or electrochemical gradient) to pump the substance across the membrane."
        ],
        [
         "24",
         "00097b6214686db5",
         ":yeah, thanks for reviving the tradition of pissing all over articles because you want to live out your ethnic essentialism. Why let mere facts get into the way of enjoying that."
        ],
        [
         "25",
         "0009aef4bd9e1697",
         "MLM Software,NBFC software,Non Banking Financial Company,NBFC software company,NBFC software in india,software for banking,Gold loan software.MLM Software  \n\n '''SEO Services \n Search Engine Optimization \n www.liveindiatech.com \n\n According to a recenBold textt survey people have moved away from searching print media for their needs. They use search engines to find the products and services. The first step to have a successful presence over the internet is creating your own website but that is not enough. When someone searches for the products/services that you offer your name needs to be listed high in the search engine.  \n\n Live India Tech guarantees you search engine optimization using which your organizations name will feature in the top ten listing in all the search engines. This will ensure that the traffic to your site will increase exponentially aiding you in the sales of more products and services.  \n\n We have invested enough resources to develop an SEO system that is far superior to anything else in the market. \n\n www.liveindiatech.com"
        ],
        [
         "26",
         "000a02d807ae0254",
         "@RedSlash, cut it short. If you have sources stating the RoK is sovereign post them. Otherwise please aknowledge WP is not the place to make OR."
        ],
        [
         "27",
         "000a6c6d4e89b9bc",
         "==================== \n Deception is the way of the Ninja..... \n\n Hence, Frank Dux is an amazing Ninja"
        ],
        [
         "28",
         "000bafe2080bba82",
         ". \n\n           Jews are not a race because you can only get it from your mother. Your own mention of Ethiopian Jews not testing \n           as Jews proves it is not, as well as the fact that we accept converts"
        ],
        [
         "29",
         "000bf0a9894b2807",
         ":::If Ollie or others think that one list of the oldest people we know about is too long, the easy answer is to raise the cutoff age. 110 is purely a round number and a full 12 years shorter then the record. We can make it the top 1000 or top 500 or everyone above 115 - tell us what the maximum list size is and we can set a threshold."
        ],
        [
         "30",
         "000c50dceb1eed2b",
         "\" \n *Support Per Jimbo and WP:google \"\"Climatic Research Unit email controversy\"\" =4,930 results, \"\"climategate\"\" =3,210,000 results. MFA  \n\n  \n \""
        ],
        [
         "31",
         "000c9b92318552d1",
         "Professors to the Manhatten Project."
        ],
        [
         "32",
         "000ce41d86f2b886",
         ":::::I have added more wikilinks to my sections and included more secondary sources as you suggested. For all the citations under human disease section, I went through them and exchanged review articles for the primary sources. Thanks again for all your input!"
        ],
        [
         "33",
         "000cf60dbaed8c02",
         "\" \n\n :Not sure whether this is notable enough to be mentioned in the article, but you're right – versions later than 6 (2001) can open files created by all previous versions, but save files only in its own format, with a suffix of \"\".msX\"\", where X is the version number (7, 8, 9, 10, 11, 12...). This is intentional, of course. Besides, all versions but 7 save files in a compressed format. ☭共产主义万岁★ \""
        ],
        [
         "34",
         "000d4f120d5a7303",
         "일이삼사오육칠팔구하고십이요 에헤헤 으헤 으헤 으허허"
        ],
        [
         "35",
         "000d60becb7d1a67",
         "I've deleted the page , as we have no evidence that you are the person named on that page, and its content goes against Wikipedia's policies for the use of user pages."
        ],
        [
         "36",
         "000fc381d4895598",
         "== Nation Radio - request for comment == \n\n Hi Dravecky, I'm just contacting a couple of editors with more specialist knowledge to resolve a discussion at Talk:Nation Radio about naming a broadcast area. I'd be interested in your feedback. Thanks"
        ],
        [
         "37",
         "000ff37cf57ab537",
         "\"\"\" (per your user page)\""
        ],
        [
         "38",
         "001068b809feee6b",
         "\" \n\n ==balance== \n This page has one sentence about the basic definition of the word, and a huge amount about the slang/profane uses. Perhaps the former should be extended; is there no information about female dogs available beyond their name? This is an encyclopaedia, not a dictionary.  \n\n  \n i feel that whoever is looking this definition up is very appropiate and should be deleted from wikipedia...IMMEDIATLY. this word is used very often and is also a very \"\"mean\"\" word. i belive that is majorly true. very much so. okay so, the good meaning is a female dog.  BITCH !!!!!!!!!It also stands for the name Brittany Fellows—Preceding unsigned comment added by   •    \n\n ==etymology== \n The word bitch is from the Old Norse Bikkjuna meaning \"\"female of the dog\"\" of unknown origin, Grimm derives the Old Norse words from Lapp Pittja, But OED notes that \"\"the converse is equally possible.\"\" \n The adj. Bitchy was first seen in 1925.  \n The verb meaning to complain in 1930. \n Slang Bitchen \"\"good\"\" is attested to the 1950's \n\n == reclaiming the word bitch == \n The word bitch is actually only offencive in American and Canadian English. In most other English variants bitch maintains it's correct definition - female canine. People have argued that bitch is different because it is used as an insult - but so is \"\"pig\"\", \"\"dog\"\", \"\"cow\"\" and others. These are not considered profane, so why is bitch? As far as I am concerned, there is nothing to \"\"reclaim\"\" as bitch simply means a female canine. \n\n It may be used as a pejorative or descriptor - that does not make it a profanity. \n\n    \n It should definately say something about Kyle Vanderweilen and all his bitchin Is there any particular evidence of women \"\"reclaiming\"\" the word bitch in the 90s? Can anyone point to articles on this, etc.? The song is definitely interesting and belongs here, but doesn't actually reclaim the word \"\"bitch\"\" any more than it reclaims the word \"\"sinner.\"\" \n\n Also, I don't really understand the last paragraph and it sucks  I was going to try and clear it up, but I realized I don't know what it means. Can someone point to a source that lays out the argument about bitches, fertility and patriarchy more clearly? \n\n \n\n :We don't need articles at all as I there are definitely enough examples (even outside of the 90s). Missy Elliot cleary and repeatedly reclaims the word, for instance, \"\"She's a Bitch\"\".   \n\n ::References are fine  just the name \"\"Missy Elliot\"\" got me to find a quote of a rolling stone review that mentioned \"\"reclaiming\"\" the word. In fact, if some one knows more about her, it might be interesting to add a section on her work and on how it relates to women/slurs more generally within hip-hop.   \n\n :::How relevant is this reclamation? It seems to me poison for a woman to use an epithet which still strongly connotes despised traits. I don't see how using a word connoting \"\"querolous\"\", \"\"spiteful\"\", and \"\"malicious\"\" can be empowering. But I don't know; life's a bitch.   \n\n ::::It stems from a reaction to the prevalence of tagging any woman who doesn't adhere to a certain standard of femininity as a bitch. To use a literary example, in the novel The Handmaid's Tale the narrator related the feeling that, whenever she outsmarted a man, she could almost hear him calling her a bitch in his mind, even her own husband. -   \n\n :::::That literary reaction you recited is jealousy; men have names for other men who outsmart them too, but, not having a word like \"\"bitch\"\" for them, they have to resort to a greater variety of pejoritive epithets. Though you haven't been specific, I think that standard of femininity you referred to is a pretext for subordination, which both sexes often strive to impose on the other, but men have traditionally had more power. Because it is such a popular epithet in slang, the connotations of \"\"bitch\"\" are diffuse, though still commonly pernicious. I think bitch, in itself, is not chiefly a denunciation to punish women who do not conform to that standard, but rather a contemptuous word often used for it. \n\n :::::However, I still don't see the point of reclamati"
        ],
        [
         "39",
         "0011c58fcfd6bf91",
         "\" \n\n *@EdJohnston. Your question was about figures in summary. Here are a few points about this. \n #Yes, the number of victims is important in an article about political repression. Therefore, the number (or a range of numbers) should be provided in the introduction. \n #The numbers of people \"\"killed\"\" and the number of people \"\"who died as a result of Communist policies\"\" are different. The second number is significantly greater: it is more than 60 million (rather than 20 million) in the Soviet Union alone according to The Guinness Book of Records. \n #I did not see any estimates of the number of people killed by all Communist regimes except \"\"Black book\"\", which qualifies as a secondary RS written by a group of European historians. It tells exactly this: \"\"100 million people killed by all Communist regimes\"\". They note that the number is approximate, which also should be noted in the introduction. If there are any other secondary RS that tell \"\"N million people killed by all Communist regimes\"\", they must be also used to obtain a range of numbers. \n #As a side note to others, it is grossly inappropriate to discuss sanctions at article talk pages. If you think that sanctions are needed, please go to appropriate administrative noticeboards and report your concerns there.   \""
        ],
        [
         "40",
         "0011cefc680993ba",
         "REDIRECT Talk:Mi Vida Eres Tú"
        ],
        [
         "41",
         "0011ef6aa33d42e6",
         "\" \n I'm not convinced that he was blind. Where is this documented? It's possible that he was just what we'd call \"\"Legally blind\"\" ie didn't have great vision, and that the name \"\"Blind Blake\"\" is an exaggerated moniker. Although I have no proof I've got a feeling that him being legally blind is more likely than totally blind. Of course I've got no evidence to back that thing up.\""
        ],
        [
         "42",
         "0012706ac77a7b37",
         "== Thanks for the Barnstar! == \n\n Thank you for awarding me with the RickK Anti-Vandilism Barnstar!"
        ],
        [
         "43",
         "0012bb72f20ae971",
         "\" \n\n == Ref: SS Ponzi Scheme == \n\n Hi Padillah, \n It is not my opinion that I am trying to impose here, although it may appear to be so. I am just highlighting the fact that it remains controversial whether it is or isn't a Ponzi Scheme (even if a legal one), so you cannot state as a fact that it is not a Ponzi Scheme (I saw the reference, and the perpetrator itself cannot be treated as a \"\"reliable source\"\"). In fact, claiming it is not a Ponzi Scheme seems to be an opinion in itself. My point is that a claim should not be made either way, and the edit in question just accomplishes that.  \n Thank you, \n Virat\""
        ],
        [
         "44",
         "0012bbcbd6958302",
         "\" \n\n Look, Gerry Spence has NOT \"\"never lost a case, criminal or civil.\"\" That is simply untrue. He prevailed in two cases about which he wrote books (Silkwood and the Miss Wyoming vs. Penthouse cases). He won both massively at trial, and both were completely overturned. In 1985 he represented then-15 year old Michael Jones charged with murder as a juvenile. In Oregon the trial was a criminal trial in EVERY sense except that the juvenile neither received a jury (which Spence argued at the time he was entitled to) and the sentencing authority then ended at age 21. Chief Justice Alex Kozinski of the 9Th U.S. Circuit court mentions the arrogance of trial lawyers who claim to \"\"never have lost a cast.\"\"   \"\"n19. There's one famous exception: Gerry Spence, at least to hear him tell it. See Gerry Spence, Gunning for Justice 47 (1982). But see Sherrie F. Nachman, True Lies, Starring Gerry Spence, Am. Law., Sept. 1994, at 13 (disputing Spence's claim made in Gunning for Justice and widely reported by the media, and quoting one victorious Spence adversary, \"\"It's a lie.\"\").\"\"\""
        ],
        [
         "45",
         "00137446b1aec28c",
         "== September 20th Truce == \n\n According to several news sources, a truce was reached in Minsk last night. http://www.bbc.com/news/world-europe-29290246"
        ],
        [
         "46",
         "0013a435effa29bd",
         "I'd never think I'd need to say it, but Wikipedia isn't a fansite discussion board. If anything is unannounced by any authority, it might as well be false. MMORPGs are overrated,"
        ],
        [
         "47",
         "0013be435187e84f",
         "But this is not the article about government position but about the reaction. Add positions to 2008 Kosovo declaration of independence or Foreign relations of Kosovo."
        ],
        [
         "48",
         "0013fed3aeae76b7",
         "DJ Robinson is gay as hell! he sucks his dick so much!!!!!"
        ],
        [
         "49",
         "001411adf8f1dd82",
         "== Dracula's Grandmother == \n\n  \n Dracula's grandmother was a Bulgarian princess, the sister of Ivan Sratzimir. The links with the lands across the Danube remain largely unexamined. I would appreciate any serious contributions. \n (Kaloyan)"
        ]
       ],
       "shape": {
        "columns": 2,
        "rows": 153164
       }
      },
      "text/html": [
       "<div>\n",
       "<style scoped>\n",
       "    .dataframe tbody tr th:only-of-type {\n",
       "        vertical-align: middle;\n",
       "    }\n",
       "\n",
       "    .dataframe tbody tr th {\n",
       "        vertical-align: top;\n",
       "    }\n",
       "\n",
       "    .dataframe thead th {\n",
       "        text-align: right;\n",
       "    }\n",
       "</style>\n",
       "<table border=\"1\" class=\"dataframe\">\n",
       "  <thead>\n",
       "    <tr style=\"text-align: right;\">\n",
       "      <th></th>\n",
       "      <th>id</th>\n",
       "      <th>comment_text</th>\n",
       "    </tr>\n",
       "  </thead>\n",
       "  <tbody>\n",
       "    <tr>\n",
       "      <th>0</th>\n",
       "      <td>00001cee341fdb12</td>\n",
       "      <td>Yo bitch Ja Rule is more succesful then you'll...</td>\n",
       "    </tr>\n",
       "    <tr>\n",
       "      <th>1</th>\n",
       "      <td>0000247867823ef7</td>\n",
       "      <td>== From RfC == \\n\\n The title is fine as it is...</td>\n",
       "    </tr>\n",
       "    <tr>\n",
       "      <th>2</th>\n",
       "      <td>00013b17ad220c46</td>\n",
       "      <td>\" \\n\\n == Sources == \\n\\n * Zawe Ashton on Lap...</td>\n",
       "    </tr>\n",
       "    <tr>\n",
       "      <th>3</th>\n",
       "      <td>00017563c3f7919a</td>\n",
       "      <td>:If you have a look back at the source, the in...</td>\n",
       "    </tr>\n",
       "    <tr>\n",
       "      <th>4</th>\n",
       "      <td>00017695ad8997eb</td>\n",
       "      <td>I don't anonymously edit articles at all.</td>\n",
       "    </tr>\n",
       "    <tr>\n",
       "      <th>...</th>\n",
       "      <td>...</td>\n",
       "      <td>...</td>\n",
       "    </tr>\n",
       "    <tr>\n",
       "      <th>153159</th>\n",
       "      <td>fffcd0960ee309b5</td>\n",
       "      <td>. \\n i totally agree, this stuff is nothing bu...</td>\n",
       "    </tr>\n",
       "    <tr>\n",
       "      <th>153160</th>\n",
       "      <td>fffd7a9a6eb32c16</td>\n",
       "      <td>== Throw from out field to home plate. == \\n\\n...</td>\n",
       "    </tr>\n",
       "    <tr>\n",
       "      <th>153161</th>\n",
       "      <td>fffda9e8d6fafa9e</td>\n",
       "      <td>\" \\n\\n == Okinotorishima categories == \\n\\n I ...</td>\n",
       "    </tr>\n",
       "    <tr>\n",
       "      <th>153162</th>\n",
       "      <td>fffe8f1340a79fc2</td>\n",
       "      <td>\" \\n\\n == \"\"One of the founding nations of the...</td>\n",
       "    </tr>\n",
       "    <tr>\n",
       "      <th>153163</th>\n",
       "      <td>ffffce3fb183ee80</td>\n",
       "      <td>\" \\n :::Stop already. Your bullshit is not wel...</td>\n",
       "    </tr>\n",
       "  </tbody>\n",
       "</table>\n",
       "<p>153164 rows × 2 columns</p>\n",
       "</div>"
      ],
      "text/plain": [
       "                      id                                       comment_text\n",
       "0       00001cee341fdb12  Yo bitch Ja Rule is more succesful then you'll...\n",
       "1       0000247867823ef7  == From RfC == \\n\\n The title is fine as it is...\n",
       "2       00013b17ad220c46  \" \\n\\n == Sources == \\n\\n * Zawe Ashton on Lap...\n",
       "3       00017563c3f7919a  :If you have a look back at the source, the in...\n",
       "4       00017695ad8997eb          I don't anonymously edit articles at all.\n",
       "...                  ...                                                ...\n",
       "153159  fffcd0960ee309b5  . \\n i totally agree, this stuff is nothing bu...\n",
       "153160  fffd7a9a6eb32c16  == Throw from out field to home plate. == \\n\\n...\n",
       "153161  fffda9e8d6fafa9e  \" \\n\\n == Okinotorishima categories == \\n\\n I ...\n",
       "153162  fffe8f1340a79fc2  \" \\n\\n == \"\"One of the founding nations of the...\n",
       "153163  ffffce3fb183ee80  \" \\n :::Stop already. Your bullshit is not wel...\n",
       "\n",
       "[153164 rows x 2 columns]"
      ]
     },
     "execution_count": 2,
     "metadata": {},
     "output_type": "execute_result"
    }
   ],
   "source": [
    "df_test = pd.read_csv(\"/home/azureuser/ruben/toxicity_classificator/data/original_data/test.csv\")\n",
    "df_test"
   ]
  },
  {
   "cell_type": "code",
   "execution_count": 3,
   "id": "6627d3df",
   "metadata": {},
   "outputs": [
    {
     "name": "stderr",
     "output_type": "stream",
     "text": [
      "/home/azureuser/ruben/toxicity_classificator/.venv/lib/python3.10/site-packages/transformers/convert_slow_tokenizer.py:560: UserWarning: The sentencepiece tokenizer that you are converting to a fast tokenizer uses the byte fallback option which is not implemented in the fast tokenizers. In practice this means that the fast version of the tokenizer can produce unknown tokens whereas the sentencepiece version would have converted these unknown tokens into a sequence of byte tokens matching the original piece of text.\n",
      "  warnings.warn(\n"
     ]
    }
   ],
   "source": [
    "tokenizer = AutoTokenizer.from_pretrained(MODEL_BASE)"
   ]
  },
  {
   "cell_type": "code",
   "execution_count": 4,
   "id": "bd0a6671",
   "metadata": {},
   "outputs": [],
   "source": [
    "def tokenize(batch):\n",
    "    return tokenizer(batch[\"comment_text\"], padding=\"max_length\", truncation=True, max_length=MAX_LENGTH)"
   ]
  },
  {
   "cell_type": "code",
   "execution_count": 5,
   "id": "443906fd",
   "metadata": {},
   "outputs": [
    {
     "data": {
      "application/vnd.jupyter.widget-view+json": {
       "model_id": "8ea07c58268c4163ac3bb8b4e216ff70",
       "version_major": 2,
       "version_minor": 0
      },
      "text/plain": [
       "Map:   0%|          | 0/153164 [00:00<?, ? examples/s]"
      ]
     },
     "metadata": {},
     "output_type": "display_data"
    },
    {
     "data": {
      "application/vnd.jupyter.widget-view+json": {
       "model_id": "3f39cc78ea2342f1a8c58102dc60e852",
       "version_major": 2,
       "version_minor": 0
      },
      "text/plain": [
       "Saving the dataset (0/1 shards):   0%|          | 0/153164 [00:00<?, ? examples/s]"
      ]
     },
     "metadata": {},
     "output_type": "display_data"
    },
    {
     "data": {
      "text/plain": [
       "Dataset({\n",
       "    features: ['id', 'input_ids', 'token_type_ids', 'attention_mask'],\n",
       "    num_rows: 153164\n",
       "})"
      ]
     },
     "execution_count": 5,
     "metadata": {},
     "output_type": "execute_result"
    }
   ],
   "source": [
    "ds_test_raw = Dataset.from_pandas(df_test)\n",
    "# ds_test_raw = ds_test_raw.map(add_label_vector, batched=True)\n",
    "ds_test_tokenized = ds_test_raw.map(tokenize, batched=True, remove_columns=[\"comment_text\"])\n",
    "ds_test_tokenized.save_to_disk(PATH_DS_TEST_TOKENIZED)\n",
    "ds_test_tokenized"
   ]
  },
  {
   "cell_type": "code",
   "execution_count": null,
   "id": "d4099961",
   "metadata": {},
   "outputs": [],
   "source": []
  },
  {
   "cell_type": "code",
   "execution_count": 6,
   "id": "a90f69f5",
   "metadata": {},
   "outputs": [
    {
     "name": "stdout",
     "output_type": "stream",
     "text": [
      "Processing fold 0...\n"
     ]
    },
    {
     "data": {
      "text/html": [],
      "text/plain": [
       "<IPython.core.display.HTML object>"
      ]
     },
     "metadata": {},
     "output_type": "display_data"
    },
    {
     "name": "stdout",
     "output_type": "stream",
     "text": [
      "Processing fold 1...\n"
     ]
    },
    {
     "data": {
      "text/html": [],
      "text/plain": [
       "<IPython.core.display.HTML object>"
      ]
     },
     "metadata": {},
     "output_type": "display_data"
    },
    {
     "name": "stdout",
     "output_type": "stream",
     "text": [
      "Processing fold 2...\n"
     ]
    },
    {
     "data": {
      "text/html": [],
      "text/plain": [
       "<IPython.core.display.HTML object>"
      ]
     },
     "metadata": {},
     "output_type": "display_data"
    },
    {
     "name": "stdout",
     "output_type": "stream",
     "text": [
      "Processing fold 3...\n"
     ]
    },
    {
     "data": {
      "text/html": [],
      "text/plain": [
       "<IPython.core.display.HTML object>"
      ]
     },
     "metadata": {},
     "output_type": "display_data"
    },
    {
     "name": "stdout",
     "output_type": "stream",
     "text": [
      "Processing fold 4...\n"
     ]
    },
    {
     "data": {
      "text/html": [],
      "text/plain": [
       "<IPython.core.display.HTML object>"
      ]
     },
     "metadata": {},
     "output_type": "display_data"
    }
   ],
   "source": [
    "preds_folds = {fold_id: {\"model\": None, \"trainer\": None, \"predictions\": None} for fold_id in range(5)}\n",
    "\n",
    "for fold_id in range(5):\n",
    "    print(f\"Processing fold {fold_id}...\")\n",
    "    path_model_trained = os.path.join(\"checkpoints\", MODEL_BASE, f\"fold_{fold_id}\", \"model_final\")\n",
    "    model = AutoModelForSequenceClassification.from_pretrained(path_model_trained).to(\"cuda\")\n",
    "    model.eval()\n",
    "    trainer = Trainer(model=model, compute_metrics=None)\n",
    "    preds = trainer.predict(ds_test_tokenized).predictions\n",
    "    preds_folds[fold_id][\"model\"] = model\n",
    "    preds_folds[fold_id][\"trainer\"] = trainer\n",
    "    preds_folds[fold_id][\"predictions\"] = preds\n",
    "\n",
    "predictions_list = [preds_folds[fold_id][\"predictions\"] for fold_id in range(5)]\n",
    "logits_mean = np.mean(predictions_list, axis=0)\n",
    "probs = 1 / (1 + np.exp(-logits_mean))"
   ]
  },
  {
   "cell_type": "code",
   "execution_count": 36,
   "id": "54edde58",
   "metadata": {},
   "outputs": [],
   "source": [
    "with open(PATH_PREDICTIONS_DICT, \"wb\") as f:\n",
    "    pickle.dump(preds_folds, f)"
   ]
  },
  {
   "cell_type": "code",
   "execution_count": 31,
   "id": "9f714456",
   "metadata": {},
   "outputs": [
    {
     "data": {
      "application/vnd.microsoft.datawrangler.viewer.v0+json": {
       "columns": [
        {
         "name": "index",
         "rawType": "int64",
         "type": "integer"
        },
        {
         "name": "id",
         "rawType": "object",
         "type": "string"
        },
        {
         "name": "toxic",
         "rawType": "float32",
         "type": "float"
        },
        {
         "name": "severe_toxic",
         "rawType": "float32",
         "type": "float"
        },
        {
         "name": "obscene",
         "rawType": "float32",
         "type": "float"
        },
        {
         "name": "threat",
         "rawType": "float32",
         "type": "float"
        },
        {
         "name": "insult",
         "rawType": "float32",
         "type": "float"
        },
        {
         "name": "identity_hate",
         "rawType": "float32",
         "type": "float"
        }
       ],
       "ref": "680cece2-5ec7-4d57-bc70-b4cb15a77f17",
       "rows": [
        [
         "0",
         "00001cee341fdb12",
         "0.9932346",
         "0.46393934",
         "0.969114",
         "0.102317095",
         "0.95121294",
         "0.6730247"
        ],
        [
         "1",
         "0000247867823ef7",
         "0.00011849248",
         "1.4959809e-05",
         "5.3729364e-05",
         "1.8958728e-05",
         "4.0598876e-05",
         "2.7962637e-05"
        ],
        [
         "2",
         "00013b17ad220c46",
         "0.00012140555",
         "1.6275751e-05",
         "5.5673536e-05",
         "1.9984496e-05",
         "4.093676e-05",
         "2.972908e-05"
        ],
        [
         "3",
         "00017563c3f7919a",
         "0.00011774167",
         "1.4494255e-05",
         "5.3406613e-05",
         "1.8176803e-05",
         "4.0618936e-05",
         "2.6954544e-05"
        ],
        [
         "4",
         "00017695ad8997eb",
         "0.00014832887",
         "1.2046768e-05",
         "4.836704e-05",
         "1.6667722e-05",
         "3.5753532e-05",
         "2.4035906e-05"
        ],
        [
         "5",
         "0001ea8717f6de06",
         "0.00012705527",
         "1.4186208e-05",
         "5.103753e-05",
         "1.8833145e-05",
         "3.968924e-05",
         "2.6512276e-05"
        ],
        [
         "6",
         "00024115d4cbde0f",
         "0.0001245101",
         "1.4126523e-05",
         "5.0900653e-05",
         "1.8277344e-05",
         "3.848252e-05",
         "2.6663141e-05"
        ],
        [
         "7",
         "000247e83dcc1211",
         "0.517046",
         "0.00017397525",
         "0.0078840405",
         "0.00069503306",
         "0.021621697",
         "0.0007292294"
        ],
        [
         "8",
         "00025358d4737918",
         "0.21869129",
         "0.00023148065",
         "0.0039408486",
         "0.00081724767",
         "0.033973098",
         "0.0052034263"
        ],
        [
         "9",
         "00026d1092fe71cc",
         "0.00013027532",
         "1.3789894e-05",
         "5.2584983e-05",
         "1.8617005e-05",
         "3.7478963e-05",
         "2.7050464e-05"
        ],
        [
         "10",
         "0002eadc3b301559",
         "0.689564",
         "0.000988684",
         "0.28057227",
         "0.0006434752",
         "0.04293285",
         "0.0015002491"
        ],
        [
         "11",
         "0002f87b16116a7f",
         "0.31419536",
         "0.0003117527",
         "0.055958446",
         "0.00039061933",
         "0.017916782",
         "0.0013569586"
        ],
        [
         "12",
         "0003806b11932181",
         "0.00012970835",
         "1.2987136e-05",
         "5.300871e-05",
         "1.6785843e-05",
         "3.7862992e-05",
         "2.5180067e-05"
        ],
        [
         "13",
         "0003e1cccfd5a40a",
         "0.0001225226",
         "1.43130355e-05",
         "5.438829e-05",
         "1.8701028e-05",
         "3.8733284e-05",
         "2.7946267e-05"
        ],
        [
         "14",
         "00059ace3e3e9a53",
         "0.00011875106",
         "1.4633925e-05",
         "5.387153e-05",
         "1.8118084e-05",
         "4.1295327e-05",
         "2.7276115e-05"
        ],
        [
         "15",
         "000634272d0d44eb",
         "0.00013504813",
         "1.3246779e-05",
         "5.134733e-05",
         "1.7299048e-05",
         "3.7196e-05",
         "2.5377185e-05"
        ],
        [
         "16",
         "000663aff0fffc80",
         "0.0001514274",
         "1.4506536e-05",
         "5.7495723e-05",
         "1.9477644e-05",
         "4.7190115e-05",
         "2.9824636e-05"
        ],
        [
         "17",
         "000689dd34e20979",
         "0.00013213507",
         "1.3213824e-05",
         "5.2456766e-05",
         "1.7729975e-05",
         "3.741379e-05",
         "2.5471381e-05"
        ],
        [
         "18",
         "000834769115370c",
         "0.00015769241",
         "1.1399851e-05",
         "5.4496173e-05",
         "1.6025611e-05",
         "3.606519e-05",
         "2.415468e-05"
        ],
        [
         "19",
         "000844b52dee5f3f",
         "0.00014557468",
         "1.31147835e-05",
         "4.9522518e-05",
         "1.6345299e-05",
         "3.7416252e-05",
         "2.4980402e-05"
        ],
        [
         "20",
         "00084da5d4ead7aa",
         "0.00079419854",
         "9.843181e-06",
         "7.372101e-05",
         "1.8252485e-05",
         "6.0103506e-05",
         "3.0747906e-05"
        ],
        [
         "21",
         "00091c35fa9d0465",
         "0.8737378",
         "0.046234187",
         "0.0544884",
         "0.3924324",
         "0.12533225",
         "0.2732376"
        ],
        [
         "22",
         "000968ce11f5ee34",
         "0.10642963",
         "0.00016649904",
         "0.0010227697",
         "0.0011101782",
         "0.00423761",
         "0.0026998047"
        ],
        [
         "23",
         "0009734200a85047",
         "0.00015901696",
         "1.1215808e-05",
         "5.261799e-05",
         "1.5737352e-05",
         "3.7273905e-05",
         "2.3674267e-05"
        ],
        [
         "24",
         "00097b6214686db5",
         "0.36807612",
         "0.00052126526",
         "0.092379995",
         "0.00063265045",
         "0.011331738",
         "0.0013991245"
        ],
        [
         "25",
         "0009aef4bd9e1697",
         "0.00041770304",
         "1.0294362e-05",
         "8.712865e-05",
         "1.6370366e-05",
         "4.8586397e-05",
         "2.9745614e-05"
        ],
        [
         "26",
         "000a02d807ae0254",
         "0.00012908476",
         "1.3597302e-05",
         "5.33045e-05",
         "1.823681e-05",
         "3.7234327e-05",
         "2.6693368e-05"
        ],
        [
         "27",
         "000a6c6d4e89b9bc",
         "0.00482324",
         "1.8409068e-05",
         "0.00021899516",
         "4.6397745e-05",
         "0.00019308407",
         "9.991002e-05"
        ],
        [
         "28",
         "000bafe2080bba82",
         "0.004983693",
         "2.1639788e-05",
         "0.00020276278",
         "5.9716214e-05",
         "0.00027219768",
         "0.00017753323"
        ],
        [
         "29",
         "000bf0a9894b2807",
         "0.00012579873",
         "1.3691144e-05",
         "5.276029e-05",
         "1.7872388e-05",
         "3.8392314e-05",
         "2.6883023e-05"
        ],
        [
         "30",
         "000c50dceb1eed2b",
         "0.0001244009",
         "1.4369741e-05",
         "5.576754e-05",
         "1.8425733e-05",
         "3.9472918e-05",
         "2.7733422e-05"
        ],
        [
         "31",
         "000c9b92318552d1",
         "0.00013885058",
         "1.35015525e-05",
         "5.4746928e-05",
         "1.8671377e-05",
         "4.134849e-05",
         "2.6049529e-05"
        ],
        [
         "32",
         "000ce41d86f2b886",
         "0.0001219646",
         "1.4125823e-05",
         "5.3070777e-05",
         "1.8137462e-05",
         "3.87132e-05",
         "2.722009e-05"
        ],
        [
         "33",
         "000cf60dbaed8c02",
         "0.00012642924",
         "1.3273817e-05",
         "5.2861513e-05",
         "1.8201228e-05",
         "3.9789247e-05",
         "2.6547645e-05"
        ],
        [
         "34",
         "000d4f120d5a7303",
         "0.27370366",
         "0.0006511962",
         "0.021628084",
         "0.0010164275",
         "0.01314462",
         "0.0036203742"
        ],
        [
         "35",
         "000d60becb7d1a67",
         "0.0001598124",
         "1.0876378e-05",
         "4.74314e-05",
         "1.4990243e-05",
         "3.598205e-05",
         "2.2852677e-05"
        ],
        [
         "36",
         "000fc381d4895598",
         "0.000116972304",
         "1.5213833e-05",
         "5.500754e-05",
         "1.9192506e-05",
         "4.1212203e-05",
         "2.8606411e-05"
        ],
        [
         "37",
         "000ff37cf57ab537",
         "0.00013184974",
         "1.4524282e-05",
         "5.5580753e-05",
         "1.7840408e-05",
         "4.2572054e-05",
         "2.7756678e-05"
        ],
        [
         "38",
         "001068b809feee6b",
         "0.34960607",
         "0.0010752891",
         "0.25073725",
         "0.0007687715",
         "0.040358912",
         "0.004683087"
        ],
        [
         "39",
         "0011c58fcfd6bf91",
         "0.00014370056",
         "1.196673e-05",
         "5.5412725e-05",
         "1.7093858e-05",
         "3.791636e-05",
         "2.500216e-05"
        ],
        [
         "40",
         "0011cefc680993ba",
         "0.025035061",
         "5.5468765e-05",
         "0.0014182295",
         "0.00010837769",
         "0.0006861155",
         "0.00022269072"
        ],
        [
         "41",
         "0011ef6aa33d42e6",
         "0.00030118178",
         "9.314481e-06",
         "5.968803e-05",
         "1.5126927e-05",
         "4.0198327e-05",
         "2.5125255e-05"
        ],
        [
         "42",
         "0012706ac77a7b37",
         "0.00013386858",
         "1.3419156e-05",
         "5.2702355e-05",
         "1.751231e-05",
         "3.798121e-05",
         "2.6279335e-05"
        ],
        [
         "43",
         "0012bb72f20ae971",
         "0.00013343744",
         "1.2748608e-05",
         "5.4844746e-05",
         "1.7646156e-05",
         "3.839418e-05",
         "2.61209e-05"
        ],
        [
         "44",
         "0012bbcbd6958302",
         "0.00069237273",
         "1.1369917e-05",
         "0.00010666488",
         "1.9771162e-05",
         "6.129126e-05",
         "3.7785478e-05"
        ],
        [
         "45",
         "00137446b1aec28c",
         "0.0001283618",
         "1.3956728e-05",
         "5.4407432e-05",
         "1.8229663e-05",
         "4.0746654e-05",
         "2.6862006e-05"
        ],
        [
         "46",
         "0013a435effa29bd",
         "0.0011629902",
         "9.8793125e-06",
         "9.285292e-05",
         "1.9649866e-05",
         "7.840896e-05",
         "3.865178e-05"
        ],
        [
         "47",
         "0013be435187e84f",
         "0.00011788086",
         "1.5747066e-05",
         "5.447778e-05",
         "1.8887555e-05",
         "4.270815e-05",
         "2.8611756e-05"
        ],
        [
         "48",
         "0013fed3aeae76b7",
         "0.99375916",
         "0.469641",
         "0.96666104",
         "0.08006834",
         "0.9296449",
         "0.74429524"
        ],
        [
         "49",
         "001411adf8f1dd82",
         "0.00013234412",
         "1.267953e-05",
         "5.2721458e-05",
         "1.6943553e-05",
         "3.7869093e-05",
         "2.5104395e-05"
        ]
       ],
       "shape": {
        "columns": 7,
        "rows": 153164
       }
      },
      "text/html": [
       "<div>\n",
       "<style scoped>\n",
       "    .dataframe tbody tr th:only-of-type {\n",
       "        vertical-align: middle;\n",
       "    }\n",
       "\n",
       "    .dataframe tbody tr th {\n",
       "        vertical-align: top;\n",
       "    }\n",
       "\n",
       "    .dataframe thead th {\n",
       "        text-align: right;\n",
       "    }\n",
       "</style>\n",
       "<table border=\"1\" class=\"dataframe\">\n",
       "  <thead>\n",
       "    <tr style=\"text-align: right;\">\n",
       "      <th></th>\n",
       "      <th>id</th>\n",
       "      <th>toxic</th>\n",
       "      <th>severe_toxic</th>\n",
       "      <th>obscene</th>\n",
       "      <th>threat</th>\n",
       "      <th>insult</th>\n",
       "      <th>identity_hate</th>\n",
       "    </tr>\n",
       "  </thead>\n",
       "  <tbody>\n",
       "    <tr>\n",
       "      <th>0</th>\n",
       "      <td>00001cee341fdb12</td>\n",
       "      <td>0.993235</td>\n",
       "      <td>0.463939</td>\n",
       "      <td>0.969114</td>\n",
       "      <td>0.102317</td>\n",
       "      <td>0.951213</td>\n",
       "      <td>0.673025</td>\n",
       "    </tr>\n",
       "    <tr>\n",
       "      <th>1</th>\n",
       "      <td>0000247867823ef7</td>\n",
       "      <td>0.000118</td>\n",
       "      <td>0.000015</td>\n",
       "      <td>0.000054</td>\n",
       "      <td>0.000019</td>\n",
       "      <td>0.000041</td>\n",
       "      <td>0.000028</td>\n",
       "    </tr>\n",
       "    <tr>\n",
       "      <th>2</th>\n",
       "      <td>00013b17ad220c46</td>\n",
       "      <td>0.000121</td>\n",
       "      <td>0.000016</td>\n",
       "      <td>0.000056</td>\n",
       "      <td>0.000020</td>\n",
       "      <td>0.000041</td>\n",
       "      <td>0.000030</td>\n",
       "    </tr>\n",
       "    <tr>\n",
       "      <th>3</th>\n",
       "      <td>00017563c3f7919a</td>\n",
       "      <td>0.000118</td>\n",
       "      <td>0.000014</td>\n",
       "      <td>0.000053</td>\n",
       "      <td>0.000018</td>\n",
       "      <td>0.000041</td>\n",
       "      <td>0.000027</td>\n",
       "    </tr>\n",
       "    <tr>\n",
       "      <th>4</th>\n",
       "      <td>00017695ad8997eb</td>\n",
       "      <td>0.000148</td>\n",
       "      <td>0.000012</td>\n",
       "      <td>0.000048</td>\n",
       "      <td>0.000017</td>\n",
       "      <td>0.000036</td>\n",
       "      <td>0.000024</td>\n",
       "    </tr>\n",
       "    <tr>\n",
       "      <th>...</th>\n",
       "      <td>...</td>\n",
       "      <td>...</td>\n",
       "      <td>...</td>\n",
       "      <td>...</td>\n",
       "      <td>...</td>\n",
       "      <td>...</td>\n",
       "      <td>...</td>\n",
       "    </tr>\n",
       "    <tr>\n",
       "      <th>153159</th>\n",
       "      <td>fffcd0960ee309b5</td>\n",
       "      <td>0.831779</td>\n",
       "      <td>0.001356</td>\n",
       "      <td>0.413287</td>\n",
       "      <td>0.000689</td>\n",
       "      <td>0.091312</td>\n",
       "      <td>0.001200</td>\n",
       "    </tr>\n",
       "    <tr>\n",
       "      <th>153160</th>\n",
       "      <td>fffd7a9a6eb32c16</td>\n",
       "      <td>0.000268</td>\n",
       "      <td>0.000010</td>\n",
       "      <td>0.000057</td>\n",
       "      <td>0.000017</td>\n",
       "      <td>0.000038</td>\n",
       "      <td>0.000027</td>\n",
       "    </tr>\n",
       "    <tr>\n",
       "      <th>153161</th>\n",
       "      <td>fffda9e8d6fafa9e</td>\n",
       "      <td>0.000134</td>\n",
       "      <td>0.000013</td>\n",
       "      <td>0.000054</td>\n",
       "      <td>0.000017</td>\n",
       "      <td>0.000038</td>\n",
       "      <td>0.000026</td>\n",
       "    </tr>\n",
       "    <tr>\n",
       "      <th>153162</th>\n",
       "      <td>fffe8f1340a79fc2</td>\n",
       "      <td>0.000149</td>\n",
       "      <td>0.000012</td>\n",
       "      <td>0.000052</td>\n",
       "      <td>0.000018</td>\n",
       "      <td>0.000038</td>\n",
       "      <td>0.000026</td>\n",
       "    </tr>\n",
       "    <tr>\n",
       "      <th>153163</th>\n",
       "      <td>ffffce3fb183ee80</td>\n",
       "      <td>0.979067</td>\n",
       "      <td>0.011397</td>\n",
       "      <td>0.872453</td>\n",
       "      <td>0.001830</td>\n",
       "      <td>0.527921</td>\n",
       "      <td>0.003135</td>\n",
       "    </tr>\n",
       "  </tbody>\n",
       "</table>\n",
       "<p>153164 rows × 7 columns</p>\n",
       "</div>"
      ],
      "text/plain": [
       "                      id     toxic  severe_toxic   obscene    threat  \\\n",
       "0       00001cee341fdb12  0.993235      0.463939  0.969114  0.102317   \n",
       "1       0000247867823ef7  0.000118      0.000015  0.000054  0.000019   \n",
       "2       00013b17ad220c46  0.000121      0.000016  0.000056  0.000020   \n",
       "3       00017563c3f7919a  0.000118      0.000014  0.000053  0.000018   \n",
       "4       00017695ad8997eb  0.000148      0.000012  0.000048  0.000017   \n",
       "...                  ...       ...           ...       ...       ...   \n",
       "153159  fffcd0960ee309b5  0.831779      0.001356  0.413287  0.000689   \n",
       "153160  fffd7a9a6eb32c16  0.000268      0.000010  0.000057  0.000017   \n",
       "153161  fffda9e8d6fafa9e  0.000134      0.000013  0.000054  0.000017   \n",
       "153162  fffe8f1340a79fc2  0.000149      0.000012  0.000052  0.000018   \n",
       "153163  ffffce3fb183ee80  0.979067      0.011397  0.872453  0.001830   \n",
       "\n",
       "          insult  identity_hate  \n",
       "0       0.951213       0.673025  \n",
       "1       0.000041       0.000028  \n",
       "2       0.000041       0.000030  \n",
       "3       0.000041       0.000027  \n",
       "4       0.000036       0.000024  \n",
       "...          ...            ...  \n",
       "153159  0.091312       0.001200  \n",
       "153160  0.000038       0.000027  \n",
       "153161  0.000038       0.000026  \n",
       "153162  0.000038       0.000026  \n",
       "153163  0.527921       0.003135  \n",
       "\n",
       "[153164 rows x 7 columns]"
      ]
     },
     "execution_count": 31,
     "metadata": {},
     "output_type": "execute_result"
    }
   ],
   "source": [
    "label_cols = [\"toxic\", \"severe_toxic\", \"obscene\", \"threat\", \"insult\", \"identity_hate\"]\n",
    "df_submission = pd.DataFrame(probs, columns=label_cols)\n",
    "df_submission.insert(0, \"id\", df_test[\"id\"])\n",
    "df_submission.to_csv(PATH_DF_SUBMISSION, index=False)\n",
    "df_submission"
   ]
  },
  {
   "cell_type": "code",
   "execution_count": 8,
   "id": "d4d4213e",
   "metadata": {},
   "outputs": [
    {
     "data": {
      "application/vnd.microsoft.datawrangler.viewer.v0+json": {
       "columns": [
        {
         "name": "index",
         "rawType": "int64",
         "type": "integer"
        },
        {
         "name": "id",
         "rawType": "object",
         "type": "string"
        },
        {
         "name": "toxic",
         "rawType": "int64",
         "type": "integer"
        },
        {
         "name": "severe_toxic",
         "rawType": "int64",
         "type": "integer"
        },
        {
         "name": "obscene",
         "rawType": "int64",
         "type": "integer"
        },
        {
         "name": "threat",
         "rawType": "int64",
         "type": "integer"
        },
        {
         "name": "insult",
         "rawType": "int64",
         "type": "integer"
        },
        {
         "name": "identity_hate",
         "rawType": "int64",
         "type": "integer"
        }
       ],
       "ref": "77fff780-716e-4e10-9059-98a4f219862b",
       "rows": [
        [
         "0",
         "00001cee341fdb12",
         "-1",
         "-1",
         "-1",
         "-1",
         "-1",
         "-1"
        ],
        [
         "1",
         "0000247867823ef7",
         "-1",
         "-1",
         "-1",
         "-1",
         "-1",
         "-1"
        ],
        [
         "2",
         "00013b17ad220c46",
         "-1",
         "-1",
         "-1",
         "-1",
         "-1",
         "-1"
        ],
        [
         "3",
         "00017563c3f7919a",
         "-1",
         "-1",
         "-1",
         "-1",
         "-1",
         "-1"
        ],
        [
         "4",
         "00017695ad8997eb",
         "-1",
         "-1",
         "-1",
         "-1",
         "-1",
         "-1"
        ],
        [
         "5",
         "0001ea8717f6de06",
         "0",
         "0",
         "0",
         "0",
         "0",
         "0"
        ],
        [
         "6",
         "00024115d4cbde0f",
         "-1",
         "-1",
         "-1",
         "-1",
         "-1",
         "-1"
        ],
        [
         "7",
         "000247e83dcc1211",
         "0",
         "0",
         "0",
         "0",
         "0",
         "0"
        ],
        [
         "8",
         "00025358d4737918",
         "-1",
         "-1",
         "-1",
         "-1",
         "-1",
         "-1"
        ],
        [
         "9",
         "00026d1092fe71cc",
         "-1",
         "-1",
         "-1",
         "-1",
         "-1",
         "-1"
        ],
        [
         "10",
         "0002eadc3b301559",
         "-1",
         "-1",
         "-1",
         "-1",
         "-1",
         "-1"
        ],
        [
         "11",
         "0002f87b16116a7f",
         "0",
         "0",
         "0",
         "0",
         "0",
         "0"
        ],
        [
         "12",
         "0003806b11932181",
         "-1",
         "-1",
         "-1",
         "-1",
         "-1",
         "-1"
        ],
        [
         "13",
         "0003e1cccfd5a40a",
         "0",
         "0",
         "0",
         "0",
         "0",
         "0"
        ],
        [
         "14",
         "00059ace3e3e9a53",
         "0",
         "0",
         "0",
         "0",
         "0",
         "0"
        ],
        [
         "15",
         "000634272d0d44eb",
         "-1",
         "-1",
         "-1",
         "-1",
         "-1",
         "-1"
        ],
        [
         "16",
         "000663aff0fffc80",
         "0",
         "0",
         "0",
         "0",
         "0",
         "0"
        ],
        [
         "17",
         "000689dd34e20979",
         "0",
         "0",
         "0",
         "0",
         "0",
         "0"
        ],
        [
         "18",
         "000834769115370c",
         "-1",
         "-1",
         "-1",
         "-1",
         "-1",
         "-1"
        ],
        [
         "19",
         "000844b52dee5f3f",
         "0",
         "0",
         "0",
         "0",
         "0",
         "0"
        ],
        [
         "20",
         "00084da5d4ead7aa",
         "-1",
         "-1",
         "-1",
         "-1",
         "-1",
         "-1"
        ],
        [
         "21",
         "00091c35fa9d0465",
         "1",
         "0",
         "0",
         "0",
         "0",
         "0"
        ],
        [
         "22",
         "000968ce11f5ee34",
         "0",
         "0",
         "0",
         "0",
         "0",
         "0"
        ],
        [
         "23",
         "0009734200a85047",
         "0",
         "0",
         "0",
         "0",
         "0",
         "0"
        ],
        [
         "24",
         "00097b6214686db5",
         "-1",
         "-1",
         "-1",
         "-1",
         "-1",
         "-1"
        ],
        [
         "25",
         "0009aef4bd9e1697",
         "-1",
         "-1",
         "-1",
         "-1",
         "-1",
         "-1"
        ],
        [
         "26",
         "000a02d807ae0254",
         "0",
         "0",
         "0",
         "0",
         "0",
         "0"
        ],
        [
         "27",
         "000a6c6d4e89b9bc",
         "-1",
         "-1",
         "-1",
         "-1",
         "-1",
         "-1"
        ],
        [
         "28",
         "000bafe2080bba82",
         "0",
         "0",
         "0",
         "0",
         "0",
         "0"
        ],
        [
         "29",
         "000bf0a9894b2807",
         "0",
         "0",
         "0",
         "0",
         "0",
         "0"
        ],
        [
         "30",
         "000c50dceb1eed2b",
         "-1",
         "-1",
         "-1",
         "-1",
         "-1",
         "-1"
        ],
        [
         "31",
         "000c9b92318552d1",
         "0",
         "0",
         "0",
         "0",
         "0",
         "0"
        ],
        [
         "32",
         "000ce41d86f2b886",
         "-1",
         "-1",
         "-1",
         "-1",
         "-1",
         "-1"
        ],
        [
         "33",
         "000cf60dbaed8c02",
         "0",
         "0",
         "0",
         "0",
         "0",
         "0"
        ],
        [
         "34",
         "000d4f120d5a7303",
         "0",
         "0",
         "0",
         "0",
         "0",
         "0"
        ],
        [
         "35",
         "000d60becb7d1a67",
         "-1",
         "-1",
         "-1",
         "-1",
         "-1",
         "-1"
        ],
        [
         "36",
         "000fc381d4895598",
         "-1",
         "-1",
         "-1",
         "-1",
         "-1",
         "-1"
        ],
        [
         "37",
         "000ff37cf57ab537",
         "-1",
         "-1",
         "-1",
         "-1",
         "-1",
         "-1"
        ],
        [
         "38",
         "001068b809feee6b",
         "0",
         "0",
         "0",
         "0",
         "0",
         "0"
        ],
        [
         "39",
         "0011c58fcfd6bf91",
         "-1",
         "-1",
         "-1",
         "-1",
         "-1",
         "-1"
        ],
        [
         "40",
         "0011cefc680993ba",
         "0",
         "0",
         "0",
         "0",
         "0",
         "0"
        ],
        [
         "41",
         "0011ef6aa33d42e6",
         "0",
         "0",
         "0",
         "0",
         "0",
         "0"
        ],
        [
         "42",
         "0012706ac77a7b37",
         "-1",
         "-1",
         "-1",
         "-1",
         "-1",
         "-1"
        ],
        [
         "43",
         "0012bb72f20ae971",
         "0",
         "0",
         "0",
         "0",
         "0",
         "0"
        ],
        [
         "44",
         "0012bbcbd6958302",
         "-1",
         "-1",
         "-1",
         "-1",
         "-1",
         "-1"
        ],
        [
         "45",
         "00137446b1aec28c",
         "0",
         "0",
         "0",
         "0",
         "0",
         "0"
        ],
        [
         "46",
         "0013a435effa29bd",
         "0",
         "0",
         "0",
         "0",
         "0",
         "0"
        ],
        [
         "47",
         "0013be435187e84f",
         "0",
         "0",
         "0",
         "0",
         "0",
         "0"
        ],
        [
         "48",
         "0013fed3aeae76b7",
         "1",
         "0",
         "1",
         "0",
         "1",
         "1"
        ],
        [
         "49",
         "001411adf8f1dd82",
         "0",
         "0",
         "0",
         "0",
         "0",
         "0"
        ]
       ],
       "shape": {
        "columns": 7,
        "rows": 153164
       }
      },
      "text/html": [
       "<div>\n",
       "<style scoped>\n",
       "    .dataframe tbody tr th:only-of-type {\n",
       "        vertical-align: middle;\n",
       "    }\n",
       "\n",
       "    .dataframe tbody tr th {\n",
       "        vertical-align: top;\n",
       "    }\n",
       "\n",
       "    .dataframe thead th {\n",
       "        text-align: right;\n",
       "    }\n",
       "</style>\n",
       "<table border=\"1\" class=\"dataframe\">\n",
       "  <thead>\n",
       "    <tr style=\"text-align: right;\">\n",
       "      <th></th>\n",
       "      <th>id</th>\n",
       "      <th>toxic</th>\n",
       "      <th>severe_toxic</th>\n",
       "      <th>obscene</th>\n",
       "      <th>threat</th>\n",
       "      <th>insult</th>\n",
       "      <th>identity_hate</th>\n",
       "    </tr>\n",
       "  </thead>\n",
       "  <tbody>\n",
       "    <tr>\n",
       "      <th>0</th>\n",
       "      <td>00001cee341fdb12</td>\n",
       "      <td>-1</td>\n",
       "      <td>-1</td>\n",
       "      <td>-1</td>\n",
       "      <td>-1</td>\n",
       "      <td>-1</td>\n",
       "      <td>-1</td>\n",
       "    </tr>\n",
       "    <tr>\n",
       "      <th>1</th>\n",
       "      <td>0000247867823ef7</td>\n",
       "      <td>-1</td>\n",
       "      <td>-1</td>\n",
       "      <td>-1</td>\n",
       "      <td>-1</td>\n",
       "      <td>-1</td>\n",
       "      <td>-1</td>\n",
       "    </tr>\n",
       "    <tr>\n",
       "      <th>2</th>\n",
       "      <td>00013b17ad220c46</td>\n",
       "      <td>-1</td>\n",
       "      <td>-1</td>\n",
       "      <td>-1</td>\n",
       "      <td>-1</td>\n",
       "      <td>-1</td>\n",
       "      <td>-1</td>\n",
       "    </tr>\n",
       "    <tr>\n",
       "      <th>3</th>\n",
       "      <td>00017563c3f7919a</td>\n",
       "      <td>-1</td>\n",
       "      <td>-1</td>\n",
       "      <td>-1</td>\n",
       "      <td>-1</td>\n",
       "      <td>-1</td>\n",
       "      <td>-1</td>\n",
       "    </tr>\n",
       "    <tr>\n",
       "      <th>4</th>\n",
       "      <td>00017695ad8997eb</td>\n",
       "      <td>-1</td>\n",
       "      <td>-1</td>\n",
       "      <td>-1</td>\n",
       "      <td>-1</td>\n",
       "      <td>-1</td>\n",
       "      <td>-1</td>\n",
       "    </tr>\n",
       "    <tr>\n",
       "      <th>...</th>\n",
       "      <td>...</td>\n",
       "      <td>...</td>\n",
       "      <td>...</td>\n",
       "      <td>...</td>\n",
       "      <td>...</td>\n",
       "      <td>...</td>\n",
       "      <td>...</td>\n",
       "    </tr>\n",
       "    <tr>\n",
       "      <th>153159</th>\n",
       "      <td>fffcd0960ee309b5</td>\n",
       "      <td>-1</td>\n",
       "      <td>-1</td>\n",
       "      <td>-1</td>\n",
       "      <td>-1</td>\n",
       "      <td>-1</td>\n",
       "      <td>-1</td>\n",
       "    </tr>\n",
       "    <tr>\n",
       "      <th>153160</th>\n",
       "      <td>fffd7a9a6eb32c16</td>\n",
       "      <td>-1</td>\n",
       "      <td>-1</td>\n",
       "      <td>-1</td>\n",
       "      <td>-1</td>\n",
       "      <td>-1</td>\n",
       "      <td>-1</td>\n",
       "    </tr>\n",
       "    <tr>\n",
       "      <th>153161</th>\n",
       "      <td>fffda9e8d6fafa9e</td>\n",
       "      <td>-1</td>\n",
       "      <td>-1</td>\n",
       "      <td>-1</td>\n",
       "      <td>-1</td>\n",
       "      <td>-1</td>\n",
       "      <td>-1</td>\n",
       "    </tr>\n",
       "    <tr>\n",
       "      <th>153162</th>\n",
       "      <td>fffe8f1340a79fc2</td>\n",
       "      <td>-1</td>\n",
       "      <td>-1</td>\n",
       "      <td>-1</td>\n",
       "      <td>-1</td>\n",
       "      <td>-1</td>\n",
       "      <td>-1</td>\n",
       "    </tr>\n",
       "    <tr>\n",
       "      <th>153163</th>\n",
       "      <td>ffffce3fb183ee80</td>\n",
       "      <td>-1</td>\n",
       "      <td>-1</td>\n",
       "      <td>-1</td>\n",
       "      <td>-1</td>\n",
       "      <td>-1</td>\n",
       "      <td>-1</td>\n",
       "    </tr>\n",
       "  </tbody>\n",
       "</table>\n",
       "<p>153164 rows × 7 columns</p>\n",
       "</div>"
      ],
      "text/plain": [
       "                      id  toxic  severe_toxic  obscene  threat  insult  \\\n",
       "0       00001cee341fdb12     -1            -1       -1      -1      -1   \n",
       "1       0000247867823ef7     -1            -1       -1      -1      -1   \n",
       "2       00013b17ad220c46     -1            -1       -1      -1      -1   \n",
       "3       00017563c3f7919a     -1            -1       -1      -1      -1   \n",
       "4       00017695ad8997eb     -1            -1       -1      -1      -1   \n",
       "...                  ...    ...           ...      ...     ...     ...   \n",
       "153159  fffcd0960ee309b5     -1            -1       -1      -1      -1   \n",
       "153160  fffd7a9a6eb32c16     -1            -1       -1      -1      -1   \n",
       "153161  fffda9e8d6fafa9e     -1            -1       -1      -1      -1   \n",
       "153162  fffe8f1340a79fc2     -1            -1       -1      -1      -1   \n",
       "153163  ffffce3fb183ee80     -1            -1       -1      -1      -1   \n",
       "\n",
       "        identity_hate  \n",
       "0                  -1  \n",
       "1                  -1  \n",
       "2                  -1  \n",
       "3                  -1  \n",
       "4                  -1  \n",
       "...               ...  \n",
       "153159             -1  \n",
       "153160             -1  \n",
       "153161             -1  \n",
       "153162             -1  \n",
       "153163             -1  \n",
       "\n",
       "[153164 rows x 7 columns]"
      ]
     },
     "execution_count": 8,
     "metadata": {},
     "output_type": "execute_result"
    }
   ],
   "source": [
    "df_test_labels = pd.read_csv(\"data/original_data/test_labels.csv\")\n",
    "df_test_labels"
   ]
  },
  {
   "cell_type": "code",
   "execution_count": 26,
   "id": "60a174b8",
   "metadata": {},
   "outputs": [
    {
     "data": {
      "application/vnd.microsoft.datawrangler.viewer.v0+json": {
       "columns": [
        {
         "name": "index",
         "rawType": "int64",
         "type": "integer"
        },
        {
         "name": "id",
         "rawType": "object",
         "type": "string"
        },
        {
         "name": "toxic_pred",
         "rawType": "float32",
         "type": "float"
        },
        {
         "name": "severe_toxic_pred",
         "rawType": "float32",
         "type": "float"
        },
        {
         "name": "obscene_pred",
         "rawType": "float32",
         "type": "float"
        },
        {
         "name": "threat_pred",
         "rawType": "float32",
         "type": "float"
        },
        {
         "name": "insult_pred",
         "rawType": "float32",
         "type": "float"
        },
        {
         "name": "identity_hate_pred",
         "rawType": "float32",
         "type": "float"
        },
        {
         "name": "toxic_true",
         "rawType": "int64",
         "type": "integer"
        },
        {
         "name": "severe_toxic_true",
         "rawType": "int64",
         "type": "integer"
        },
        {
         "name": "obscene_true",
         "rawType": "int64",
         "type": "integer"
        },
        {
         "name": "threat_true",
         "rawType": "int64",
         "type": "integer"
        },
        {
         "name": "insult_true",
         "rawType": "int64",
         "type": "integer"
        },
        {
         "name": "identity_hate_true",
         "rawType": "int64",
         "type": "integer"
        }
       ],
       "ref": "189a2571-205d-4e21-b416-b86dab9f23a4",
       "rows": [
        [
         "5",
         "0001ea8717f6de06",
         "0.00012705527",
         "1.4186208e-05",
         "5.103753e-05",
         "1.8833145e-05",
         "3.968924e-05",
         "2.6512276e-05",
         "0",
         "0",
         "0",
         "0",
         "0",
         "0"
        ],
        [
         "7",
         "000247e83dcc1211",
         "0.517046",
         "0.00017397525",
         "0.0078840405",
         "0.00069503306",
         "0.021621697",
         "0.0007292294",
         "0",
         "0",
         "0",
         "0",
         "0",
         "0"
        ],
        [
         "11",
         "0002f87b16116a7f",
         "0.31419536",
         "0.0003117527",
         "0.055958446",
         "0.00039061933",
         "0.017916782",
         "0.0013569586",
         "0",
         "0",
         "0",
         "0",
         "0",
         "0"
        ],
        [
         "13",
         "0003e1cccfd5a40a",
         "0.0001225226",
         "1.43130355e-05",
         "5.438829e-05",
         "1.8701028e-05",
         "3.8733284e-05",
         "2.7946267e-05",
         "0",
         "0",
         "0",
         "0",
         "0",
         "0"
        ],
        [
         "14",
         "00059ace3e3e9a53",
         "0.00011875106",
         "1.4633925e-05",
         "5.387153e-05",
         "1.8118084e-05",
         "4.1295327e-05",
         "2.7276115e-05",
         "0",
         "0",
         "0",
         "0",
         "0",
         "0"
        ],
        [
         "16",
         "000663aff0fffc80",
         "0.0001514274",
         "1.4506536e-05",
         "5.7495723e-05",
         "1.9477644e-05",
         "4.7190115e-05",
         "2.9824636e-05",
         "0",
         "0",
         "0",
         "0",
         "0",
         "0"
        ],
        [
         "17",
         "000689dd34e20979",
         "0.00013213507",
         "1.3213824e-05",
         "5.2456766e-05",
         "1.7729975e-05",
         "3.741379e-05",
         "2.5471381e-05",
         "0",
         "0",
         "0",
         "0",
         "0",
         "0"
        ],
        [
         "19",
         "000844b52dee5f3f",
         "0.00014557468",
         "1.31147835e-05",
         "4.9522518e-05",
         "1.6345299e-05",
         "3.7416252e-05",
         "2.4980402e-05",
         "0",
         "0",
         "0",
         "0",
         "0",
         "0"
        ],
        [
         "21",
         "00091c35fa9d0465",
         "0.8737378",
         "0.046234187",
         "0.0544884",
         "0.3924324",
         "0.12533225",
         "0.2732376",
         "1",
         "0",
         "0",
         "0",
         "0",
         "0"
        ],
        [
         "22",
         "000968ce11f5ee34",
         "0.10642963",
         "0.00016649904",
         "0.0010227697",
         "0.0011101782",
         "0.00423761",
         "0.0026998047",
         "0",
         "0",
         "0",
         "0",
         "0",
         "0"
        ],
        [
         "23",
         "0009734200a85047",
         "0.00015901696",
         "1.1215808e-05",
         "5.261799e-05",
         "1.5737352e-05",
         "3.7273905e-05",
         "2.3674267e-05",
         "0",
         "0",
         "0",
         "0",
         "0",
         "0"
        ],
        [
         "26",
         "000a02d807ae0254",
         "0.00012908476",
         "1.3597302e-05",
         "5.33045e-05",
         "1.823681e-05",
         "3.7234327e-05",
         "2.6693368e-05",
         "0",
         "0",
         "0",
         "0",
         "0",
         "0"
        ],
        [
         "28",
         "000bafe2080bba82",
         "0.004983693",
         "2.1639788e-05",
         "0.00020276278",
         "5.9716214e-05",
         "0.00027219768",
         "0.00017753323",
         "0",
         "0",
         "0",
         "0",
         "0",
         "0"
        ],
        [
         "29",
         "000bf0a9894b2807",
         "0.00012579873",
         "1.3691144e-05",
         "5.276029e-05",
         "1.7872388e-05",
         "3.8392314e-05",
         "2.6883023e-05",
         "0",
         "0",
         "0",
         "0",
         "0",
         "0"
        ],
        [
         "31",
         "000c9b92318552d1",
         "0.00013885058",
         "1.35015525e-05",
         "5.4746928e-05",
         "1.8671377e-05",
         "4.134849e-05",
         "2.6049529e-05",
         "0",
         "0",
         "0",
         "0",
         "0",
         "0"
        ],
        [
         "33",
         "000cf60dbaed8c02",
         "0.00012642924",
         "1.3273817e-05",
         "5.2861513e-05",
         "1.8201228e-05",
         "3.9789247e-05",
         "2.6547645e-05",
         "0",
         "0",
         "0",
         "0",
         "0",
         "0"
        ],
        [
         "34",
         "000d4f120d5a7303",
         "0.27370366",
         "0.0006511962",
         "0.021628084",
         "0.0010164275",
         "0.01314462",
         "0.0036203742",
         "0",
         "0",
         "0",
         "0",
         "0",
         "0"
        ],
        [
         "38",
         "001068b809feee6b",
         "0.34960607",
         "0.0010752891",
         "0.25073725",
         "0.0007687715",
         "0.040358912",
         "0.004683087",
         "0",
         "0",
         "0",
         "0",
         "0",
         "0"
        ],
        [
         "40",
         "0011cefc680993ba",
         "0.025035061",
         "5.5468765e-05",
         "0.0014182295",
         "0.00010837769",
         "0.0006861155",
         "0.00022269072",
         "0",
         "0",
         "0",
         "0",
         "0",
         "0"
        ],
        [
         "41",
         "0011ef6aa33d42e6",
         "0.00030118178",
         "9.314481e-06",
         "5.968803e-05",
         "1.5126927e-05",
         "4.0198327e-05",
         "2.5125255e-05",
         "0",
         "0",
         "0",
         "0",
         "0",
         "0"
        ],
        [
         "43",
         "0012bb72f20ae971",
         "0.00013343744",
         "1.2748608e-05",
         "5.4844746e-05",
         "1.7646156e-05",
         "3.839418e-05",
         "2.61209e-05",
         "0",
         "0",
         "0",
         "0",
         "0",
         "0"
        ],
        [
         "45",
         "00137446b1aec28c",
         "0.0001283618",
         "1.3956728e-05",
         "5.4407432e-05",
         "1.8229663e-05",
         "4.0746654e-05",
         "2.6862006e-05",
         "0",
         "0",
         "0",
         "0",
         "0",
         "0"
        ],
        [
         "46",
         "0013a435effa29bd",
         "0.0011629902",
         "9.8793125e-06",
         "9.285292e-05",
         "1.9649866e-05",
         "7.840896e-05",
         "3.865178e-05",
         "0",
         "0",
         "0",
         "0",
         "0",
         "0"
        ],
        [
         "47",
         "0013be435187e84f",
         "0.00011788086",
         "1.5747066e-05",
         "5.447778e-05",
         "1.8887555e-05",
         "4.270815e-05",
         "2.8611756e-05",
         "0",
         "0",
         "0",
         "0",
         "0",
         "0"
        ],
        [
         "48",
         "0013fed3aeae76b7",
         "0.99375916",
         "0.469641",
         "0.96666104",
         "0.08006834",
         "0.9296449",
         "0.74429524",
         "1",
         "0",
         "1",
         "0",
         "1",
         "1"
        ],
        [
         "49",
         "001411adf8f1dd82",
         "0.00013234412",
         "1.267953e-05",
         "5.2721458e-05",
         "1.6943553e-05",
         "3.7869093e-05",
         "2.5104395e-05",
         "0",
         "0",
         "0",
         "0",
         "0",
         "0"
        ],
        [
         "51",
         "001426f56de6a49b",
         "0.00012325816",
         "1.38580135e-05",
         "5.4113836e-05",
         "1.8426437e-05",
         "4.038395e-05",
         "2.6340354e-05",
         "0",
         "0",
         "0",
         "0",
         "0",
         "0"
        ],
        [
         "56",
         "0016b94c8b20ffa6",
         "0.86595666",
         "0.18593498",
         "0.17666708",
         "0.68722683",
         "0.19738002",
         "0.14401048",
         "0",
         "0",
         "0",
         "0",
         "0",
         "0"
        ],
        [
         "58",
         "00177176f33f587e",
         "0.0001277844",
         "1.3100333e-05",
         "5.2417265e-05",
         "1.7191818e-05",
         "3.8601094e-05",
         "2.6137623e-05",
         "0",
         "0",
         "0",
         "0",
         "0",
         "0"
        ],
        [
         "59",
         "0017d4d47894af05",
         "0.99656314",
         "0.44349685",
         "0.97924894",
         "0.048802402",
         "0.96489924",
         "0.44549915",
         "1",
         "0",
         "1",
         "0",
         "1",
         "0"
        ],
        [
         "60",
         "001804717513d860",
         "0.037138343",
         "7.249196e-05",
         "0.002728768",
         "0.00012630236",
         "0.0009276173",
         "0.00036707075",
         "0",
         "0",
         "0",
         "0",
         "0",
         "0"
        ],
        [
         "62",
         "0019400581a6fe32",
         "0.00019300917",
         "1.0677849e-05",
         "6.0890106e-05",
         "1.5618652e-05",
         "3.6944224e-05",
         "2.4364028e-05",
         "0",
         "0",
         "0",
         "0",
         "0",
         "0"
        ],
        [
         "65",
         "001acc29b248cb6d",
         "0.0125298435",
         "3.376188e-05",
         "0.0005163252",
         "8.2975675e-05",
         "0.00090684474",
         "0.0002623476",
         "0",
         "0",
         "0",
         "0",
         "0",
         "0"
        ],
        [
         "68",
         "001bb624469de607",
         "0.00019497762",
         "1.0408389e-05",
         "5.4141296e-05",
         "1.520175e-05",
         "3.6349084e-05",
         "2.439209e-05",
         "0",
         "0",
         "0",
         "0",
         "0",
         "0"
        ],
        [
         "69",
         "001c368c738a814f",
         "0.00014062486",
         "1.3012959e-05",
         "5.6733654e-05",
         "1.8004283e-05",
         "4.032438e-05",
         "2.5831072e-05",
         "0",
         "0",
         "0",
         "0",
         "0",
         "0"
        ],
        [
         "72",
         "001ceacfd4ffa469",
         "0.00012927347",
         "1.3633464e-05",
         "5.08762e-05",
         "1.7919629e-05",
         "3.7019978e-05",
         "2.594654e-05",
         "0",
         "0",
         "0",
         "0",
         "0",
         "0"
        ],
        [
         "73",
         "001ceebc43e65027",
         "0.00013371422",
         "1.2482361e-05",
         "5.3227854e-05",
         "1.6567501e-05",
         "3.8110265e-05",
         "2.5618401e-05",
         "0",
         "0",
         "0",
         "0",
         "0",
         "0"
        ],
        [
         "75",
         "001d39c71fce6f78",
         "0.025464093",
         "3.2773638e-05",
         "0.0007726789",
         "9.8458906e-05",
         "0.00060837215",
         "0.000197794",
         "0",
         "0",
         "0",
         "0",
         "0",
         "0"
        ],
        [
         "76",
         "001d739c97bc2ae4",
         "0.88148206",
         "0.0015445433",
         "0.016172571",
         "0.0095910765",
         "0.21591654",
         "0.010560948",
         "1",
         "0",
         "0",
         "0",
         "0",
         "0"
        ],
        [
         "79",
         "001eba8bbe728e54",
         "0.04793697",
         "0.00013212182",
         "0.006077787",
         "0.00019763979",
         "0.0018548188",
         "0.000696589",
         "0",
         "0",
         "0",
         "0",
         "0",
         "0"
        ],
        [
         "81",
         "001eff4007dbb65b",
         "0.9671997",
         "0.0071390397",
         "0.3535048",
         "0.0037764574",
         "0.85978353",
         "0.0154237915",
         "1",
         "0",
         "1",
         "0",
         "1",
         "0"
        ],
        [
         "87",
         "0020baa22b95d1b0",
         "0.00021635935",
         "1.0605954e-05",
         "5.8382946e-05",
         "1.6284572e-05",
         "3.9227387e-05",
         "2.5105113e-05",
         "0",
         "0",
         "0",
         "0",
         "0",
         "0"
        ],
        [
         "89",
         "0020f1b79913e7c0",
         "0.00018582046",
         "9.988686e-06",
         "5.107005e-05",
         "1.4343972e-05",
         "3.5029865e-05",
         "2.1921733e-05",
         "0",
         "0",
         "0",
         "0",
         "0",
         "0"
        ],
        [
         "93",
         "0023317d123b6fcb",
         "0.000117656375",
         "1.4753552e-05",
         "5.4972403e-05",
         "1.8827615e-05",
         "4.094176e-05",
         "2.7862308e-05",
         "0",
         "0",
         "0",
         "0",
         "0",
         "0"
        ],
        [
         "94",
         "00234e493cedb3e1",
         "0.00012468737",
         "1.3747535e-05",
         "5.1784093e-05",
         "1.854593e-05",
         "3.827022e-05",
         "2.6453332e-05",
         "0",
         "0",
         "0",
         "0",
         "0",
         "0"
        ],
        [
         "95",
         "0023f3f84f353bce",
         "0.00016074802",
         "1.1697765e-05",
         "4.9117993e-05",
         "1.7154445e-05",
         "3.5364308e-05",
         "2.5797937e-05",
         "0",
         "0",
         "0",
         "0",
         "0",
         "0"
        ],
        [
         "97",
         "0025a91b6955f1a5",
         "0.000117740994",
         "1.527052e-05",
         "5.4219057e-05",
         "1.9266301e-05",
         "4.09174e-05",
         "2.8428225e-05",
         "0",
         "0",
         "0",
         "0",
         "0",
         "0"
        ],
        [
         "98",
         "0025c49d87d9a18f",
         "0.00013306858",
         "1.3640525e-05",
         "5.198383e-05",
         "1.8563182e-05",
         "3.6393096e-05",
         "2.675777e-05",
         "0",
         "0",
         "0",
         "0",
         "0",
         "0"
        ],
        [
         "100",
         "0026c91011e3ae35",
         "0.000124225",
         "1.3532518e-05",
         "5.4373348e-05",
         "1.7449827e-05",
         "4.009228e-05",
         "2.5826068e-05",
         "0",
         "0",
         "0",
         "0",
         "0",
         "0"
        ],
        [
         "105",
         "0028bca06339e02f",
         "0.00012427583",
         "1.4636338e-05",
         "5.3564785e-05",
         "1.9467356e-05",
         "3.8547973e-05",
         "2.7553135e-05",
         "0",
         "0",
         "0",
         "0",
         "0",
         "0"
        ]
       ],
       "shape": {
        "columns": 13,
        "rows": 63978
       }
      },
      "text/html": [
       "<div>\n",
       "<style scoped>\n",
       "    .dataframe tbody tr th:only-of-type {\n",
       "        vertical-align: middle;\n",
       "    }\n",
       "\n",
       "    .dataframe tbody tr th {\n",
       "        vertical-align: top;\n",
       "    }\n",
       "\n",
       "    .dataframe thead th {\n",
       "        text-align: right;\n",
       "    }\n",
       "</style>\n",
       "<table border=\"1\" class=\"dataframe\">\n",
       "  <thead>\n",
       "    <tr style=\"text-align: right;\">\n",
       "      <th></th>\n",
       "      <th>id</th>\n",
       "      <th>toxic_pred</th>\n",
       "      <th>severe_toxic_pred</th>\n",
       "      <th>obscene_pred</th>\n",
       "      <th>threat_pred</th>\n",
       "      <th>insult_pred</th>\n",
       "      <th>identity_hate_pred</th>\n",
       "      <th>toxic_true</th>\n",
       "      <th>severe_toxic_true</th>\n",
       "      <th>obscene_true</th>\n",
       "      <th>threat_true</th>\n",
       "      <th>insult_true</th>\n",
       "      <th>identity_hate_true</th>\n",
       "    </tr>\n",
       "  </thead>\n",
       "  <tbody>\n",
       "    <tr>\n",
       "      <th>5</th>\n",
       "      <td>0001ea8717f6de06</td>\n",
       "      <td>0.000127</td>\n",
       "      <td>0.000014</td>\n",
       "      <td>0.000051</td>\n",
       "      <td>0.000019</td>\n",
       "      <td>0.000040</td>\n",
       "      <td>0.000027</td>\n",
       "      <td>0</td>\n",
       "      <td>0</td>\n",
       "      <td>0</td>\n",
       "      <td>0</td>\n",
       "      <td>0</td>\n",
       "      <td>0</td>\n",
       "    </tr>\n",
       "    <tr>\n",
       "      <th>7</th>\n",
       "      <td>000247e83dcc1211</td>\n",
       "      <td>0.517046</td>\n",
       "      <td>0.000174</td>\n",
       "      <td>0.007884</td>\n",
       "      <td>0.000695</td>\n",
       "      <td>0.021622</td>\n",
       "      <td>0.000729</td>\n",
       "      <td>0</td>\n",
       "      <td>0</td>\n",
       "      <td>0</td>\n",
       "      <td>0</td>\n",
       "      <td>0</td>\n",
       "      <td>0</td>\n",
       "    </tr>\n",
       "    <tr>\n",
       "      <th>11</th>\n",
       "      <td>0002f87b16116a7f</td>\n",
       "      <td>0.314195</td>\n",
       "      <td>0.000312</td>\n",
       "      <td>0.055958</td>\n",
       "      <td>0.000391</td>\n",
       "      <td>0.017917</td>\n",
       "      <td>0.001357</td>\n",
       "      <td>0</td>\n",
       "      <td>0</td>\n",
       "      <td>0</td>\n",
       "      <td>0</td>\n",
       "      <td>0</td>\n",
       "      <td>0</td>\n",
       "    </tr>\n",
       "    <tr>\n",
       "      <th>13</th>\n",
       "      <td>0003e1cccfd5a40a</td>\n",
       "      <td>0.000123</td>\n",
       "      <td>0.000014</td>\n",
       "      <td>0.000054</td>\n",
       "      <td>0.000019</td>\n",
       "      <td>0.000039</td>\n",
       "      <td>0.000028</td>\n",
       "      <td>0</td>\n",
       "      <td>0</td>\n",
       "      <td>0</td>\n",
       "      <td>0</td>\n",
       "      <td>0</td>\n",
       "      <td>0</td>\n",
       "    </tr>\n",
       "    <tr>\n",
       "      <th>14</th>\n",
       "      <td>00059ace3e3e9a53</td>\n",
       "      <td>0.000119</td>\n",
       "      <td>0.000015</td>\n",
       "      <td>0.000054</td>\n",
       "      <td>0.000018</td>\n",
       "      <td>0.000041</td>\n",
       "      <td>0.000027</td>\n",
       "      <td>0</td>\n",
       "      <td>0</td>\n",
       "      <td>0</td>\n",
       "      <td>0</td>\n",
       "      <td>0</td>\n",
       "      <td>0</td>\n",
       "    </tr>\n",
       "    <tr>\n",
       "      <th>...</th>\n",
       "      <td>...</td>\n",
       "      <td>...</td>\n",
       "      <td>...</td>\n",
       "      <td>...</td>\n",
       "      <td>...</td>\n",
       "      <td>...</td>\n",
       "      <td>...</td>\n",
       "      <td>...</td>\n",
       "      <td>...</td>\n",
       "      <td>...</td>\n",
       "      <td>...</td>\n",
       "      <td>...</td>\n",
       "      <td>...</td>\n",
       "    </tr>\n",
       "    <tr>\n",
       "      <th>153150</th>\n",
       "      <td>fff8f64043129fa2</td>\n",
       "      <td>0.000131</td>\n",
       "      <td>0.000012</td>\n",
       "      <td>0.000056</td>\n",
       "      <td>0.000017</td>\n",
       "      <td>0.000039</td>\n",
       "      <td>0.000025</td>\n",
       "      <td>0</td>\n",
       "      <td>0</td>\n",
       "      <td>0</td>\n",
       "      <td>0</td>\n",
       "      <td>0</td>\n",
       "      <td>0</td>\n",
       "    </tr>\n",
       "    <tr>\n",
       "      <th>153151</th>\n",
       "      <td>fff9d70fe0722906</td>\n",
       "      <td>0.897605</td>\n",
       "      <td>0.003960</td>\n",
       "      <td>0.700326</td>\n",
       "      <td>0.001129</td>\n",
       "      <td>0.341232</td>\n",
       "      <td>0.004817</td>\n",
       "      <td>0</td>\n",
       "      <td>0</td>\n",
       "      <td>0</td>\n",
       "      <td>0</td>\n",
       "      <td>0</td>\n",
       "      <td>0</td>\n",
       "    </tr>\n",
       "    <tr>\n",
       "      <th>153154</th>\n",
       "      <td>fffa8a11c4378854</td>\n",
       "      <td>0.948748</td>\n",
       "      <td>0.023928</td>\n",
       "      <td>0.146038</td>\n",
       "      <td>0.045124</td>\n",
       "      <td>0.497114</td>\n",
       "      <td>0.558814</td>\n",
       "      <td>0</td>\n",
       "      <td>0</td>\n",
       "      <td>0</td>\n",
       "      <td>0</td>\n",
       "      <td>0</td>\n",
       "      <td>0</td>\n",
       "    </tr>\n",
       "    <tr>\n",
       "      <th>153155</th>\n",
       "      <td>fffac2a094c8e0e2</td>\n",
       "      <td>0.993961</td>\n",
       "      <td>0.446017</td>\n",
       "      <td>0.964453</td>\n",
       "      <td>0.083660</td>\n",
       "      <td>0.945908</td>\n",
       "      <td>0.723239</td>\n",
       "      <td>1</td>\n",
       "      <td>0</td>\n",
       "      <td>1</td>\n",
       "      <td>0</td>\n",
       "      <td>1</td>\n",
       "      <td>0</td>\n",
       "    </tr>\n",
       "    <tr>\n",
       "      <th>153156</th>\n",
       "      <td>fffb5451268fb5ba</td>\n",
       "      <td>0.000137</td>\n",
       "      <td>0.000012</td>\n",
       "      <td>0.000052</td>\n",
       "      <td>0.000017</td>\n",
       "      <td>0.000037</td>\n",
       "      <td>0.000025</td>\n",
       "      <td>0</td>\n",
       "      <td>0</td>\n",
       "      <td>0</td>\n",
       "      <td>0</td>\n",
       "      <td>0</td>\n",
       "      <td>0</td>\n",
       "    </tr>\n",
       "  </tbody>\n",
       "</table>\n",
       "<p>63978 rows × 13 columns</p>\n",
       "</div>"
      ],
      "text/plain": [
       "                      id  toxic_pred  severe_toxic_pred  obscene_pred  \\\n",
       "5       0001ea8717f6de06    0.000127           0.000014      0.000051   \n",
       "7       000247e83dcc1211    0.517046           0.000174      0.007884   \n",
       "11      0002f87b16116a7f    0.314195           0.000312      0.055958   \n",
       "13      0003e1cccfd5a40a    0.000123           0.000014      0.000054   \n",
       "14      00059ace3e3e9a53    0.000119           0.000015      0.000054   \n",
       "...                  ...         ...                ...           ...   \n",
       "153150  fff8f64043129fa2    0.000131           0.000012      0.000056   \n",
       "153151  fff9d70fe0722906    0.897605           0.003960      0.700326   \n",
       "153154  fffa8a11c4378854    0.948748           0.023928      0.146038   \n",
       "153155  fffac2a094c8e0e2    0.993961           0.446017      0.964453   \n",
       "153156  fffb5451268fb5ba    0.000137           0.000012      0.000052   \n",
       "\n",
       "        threat_pred  insult_pred  identity_hate_pred  toxic_true  \\\n",
       "5          0.000019     0.000040            0.000027           0   \n",
       "7          0.000695     0.021622            0.000729           0   \n",
       "11         0.000391     0.017917            0.001357           0   \n",
       "13         0.000019     0.000039            0.000028           0   \n",
       "14         0.000018     0.000041            0.000027           0   \n",
       "...             ...          ...                 ...         ...   \n",
       "153150     0.000017     0.000039            0.000025           0   \n",
       "153151     0.001129     0.341232            0.004817           0   \n",
       "153154     0.045124     0.497114            0.558814           0   \n",
       "153155     0.083660     0.945908            0.723239           1   \n",
       "153156     0.000017     0.000037            0.000025           0   \n",
       "\n",
       "        severe_toxic_true  obscene_true  threat_true  insult_true  \\\n",
       "5                       0             0            0            0   \n",
       "7                       0             0            0            0   \n",
       "11                      0             0            0            0   \n",
       "13                      0             0            0            0   \n",
       "14                      0             0            0            0   \n",
       "...                   ...           ...          ...          ...   \n",
       "153150                  0             0            0            0   \n",
       "153151                  0             0            0            0   \n",
       "153154                  0             0            0            0   \n",
       "153155                  0             1            0            1   \n",
       "153156                  0             0            0            0   \n",
       "\n",
       "        identity_hate_true  \n",
       "5                        0  \n",
       "7                        0  \n",
       "11                       0  \n",
       "13                       0  \n",
       "14                       0  \n",
       "...                    ...  \n",
       "153150                   0  \n",
       "153151                   0  \n",
       "153154                   0  \n",
       "153155                   0  \n",
       "153156                   0  \n",
       "\n",
       "[63978 rows x 13 columns]"
      ]
     },
     "execution_count": 26,
     "metadata": {},
     "output_type": "execute_result"
    }
   ],
   "source": [
    "df_check_score = df_submission.merge(df_test_labels, on=\"id\", suffixes=(\"_pred\", \"_true\"))\n",
    "label_cols_true = [f\"{col}_true\" for col in label_cols]\n",
    "df_check_score = df_check_score.loc[(df_check_score[label_cols_true]!=-1).all(axis=1)]\n",
    "df_check_score"
   ]
  },
  {
   "cell_type": "code",
   "execution_count": 27,
   "id": "c045ad01",
   "metadata": {},
   "outputs": [],
   "source": [
    "auc_scores = {}\n",
    "for col in label_cols:\n",
    "    y_true = df_check_score[f\"{col}_true\"]\n",
    "    y_pred = df_check_score[f\"{col}_pred\"]\n",
    "    auc_scores[col] = roc_auc_score(y_true, y_pred)"
   ]
  },
  {
   "cell_type": "code",
   "execution_count": 28,
   "id": "ad4740f7",
   "metadata": {},
   "outputs": [
    {
     "name": "stdout",
     "output_type": "stream",
     "text": [
      "AUC scores per label: {'toxic': 0.9758748902813065, 'severe_toxic': 0.9907877782521548, 'obscene': 0.9827022702932348, 'threat': 0.9912962899513386, 'insult': 0.9836326817941821, 'identity_hate': 0.9901016734408703}\n",
      "Mean column-wise ROC AUC: 0.985733\n"
     ]
    }
   ],
   "source": [
    "mean_auc = np.mean(list(auc_scores.values()))\n",
    "print(f\"AUC scores per label: {auc_scores}\")\n",
    "print(f\"Mean column-wise ROC AUC: {mean_auc:.6f}\")"
   ]
  },
  {
   "cell_type": "code",
   "execution_count": null,
   "id": "06dfb1f9",
   "metadata": {},
   "outputs": [],
   "source": []
  },
  {
   "cell_type": "code",
   "execution_count": null,
   "id": "3bd3b617",
   "metadata": {},
   "outputs": [],
   "source": []
  }
 ],
 "metadata": {
  "kernelspec": {
   "display_name": ".venv",
   "language": "python",
   "name": "python3"
  },
  "language_info": {
   "codemirror_mode": {
    "name": "ipython",
    "version": 3
   },
   "file_extension": ".py",
   "mimetype": "text/x-python",
   "name": "python",
   "nbconvert_exporter": "python",
   "pygments_lexer": "ipython3",
   "version": "3.10.11"
  }
 },
 "nbformat": 4,
 "nbformat_minor": 5
}
