{
 "cells": [
  {
   "cell_type": "code",
   "execution_count": null,
   "id": "d1742ac8",
   "metadata": {},
   "outputs": [],
   "source": [
    "import sys\n",
    "from pathlib import Path\n",
    "ROOT_DIR = Path().resolve().parents[0]\n",
    "sys.path.append(str(ROOT_DIR))\n",
    "import config as cfg\n",
    "\n",
    "from datasets import load_from_disk\n",
    "import pandas as pd\n",
    "import os\n",
    "from transformers import AutoModelForSequenceClassification, Trainer\n",
    "import numpy as np\n",
    "import pickle\n",
    "from sklearn.metrics import roc_auc_score\n",
    "\n",
    "N_RUN = 0"
   ]
  },
  {
   "cell_type": "markdown",
   "id": "d4b20adc",
   "metadata": {},
   "source": [
    "# Load data"
   ]
  },
  {
   "cell_type": "code",
   "execution_count": 2,
   "id": "0f2d5229",
   "metadata": {},
   "outputs": [],
   "source": [
    "ds_test_tokenized = load_from_disk(cfg.PATH_DS_TEST_TOKENIZED)"
   ]
  },
  {
   "cell_type": "code",
   "execution_count": 3,
   "id": "73f36aba",
   "metadata": {},
   "outputs": [
    {
     "data": {
      "application/vnd.microsoft.datawrangler.viewer.v0+json": {
       "columns": [
        {
         "name": "index",
         "rawType": "int64",
         "type": "integer"
        },
        {
         "name": "id",
         "rawType": "object",
         "type": "string"
        },
        {
         "name": "toxic",
         "rawType": "int64",
         "type": "integer"
        },
        {
         "name": "severe_toxic",
         "rawType": "int64",
         "type": "integer"
        },
        {
         "name": "obscene",
         "rawType": "int64",
         "type": "integer"
        },
        {
         "name": "threat",
         "rawType": "int64",
         "type": "integer"
        },
        {
         "name": "insult",
         "rawType": "int64",
         "type": "integer"
        },
        {
         "name": "identity_hate",
         "rawType": "int64",
         "type": "integer"
        }
       ],
       "ref": "27b3808b-f801-4eca-969b-cf837b58c92b",
       "rows": [
        [
         "0",
         "00001cee341fdb12",
         "-1",
         "-1",
         "-1",
         "-1",
         "-1",
         "-1"
        ],
        [
         "1",
         "0000247867823ef7",
         "-1",
         "-1",
         "-1",
         "-1",
         "-1",
         "-1"
        ],
        [
         "2",
         "00013b17ad220c46",
         "-1",
         "-1",
         "-1",
         "-1",
         "-1",
         "-1"
        ],
        [
         "3",
         "00017563c3f7919a",
         "-1",
         "-1",
         "-1",
         "-1",
         "-1",
         "-1"
        ],
        [
         "4",
         "00017695ad8997eb",
         "-1",
         "-1",
         "-1",
         "-1",
         "-1",
         "-1"
        ],
        [
         "5",
         "0001ea8717f6de06",
         "0",
         "0",
         "0",
         "0",
         "0",
         "0"
        ],
        [
         "6",
         "00024115d4cbde0f",
         "-1",
         "-1",
         "-1",
         "-1",
         "-1",
         "-1"
        ],
        [
         "7",
         "000247e83dcc1211",
         "0",
         "0",
         "0",
         "0",
         "0",
         "0"
        ],
        [
         "8",
         "00025358d4737918",
         "-1",
         "-1",
         "-1",
         "-1",
         "-1",
         "-1"
        ],
        [
         "9",
         "00026d1092fe71cc",
         "-1",
         "-1",
         "-1",
         "-1",
         "-1",
         "-1"
        ],
        [
         "10",
         "0002eadc3b301559",
         "-1",
         "-1",
         "-1",
         "-1",
         "-1",
         "-1"
        ],
        [
         "11",
         "0002f87b16116a7f",
         "0",
         "0",
         "0",
         "0",
         "0",
         "0"
        ],
        [
         "12",
         "0003806b11932181",
         "-1",
         "-1",
         "-1",
         "-1",
         "-1",
         "-1"
        ],
        [
         "13",
         "0003e1cccfd5a40a",
         "0",
         "0",
         "0",
         "0",
         "0",
         "0"
        ],
        [
         "14",
         "00059ace3e3e9a53",
         "0",
         "0",
         "0",
         "0",
         "0",
         "0"
        ],
        [
         "15",
         "000634272d0d44eb",
         "-1",
         "-1",
         "-1",
         "-1",
         "-1",
         "-1"
        ],
        [
         "16",
         "000663aff0fffc80",
         "0",
         "0",
         "0",
         "0",
         "0",
         "0"
        ],
        [
         "17",
         "000689dd34e20979",
         "0",
         "0",
         "0",
         "0",
         "0",
         "0"
        ],
        [
         "18",
         "000834769115370c",
         "-1",
         "-1",
         "-1",
         "-1",
         "-1",
         "-1"
        ],
        [
         "19",
         "000844b52dee5f3f",
         "0",
         "0",
         "0",
         "0",
         "0",
         "0"
        ],
        [
         "20",
         "00084da5d4ead7aa",
         "-1",
         "-1",
         "-1",
         "-1",
         "-1",
         "-1"
        ],
        [
         "21",
         "00091c35fa9d0465",
         "1",
         "0",
         "0",
         "0",
         "0",
         "0"
        ],
        [
         "22",
         "000968ce11f5ee34",
         "0",
         "0",
         "0",
         "0",
         "0",
         "0"
        ],
        [
         "23",
         "0009734200a85047",
         "0",
         "0",
         "0",
         "0",
         "0",
         "0"
        ],
        [
         "24",
         "00097b6214686db5",
         "-1",
         "-1",
         "-1",
         "-1",
         "-1",
         "-1"
        ],
        [
         "25",
         "0009aef4bd9e1697",
         "-1",
         "-1",
         "-1",
         "-1",
         "-1",
         "-1"
        ],
        [
         "26",
         "000a02d807ae0254",
         "0",
         "0",
         "0",
         "0",
         "0",
         "0"
        ],
        [
         "27",
         "000a6c6d4e89b9bc",
         "-1",
         "-1",
         "-1",
         "-1",
         "-1",
         "-1"
        ],
        [
         "28",
         "000bafe2080bba82",
         "0",
         "0",
         "0",
         "0",
         "0",
         "0"
        ],
        [
         "29",
         "000bf0a9894b2807",
         "0",
         "0",
         "0",
         "0",
         "0",
         "0"
        ],
        [
         "30",
         "000c50dceb1eed2b",
         "-1",
         "-1",
         "-1",
         "-1",
         "-1",
         "-1"
        ],
        [
         "31",
         "000c9b92318552d1",
         "0",
         "0",
         "0",
         "0",
         "0",
         "0"
        ],
        [
         "32",
         "000ce41d86f2b886",
         "-1",
         "-1",
         "-1",
         "-1",
         "-1",
         "-1"
        ],
        [
         "33",
         "000cf60dbaed8c02",
         "0",
         "0",
         "0",
         "0",
         "0",
         "0"
        ],
        [
         "34",
         "000d4f120d5a7303",
         "0",
         "0",
         "0",
         "0",
         "0",
         "0"
        ],
        [
         "35",
         "000d60becb7d1a67",
         "-1",
         "-1",
         "-1",
         "-1",
         "-1",
         "-1"
        ],
        [
         "36",
         "000fc381d4895598",
         "-1",
         "-1",
         "-1",
         "-1",
         "-1",
         "-1"
        ],
        [
         "37",
         "000ff37cf57ab537",
         "-1",
         "-1",
         "-1",
         "-1",
         "-1",
         "-1"
        ],
        [
         "38",
         "001068b809feee6b",
         "0",
         "0",
         "0",
         "0",
         "0",
         "0"
        ],
        [
         "39",
         "0011c58fcfd6bf91",
         "-1",
         "-1",
         "-1",
         "-1",
         "-1",
         "-1"
        ],
        [
         "40",
         "0011cefc680993ba",
         "0",
         "0",
         "0",
         "0",
         "0",
         "0"
        ],
        [
         "41",
         "0011ef6aa33d42e6",
         "0",
         "0",
         "0",
         "0",
         "0",
         "0"
        ],
        [
         "42",
         "0012706ac77a7b37",
         "-1",
         "-1",
         "-1",
         "-1",
         "-1",
         "-1"
        ],
        [
         "43",
         "0012bb72f20ae971",
         "0",
         "0",
         "0",
         "0",
         "0",
         "0"
        ],
        [
         "44",
         "0012bbcbd6958302",
         "-1",
         "-1",
         "-1",
         "-1",
         "-1",
         "-1"
        ],
        [
         "45",
         "00137446b1aec28c",
         "0",
         "0",
         "0",
         "0",
         "0",
         "0"
        ],
        [
         "46",
         "0013a435effa29bd",
         "0",
         "0",
         "0",
         "0",
         "0",
         "0"
        ],
        [
         "47",
         "0013be435187e84f",
         "0",
         "0",
         "0",
         "0",
         "0",
         "0"
        ],
        [
         "48",
         "0013fed3aeae76b7",
         "1",
         "0",
         "1",
         "0",
         "1",
         "1"
        ],
        [
         "49",
         "001411adf8f1dd82",
         "0",
         "0",
         "0",
         "0",
         "0",
         "0"
        ]
       ],
       "shape": {
        "columns": 7,
        "rows": 153164
       }
      },
      "text/html": [
       "<div>\n",
       "<style scoped>\n",
       "    .dataframe tbody tr th:only-of-type {\n",
       "        vertical-align: middle;\n",
       "    }\n",
       "\n",
       "    .dataframe tbody tr th {\n",
       "        vertical-align: top;\n",
       "    }\n",
       "\n",
       "    .dataframe thead th {\n",
       "        text-align: right;\n",
       "    }\n",
       "</style>\n",
       "<table border=\"1\" class=\"dataframe\">\n",
       "  <thead>\n",
       "    <tr style=\"text-align: right;\">\n",
       "      <th></th>\n",
       "      <th>id</th>\n",
       "      <th>toxic</th>\n",
       "      <th>severe_toxic</th>\n",
       "      <th>obscene</th>\n",
       "      <th>threat</th>\n",
       "      <th>insult</th>\n",
       "      <th>identity_hate</th>\n",
       "    </tr>\n",
       "  </thead>\n",
       "  <tbody>\n",
       "    <tr>\n",
       "      <th>0</th>\n",
       "      <td>00001cee341fdb12</td>\n",
       "      <td>-1</td>\n",
       "      <td>-1</td>\n",
       "      <td>-1</td>\n",
       "      <td>-1</td>\n",
       "      <td>-1</td>\n",
       "      <td>-1</td>\n",
       "    </tr>\n",
       "    <tr>\n",
       "      <th>1</th>\n",
       "      <td>0000247867823ef7</td>\n",
       "      <td>-1</td>\n",
       "      <td>-1</td>\n",
       "      <td>-1</td>\n",
       "      <td>-1</td>\n",
       "      <td>-1</td>\n",
       "      <td>-1</td>\n",
       "    </tr>\n",
       "    <tr>\n",
       "      <th>2</th>\n",
       "      <td>00013b17ad220c46</td>\n",
       "      <td>-1</td>\n",
       "      <td>-1</td>\n",
       "      <td>-1</td>\n",
       "      <td>-1</td>\n",
       "      <td>-1</td>\n",
       "      <td>-1</td>\n",
       "    </tr>\n",
       "    <tr>\n",
       "      <th>3</th>\n",
       "      <td>00017563c3f7919a</td>\n",
       "      <td>-1</td>\n",
       "      <td>-1</td>\n",
       "      <td>-1</td>\n",
       "      <td>-1</td>\n",
       "      <td>-1</td>\n",
       "      <td>-1</td>\n",
       "    </tr>\n",
       "    <tr>\n",
       "      <th>4</th>\n",
       "      <td>00017695ad8997eb</td>\n",
       "      <td>-1</td>\n",
       "      <td>-1</td>\n",
       "      <td>-1</td>\n",
       "      <td>-1</td>\n",
       "      <td>-1</td>\n",
       "      <td>-1</td>\n",
       "    </tr>\n",
       "    <tr>\n",
       "      <th>...</th>\n",
       "      <td>...</td>\n",
       "      <td>...</td>\n",
       "      <td>...</td>\n",
       "      <td>...</td>\n",
       "      <td>...</td>\n",
       "      <td>...</td>\n",
       "      <td>...</td>\n",
       "    </tr>\n",
       "    <tr>\n",
       "      <th>153159</th>\n",
       "      <td>fffcd0960ee309b5</td>\n",
       "      <td>-1</td>\n",
       "      <td>-1</td>\n",
       "      <td>-1</td>\n",
       "      <td>-1</td>\n",
       "      <td>-1</td>\n",
       "      <td>-1</td>\n",
       "    </tr>\n",
       "    <tr>\n",
       "      <th>153160</th>\n",
       "      <td>fffd7a9a6eb32c16</td>\n",
       "      <td>-1</td>\n",
       "      <td>-1</td>\n",
       "      <td>-1</td>\n",
       "      <td>-1</td>\n",
       "      <td>-1</td>\n",
       "      <td>-1</td>\n",
       "    </tr>\n",
       "    <tr>\n",
       "      <th>153161</th>\n",
       "      <td>fffda9e8d6fafa9e</td>\n",
       "      <td>-1</td>\n",
       "      <td>-1</td>\n",
       "      <td>-1</td>\n",
       "      <td>-1</td>\n",
       "      <td>-1</td>\n",
       "      <td>-1</td>\n",
       "    </tr>\n",
       "    <tr>\n",
       "      <th>153162</th>\n",
       "      <td>fffe8f1340a79fc2</td>\n",
       "      <td>-1</td>\n",
       "      <td>-1</td>\n",
       "      <td>-1</td>\n",
       "      <td>-1</td>\n",
       "      <td>-1</td>\n",
       "      <td>-1</td>\n",
       "    </tr>\n",
       "    <tr>\n",
       "      <th>153163</th>\n",
       "      <td>ffffce3fb183ee80</td>\n",
       "      <td>-1</td>\n",
       "      <td>-1</td>\n",
       "      <td>-1</td>\n",
       "      <td>-1</td>\n",
       "      <td>-1</td>\n",
       "      <td>-1</td>\n",
       "    </tr>\n",
       "  </tbody>\n",
       "</table>\n",
       "<p>153164 rows × 7 columns</p>\n",
       "</div>"
      ],
      "text/plain": [
       "                      id  toxic  severe_toxic  obscene  threat  insult  \\\n",
       "0       00001cee341fdb12     -1            -1       -1      -1      -1   \n",
       "1       0000247867823ef7     -1            -1       -1      -1      -1   \n",
       "2       00013b17ad220c46     -1            -1       -1      -1      -1   \n",
       "3       00017563c3f7919a     -1            -1       -1      -1      -1   \n",
       "4       00017695ad8997eb     -1            -1       -1      -1      -1   \n",
       "...                  ...    ...           ...      ...     ...     ...   \n",
       "153159  fffcd0960ee309b5     -1            -1       -1      -1      -1   \n",
       "153160  fffd7a9a6eb32c16     -1            -1       -1      -1      -1   \n",
       "153161  fffda9e8d6fafa9e     -1            -1       -1      -1      -1   \n",
       "153162  fffe8f1340a79fc2     -1            -1       -1      -1      -1   \n",
       "153163  ffffce3fb183ee80     -1            -1       -1      -1      -1   \n",
       "\n",
       "        identity_hate  \n",
       "0                  -1  \n",
       "1                  -1  \n",
       "2                  -1  \n",
       "3                  -1  \n",
       "4                  -1  \n",
       "...               ...  \n",
       "153159             -1  \n",
       "153160             -1  \n",
       "153161             -1  \n",
       "153162             -1  \n",
       "153163             -1  \n",
       "\n",
       "[153164 rows x 7 columns]"
      ]
     },
     "execution_count": 3,
     "metadata": {},
     "output_type": "execute_result"
    }
   ],
   "source": [
    "df_test_labels = pd.read_csv(cfg.PATH_DF_TEST_LABELS)\n",
    "df_test_labels"
   ]
  },
  {
   "cell_type": "markdown",
   "id": "cd2ee964",
   "metadata": {},
   "source": [
    "# Predictions"
   ]
  },
  {
   "cell_type": "code",
   "execution_count": 4,
   "id": "18e92566",
   "metadata": {},
   "outputs": [],
   "source": [
    "def get_predictions(n_run, ds_test_tokenized):\n",
    "\tpreds_folds = {f\"run_{n_run}\": {}}\n",
    "\tpreds_folds[f\"run_{n_run}\"] = {f\"fold_{fold_id}\": {\"model\": None, \"trainer\": None, \"predictions\": None} for fold_id in range(cfg.N_FOLDS)}\n",
    "\n",
    "\tfor fold_id in range(cfg.N_FOLDS):\n",
    "\t\tprint(f\"Processing fold {fold_id}...\")\n",
    "\t\t# path_model_trained = os.path.join(\"checkpoints\", MODEL_BASE, f\"run_{N_RUN}\", f\"fold_{fold_id}\", \"model_final\")\n",
    "\t\tpath_model_trained = os.path.join(cfg.PATH_CHECKPOINTS, cfg.MODEL_BASE, f\"run_{n_run}\", f\"fold_{fold_id}\", \"model_final\")\n",
    "\t\tmodel = AutoModelForSequenceClassification.from_pretrained(path_model_trained).to(\"cuda\")\n",
    "\t\tmodel.eval()\n",
    "\t\ttrainer = Trainer(model=model, compute_metrics=None)\n",
    "\t\tpreds = trainer.predict(ds_test_tokenized).predictions\n",
    "\t\tpreds_folds[f\"run_{N_RUN}\"][f\"fold_{fold_id}\"][\"model\"] = model\n",
    "\t\tpreds_folds[f\"run_{N_RUN}\"][f\"fold_{fold_id}\"][\"trainer\"] = trainer\n",
    "\t\tpreds_folds[f\"run_{N_RUN}\"][f\"fold_{fold_id}\"][\"predictions\"] = preds\n",
    "\n",
    "\tpredictions_list = [preds_folds[f\"run_{N_RUN}\"][f\"fold_{fold_id}\"][\"predictions\"] for fold_id in range(cfg.N_FOLDS)]\n",
    "\tlogits_mean = np.mean(predictions_list, axis=0)\n",
    "\tprobs = 1 / (1 + np.exp(-logits_mean))\n",
    "\n",
    "\treturn preds_folds, probs"
   ]
  },
  {
   "cell_type": "code",
   "execution_count": null,
   "id": "141df69b",
   "metadata": {},
   "outputs": [],
   "source": [
    "# Get predictions\n",
    "preds_folds, probs = get_predictions(N_RUN, ds_test_tokenized)"
   ]
  },
  {
   "cell_type": "code",
   "execution_count": null,
   "id": "33451efc",
   "metadata": {},
   "outputs": [],
   "source": [
    "# Save preds_folds dictionary to a file\n",
    "with open(cfg.PATH_PREDICTIONS_DICT, \"wb\") as f:\n",
    "\tpickle.dump(preds_folds, f)"
   ]
  },
  {
   "cell_type": "code",
   "execution_count": null,
   "id": "bc830fb0",
   "metadata": {},
   "outputs": [],
   "source": [
    "# Create a DataFrame with the predictions\n",
    "df_submission = pd.DataFrame(probs, columns=cfg.LABEL_COLS)\n",
    "df_submission.insert(0, \"id\", df_test_labels[\"id\"])\n",
    "df_submission.to_csv(cfg.PATH_DF_SUBMISSION, index=False)\n",
    "df_submission"
   ]
  },
  {
   "cell_type": "code",
   "execution_count": null,
   "id": "2a95e622",
   "metadata": {},
   "outputs": [],
   "source": [
    "# Create a list of true label columns\n",
    "label_cols_true = [f\"{col}_true\" for col in cfg.LABEL_COLS]"
   ]
  },
  {
   "cell_type": "code",
   "execution_count": null,
   "id": "55d1ae2f",
   "metadata": {},
   "outputs": [],
   "source": [
    "# Create a DataFrame to compare true labels and predictions\n",
    "df_check_scores = df_submission.merge(df_test_labels, on=\"id\", suffixes=(\"_pred\", \"_true\"))\n",
    "df_check_scores = df_check_scores.loc[(df_check_scores[label_cols_true]!=-1).all(axis=1)]\n",
    "df_check_scores"
   ]
  },
  {
   "cell_type": "code",
   "execution_count": null,
   "id": "e088d55a",
   "metadata": {},
   "outputs": [],
   "source": [
    "# Calculate AUC scores for each label\n",
    "auc_scores = {}\n",
    "for col in cfg.LABEL_COLS:\n",
    "    y_true = df_check_scores[f\"{col}_true\"]\n",
    "    y_pred = df_check_scores[f\"{col}_pred\"]\n",
    "    auc_scores[col] = roc_auc_score(y_true, y_pred)"
   ]
  },
  {
   "cell_type": "code",
   "execution_count": null,
   "id": "68dd881f",
   "metadata": {},
   "outputs": [],
   "source": [
    "mean_auc = np.mean(list(auc_scores.values()))\n",
    "print(f\"AUC scores per label: {auc_scores}\")\n",
    "print(f\"Mean column-wise ROC AUC: {mean_auc:.6f}\")"
   ]
  }
 ],
 "metadata": {
  "kernelspec": {
   "display_name": ".venv",
   "language": "python",
   "name": "python3"
  },
  "language_info": {
   "codemirror_mode": {
    "name": "ipython",
    "version": 3
   },
   "file_extension": ".py",
   "mimetype": "text/x-python",
   "name": "python",
   "nbconvert_exporter": "python",
   "pygments_lexer": "ipython3",
   "version": "3.10.11"
  }
 },
 "nbformat": 4,
 "nbformat_minor": 5
}
