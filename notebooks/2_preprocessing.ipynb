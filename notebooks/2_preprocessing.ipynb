{
 "cells": [
  {
   "cell_type": "code",
   "execution_count": 15,
   "id": "9f045529",
   "metadata": {},
   "outputs": [],
   "source": [
    "import sys\n",
    "from pathlib import Path\n",
    "ROOT_DIR = Path().resolve().parents[0]\n",
    "sys.path.append(str(ROOT_DIR))\n",
    "import config as cfg\n",
    "\n",
    "import pandas as pd\n",
    "from skmultilearn.model_selection import IterativeStratification\n",
    "from transformers import AutoTokenizer\n",
    "import numpy as np\n",
    "from datasets import Dataset, load_from_disk\n",
    "import os"
   ]
  },
  {
   "cell_type": "markdown",
   "id": "d126aa21",
   "metadata": {},
   "source": [
    "# Load data"
   ]
  },
  {
   "cell_type": "code",
   "execution_count": 2,
   "id": "0e5c2fae",
   "metadata": {},
   "outputs": [
    {
     "data": {
      "application/vnd.microsoft.datawrangler.viewer.v0+json": {
       "columns": [
        {
         "name": "index",
         "rawType": "int64",
         "type": "integer"
        },
        {
         "name": "id",
         "rawType": "object",
         "type": "string"
        },
        {
         "name": "comment_text",
         "rawType": "object",
         "type": "string"
        },
        {
         "name": "toxic",
         "rawType": "int64",
         "type": "integer"
        },
        {
         "name": "severe_toxic",
         "rawType": "int64",
         "type": "integer"
        },
        {
         "name": "obscene",
         "rawType": "int64",
         "type": "integer"
        },
        {
         "name": "threat",
         "rawType": "int64",
         "type": "integer"
        },
        {
         "name": "insult",
         "rawType": "int64",
         "type": "integer"
        },
        {
         "name": "identity_hate",
         "rawType": "int64",
         "type": "integer"
        }
       ],
       "ref": "006457b4-2eae-48b3-8993-d3b70e64a0b1",
       "rows": [
        [
         "0",
         "0000997932d777bf",
         "Explanation\nWhy the edits made under my username Hardcore Metallica Fan were reverted? They weren't vandalisms, just closure on some GAs after I voted at New York Dolls FAC. And please don't remove the template from the talk page since I'm retired now.89.205.38.27",
         "0",
         "0",
         "0",
         "0",
         "0",
         "0"
        ],
        [
         "1",
         "000103f0d9cfb60f",
         "D'aww! He matches this background colour I'm seemingly stuck with. Thanks.  (talk) 21:51, January 11, 2016 (UTC)",
         "0",
         "0",
         "0",
         "0",
         "0",
         "0"
        ],
        [
         "2",
         "000113f07ec002fd",
         "Hey man, I'm really not trying to edit war. It's just that this guy is constantly removing relevant information and talking to me through edits instead of my talk page. He seems to care more about the formatting than the actual info.",
         "0",
         "0",
         "0",
         "0",
         "0",
         "0"
        ],
        [
         "3",
         "0001b41b1c6bb37e",
         "\"\nMore\nI can't make any real suggestions on improvement - I wondered if the section statistics should be later on, or a subsection of \"\"types of accidents\"\"  -I think the references may need tidying so that they are all in the exact same format ie date format etc. I can do that later on, if no-one else does first - if you have any preferences for formatting style on references or want to do it yourself please let me know.\n\nThere appears to be a backlog on articles for review so I guess there may be a delay until a reviewer turns up. It's listed in the relevant form eg Wikipedia:Good_article_nominations#Transport  \"",
         "0",
         "0",
         "0",
         "0",
         "0",
         "0"
        ],
        [
         "4",
         "0001d958c54c6e35",
         "You, sir, are my hero. Any chance you remember what page that's on?",
         "0",
         "0",
         "0",
         "0",
         "0",
         "0"
        ],
        [
         "5",
         "00025465d4725e87",
         "\"\n\nCongratulations from me as well, use the tools well.  · talk \"",
         "0",
         "0",
         "0",
         "0",
         "0",
         "0"
        ],
        [
         "6",
         "0002bcb3da6cb337",
         "COCKSUCKER BEFORE YOU PISS AROUND ON MY WORK",
         "1",
         "1",
         "1",
         "0",
         "1",
         "0"
        ],
        [
         "7",
         "00031b1e95af7921",
         "Your vandalism to the Matt Shirvington article has been reverted.  Please don't do it again, or you will be banned.",
         "0",
         "0",
         "0",
         "0",
         "0",
         "0"
        ],
        [
         "8",
         "00037261f536c51d",
         "Sorry if the word 'nonsense' was offensive to you. Anyway, I'm not intending to write anything in the article(wow they would jump on me for vandalism), I'm merely requesting that it be more encyclopedic so one can use it for school as a reference. I have been to the selective breeding page but it's almost a stub. It points to 'animal breeding' which is a short messy article that gives you no info. There must be someone around with expertise in eugenics? 93.161.107.169",
         "0",
         "0",
         "0",
         "0",
         "0",
         "0"
        ],
        [
         "9",
         "00040093b2687caa",
         "alignment on this subject and which are contrary to those of DuLithgow",
         "0",
         "0",
         "0",
         "0",
         "0",
         "0"
        ],
        [
         "10",
         "0005300084f90edc",
         "\"\nFair use rationale for Image:Wonju.jpg\n\nThanks for uploading Image:Wonju.jpg. I notice the image page specifies that the image is being used under fair use but there is no explanation or rationale as to why its use in Wikipedia articles constitutes fair use. In addition to the boilerplate fair use template, you must also write out on the image description page a specific explanation or rationale for why using this image in each article is consistent with fair use.\n\nPlease go to the image description page and edit it to include a fair use rationale.\n\nIf you have uploaded other fair use media, consider checking that you have specified the fair use rationale on those pages too. You can find a list of 'image' pages you have edited by clicking on the \"\"my contributions\"\" link (it is located at the very top of any Wikipedia page when you are logged in), and then selecting \"\"Image\"\" from the dropdown box. Note that any fair use images uploaded after 4 May, 2006, and lacking such an explanation will be deleted one week after they have been uploaded, as described on criteria for speedy deletion. If you have any questions please ask them at the Media copyright questions page. Thank you. (talk • contribs • ) \nUnspecified source for Image:Wonju.jpg\n\nThanks for uploading Image:Wonju.jpg. I noticed that the file's description page currently doesn't specify who created the content, so the copyright status is unclear. If you did not create this file yourself, then you will need to specify the owner of the copyright. If you obtained it from a website, then a link to the website from which it was taken, together with a restatement of that website's terms of use of its content, is usually sufficient information. However, if the copyright holder is different from the website's publisher, then their copyright should also be acknowledged.\n\nAs well as adding the source, please add a proper copyright licensing tag if the file doesn't have one already. If you created/took the picture, audio, or video then the  tag can be used to release it under the GFDL. If you believe the media meets the criteria at Wikipedia:Fair use, use a tag such as  or one of the other tags listed at Wikipedia:Image copyright tags#Fair use. See Wikipedia:Image copyright tags for the full list of copyright tags that you can use.\n\nIf you have uploaded other files, consider checking that you have specified their source and tagged them, too. You can find a list of files you have uploaded by following [ this link]. Unsourced and untagged images may be deleted one week after they have been tagged, as described on criteria for speedy deletion. If the image is copyrighted under a non-free license (per Wikipedia:Fair use) then the image will be deleted 48 hours after . If you have any questions please ask them at the Media copyright questions page. Thank you. (talk • contribs • ) \"",
         "0",
         "0",
         "0",
         "0",
         "0",
         "0"
        ],
        [
         "11",
         "00054a5e18b50dd4",
         "bbq \n\nbe a man and lets discuss it-maybe over the phone?",
         "0",
         "0",
         "0",
         "0",
         "0",
         "0"
        ],
        [
         "12",
         "0005c987bdfc9d4b",
         "Hey... what is it..\n@ | talk .\nWhat is it... an exclusive group of some WP TALIBANS...who are good at destroying, self-appointed purist who GANG UP any one who asks them questions abt their ANTI-SOCIAL and DESTRUCTIVE (non)-contribution at WP?\n\nAsk Sityush to clean up his behavior than issue me nonsensical warnings...",
         "1",
         "0",
         "0",
         "0",
         "0",
         "0"
        ],
        [
         "13",
         "0006f16e4e9f292e",
         "Before you start throwing accusations and warnings at me, lets review the edit itself-making ad hominem attacks isn't going to strengthen your argument, it will merely make it look like you are abusing your power as an admin. \nNow, the edit itself is relevant-this is probably the single most talked about event int he news as of late. His absence is notable, since he is the only living ex-president who did not attend. That's certainly more notable than his dedicating an aircracft carrier. \nI intend to revert this edit, in hopes of attracting the attention of an admin that is willing to look at the issue itself, and not throw accusations around quite so liberally. Perhaps, if you achieve a level of civility where you can do this, we can have a rational discussion on the topic and resolve the matter peacefully.",
         "0",
         "0",
         "0",
         "0",
         "0",
         "0"
        ],
        [
         "14",
         "00070ef96486d6f9",
         "Oh, and the girl above started her arguments with me. She stuck her nose where it doesn't belong. I believe the argument was between me and Yvesnimmo. But like I said, the situation was settled and I apologized. Thanks,",
         "0",
         "0",
         "0",
         "0",
         "0",
         "0"
        ],
        [
         "15",
         "00078f8ce7eb276d",
         "\"\n\nJuelz Santanas Age\n\nIn 2002, Juelz Santana was 18 years old, then came February 18th, which makes Juelz turn 19 making songs with The Diplomats. The third neff to be signed to Cam's label under Roc A Fella. In 2003, he was 20 years old coming out with his own singles \"\"Santana's Town\"\" and \"\"Down\"\". So yes, he is born in 1983. He really is, how could he be older then Lloyd Banks? And how could he be 22 when his birthday passed? The homie neff is 23 years old. 1983 - 2006 (Juelz death, god forbid if your thinking about that) equals 23. Go to your caculator and stop changing his year of birth. My god.\"",
         "0",
         "0",
         "0",
         "0",
         "0",
         "0"
        ],
        [
         "16",
         "0007e25b2121310b",
         "Bye! \n\nDon't look, come or think of comming back! Tosser.",
         "1",
         "0",
         "0",
         "0",
         "0",
         "0"
        ],
        [
         "17",
         "000897889268bc93",
         "REDIRECT Talk:Voydan Pop Georgiev- Chernodrinski",
         "0",
         "0",
         "0",
         "0",
         "0",
         "0"
        ],
        [
         "18",
         "0009801bd85e5806",
         "The Mitsurugi point made no sense - why not argue to include Hindi on Ryo Sakazaki's page to include more information?",
         "0",
         "0",
         "0",
         "0",
         "0",
         "0"
        ],
        [
         "19",
         "0009eaea3325de8c",
         "Don't mean to bother you \n\nI see that you're writing something regarding removing anything posted here and if you do oh well but if not and you can acctually discuss this with me then even better.\n\nI'd like to ask you to take a closer look at the Premature wrestling deaths catagory and the men listed in it, surely these men belong together in some catagory. Is there anything that you think we can do with the catagory besides delting it?",
         "0",
         "0",
         "0",
         "0",
         "0",
         "0"
        ],
        [
         "20",
         "000b08c464718505",
         "\"\n\n Regarding your recent edits \n\nOnce again, please read WP:FILMPLOT before editing any more film articles.  Your edits are simply not good, with entirely too many unnecessary details and very bad writing.  Please stop before you do further damage. -''''''The '45 \"",
         "0",
         "0",
         "0",
         "0",
         "0",
         "0"
        ],
        [
         "21",
         "000bfd0867774845",
         "\"\nGood to know. About me, yeah, I'm studying now.(Deepu) \"",
         "0",
         "0",
         "0",
         "0",
         "0",
         "0"
        ],
        [
         "22",
         "000c0dfd995809fa",
         "\"\n\n Snowflakes are NOT always symmetrical! \n\nUnder Geometry it is stated that \"\"A snowflake always has six symmetric arms.\"\" This assertion is simply not true! According to Kenneth Libbrecht, \"\"The rather unattractive irregular crystals are by far the most common variety.\"\" http://www.its.caltech.edu/~atomic/snowcrystals/myths/myths.htm#perfection Someone really need to take a look at his site and get FACTS off of it because I still see a decent number of falsities on this page. (forgive me Im new at this and dont want to edit anything)\"",
         "0",
         "0",
         "0",
         "0",
         "0",
         "0"
        ],
        [
         "23",
         "000c6a3f0cd3ba8e",
         "\"\n\n The Signpost: 24 September 2012 \n\n Read this Signpost in full\n Single-page\n Unsubscribe\n   \n\"",
         "0",
         "0",
         "0",
         "0",
         "0",
         "0"
        ],
        [
         "24",
         "000cfee90f50d471",
         "\"\n\nRe-considering 1st paragraph edit?\nI don't understand the reasons for 's recent edit of this article  not that I'm sure that the data are necessarily \"\"wrong.\"\"  Rather, I'm persuaded that the strategy of introducing academic honors in the first paragraph is an unhelpful approach to this specific subject.  I note that articles about other sitting Justices have been similarly \"\"enhanced;\"\" and I also believe those changes are no improvement.  \n\nIn support of my view that this edit should be reverted, I would invite anyone to re-visit articles written about the following pairs of jurists.\n A1. Benjamin Cardozo\n A2. Learned Hand\n\n B1. John Marshall Harlan\n B2. John Marshall Harlan II\n\nThe question becomes: Would the current version of the Wikipedia article about any one of them  or either pair  be improved by academic credentials in the introductory paragraph?  I think not.\n\nPerhaps it helps to repeat a wry argument Kathleen Sullivan of Stanford Law makes when she suggests that some on the Harvard Law faculty wonder how Antonin Scalia avoided learning what others have managed to grasp about the processes of judging?  I would hope this anecdote gently illustrates the point. \n\nLess humorous, but an even stronger argument is the one Clarence Thomas makes when he mentions wanting to return his law degree to Yale.\n\nAt a minimum, I'm questioning this edit?  It deserves to be reconsidered.   \"",
         "0",
         "0",
         "0",
         "0",
         "0",
         "0"
        ],
        [
         "25",
         "000eefc67a2c930f",
         "Radial symmetry \n\nSeveral now extinct lineages included in the Echinodermata were bilateral such as Homostelea, or even asymmetrical such as Cothurnocystis (Stylophora).\n\n-",
         "0",
         "0",
         "0",
         "0",
         "0",
         "0"
        ],
        [
         "26",
         "000f35deef84dc4a",
         "There's no need to apologize. A Wikipedia article is made for reconciling knowledge about a subject from different sources, and you've done history studies and not archaeology studies, I guess. I could scan the page, e-mail it to you, and then you could ask someone to translate the page.",
         "0",
         "0",
         "0",
         "0",
         "0",
         "0"
        ],
        [
         "27",
         "000ffab30195c5e1",
         "Yes, because the mother of the child in the case against Michael Jackson was studied in here motives and reasonings and judged upon her character just as harshly as Wacko Jacko himself.  Don't tell me to ignore it and incriminate myself.  I am going to continue refuting the bullshit that Jayjg keeps throwing at me.   18:01, 16 Jun 2005 (UTC)",
         "0",
         "0",
         "0",
         "0",
         "0",
         "0"
        ],
        [
         "28",
         "0010307a3a50a353",
         "\"\nOk. But it will take a bit of work but I can't quite picture it. Do you have an example I can base it on?  the Duck \"",
         "0",
         "0",
         "0",
         "0",
         "0",
         "0"
        ],
        [
         "29",
         "0010833a96e1f886",
         "\"== A barnstar for you! ==\n\n  The Real Life Barnstar lets us be the stars\n   \"",
         "0",
         "0",
         "0",
         "0",
         "0",
         "0"
        ],
        [
         "30",
         "0011cc71398479c4",
         "How could I post before the block expires?  The funny thing is, you think I'm being uncivil!",
         "0",
         "0",
         "0",
         "0",
         "0",
         "0"
        ],
        [
         "31",
         "00128363e367d703",
         "Not sure about a heading of 'Fight for Freedom' what will it contain?",
         "0",
         "0",
         "0",
         "0",
         "0",
         "0"
        ],
        [
         "32",
         "001325b8b20ea8aa",
         "Praise \n\nlooked at this article about 6 months ago -much improved. ]",
         "0",
         "0",
         "0",
         "0",
         "0",
         "0"
        ],
        [
         "33",
         "001363e1dbe91225",
         "I was able to post the above list so quickly because I already had it in a text file in my hard drive  I've been meaning to get around to updating the sound list for some time now. \nAs far as generating interest  I've spent four years trying to drum up more interest in freely licensed full length classical music. Unfortunately, my attempts failed - I'm still effectively the only one who does it. The classical music wikiproject was not interested, (Wikipedia_talk:WikiProject_Classical_music/Archive_5#Need_help.21Wikipedia_talk:WikiProject_Music/Archive_3#I_could_use_some_helpWikipedia_talk:WikiProject_Music/Archive_2#Raulbot.2C_and_the_music_list) So I really had given up trying to interest others.  \nThe sound list was featured on digg a while back - http://digg.com/music/Wikipedia_has_free_classical_music_downloads . It got 1600 diggs, which is IMO very impressive.",
         "0",
         "0",
         "0",
         "0",
         "0",
         "0"
        ],
        [
         "34",
         "0013a8b1a5f26bcb",
         "\"\nWell, not \"\"before the process\"\" but \"\"before how we do things with subpages\"\" His RfA is listed on NoSeptember's page and you can find it if you look. September 2004 I think. I have my differences with El_C to be sure, but was surprised to see a block, so I left a note. ++: t/c \"",
         "0",
         "0",
         "0",
         "0",
         "0",
         "0"
        ],
        [
         "35",
         "00148d055a169b93",
         "\"\n\nNot at all, you are making a straw man argument here. I never claimed O'Donohue had that position, rather that practitioners and researchers in the field ignored the DSM position, which is exactly what the quote says and also something O'Donohue agrees with. \n\nAgain, I was combating the notion that it was a \"\"absurd part\"\" to claim that pedophilia is a sexual orientation. Since many researchers hold this position, it would be unfair to call it absurd. The disorder part is divided in the field, some argue that it is not a disorder at all, some do. At the end of the day, it is a value judgment (as Cantor pointed out earlier in the thread), not a scientific judgement. If we choose to make this value judgment in the article, it should be stated clearly and not pretend to have a scientific basis.   \"",
         "0",
         "0",
         "0",
         "0",
         "0",
         "0"
        ],
        [
         "36",
         "00151a9f93c6b059",
         "\"\n\n \"\"Mainland Asia\"\" includes \"\"the lower basin of China's Yangtze River\"\" as well as \"\"Korea\"\".  But being specific is fine too.  I just found a citation for a more comprehensive DNA study by Hammer below, rather than our generarizations and speculation so far. \n\n Citation for \"\"Yayoi culture was brought to Japan by migrants from Korea, who in turn trace their roots to southeast Asia/south China.\"\" \n\n 2005 DNA study by Hammer\n Describes the Yayoi migration from Korea based on the O-SRY(465) genes and other genes with close lineage (haplogroups O-M122 and O-M95).\nReiterates that \"\"the entire O haplogroup has been proposed to have a Southeast Asian origin.\"\"  (Their definition of Southeast Asia includes southern China).  Then hypothesizes that \"\"the dispersals of Neolithic farmers from Southeast Asia also brought haplogroup O lineages to Korea and eventually to Japan.\"\"\n In the concluding paragraph, it states \"\"we propose that the Yayoi Y chromosomes descend from prehistoric farmers that had their origins in southeastern Asia, perhaps going back to the origin of agriculture in this region.\"\"\n Hammer's DNA study is based on a \"\"global sample consisted of > 2,500 males from 39 Asian populations, including six populations sampled from across the Japanese archipelago.\"\"\n \"",
         "0",
         "0",
         "0",
         "0",
         "0",
         "0"
        ],
        [
         "37",
         "0015f4aa35ebe9b5",
         "pretty much everyone from warren county/surrounding regions was born at glens falls hospital. myself included. however, i'm not sure this qualifies anyone as being a glens falls native. rachel ray is, i believe, actually from the town of lake luzerne.  —The preceding unsigned comment was added by 70.100.229.154  04:28:57, August 19, 2007 (UTC)",
         "0",
         "0",
         "0",
         "0",
         "0",
         "0"
        ],
        [
         "38",
         "00169857adbc989b",
         "Hi Explicit, can you block O Fenian for edit-warring on the Giant's Causeway wp. He has made several edits which can only be described as terrorism.",
         "0",
         "0",
         "0",
         "0",
         "0",
         "0"
        ],
        [
         "39",
         "0016e01b742b8da3",
         "Notability of Rurika Kasuga\nA tag has been placed on Rurika Kasuga, requesting that it be speedily deleted from Wikipedia. This has been done because the article seems to be about a person, group of people, band, club, company, or web content, but it does not indicate how or why the subject is notable, that is, why an article about that subject should be included in Wikipedia. Under the criteria for speedy deletion, articles that do not assert notability may be deleted at any time. Please see the guidelines for what is generally accepted as notable, and if you can indicate why the subject of this article is notable, you may contest the tagging. To do this, add  on the top of the page (below the existing db tag) and leave a note on the article's talk page explaining your position. Please do not remove the speedy deletion tag yourself, but don't hesitate to add information to the article that would confirm its subject's notability under the guidelines.\n\nFor guidelines on specific types of articles, you may want to check out our criteria for biographies, for web sites, for bands, or for companies. Feel free to leave a note on my talk page if you have any questions about this.",
         "0",
         "0",
         "0",
         "0",
         "0",
         "0"
        ],
        [
         "40",
         "001735f961a23fc4",
         "\"\n Sure, but the lead must briefly summarize Armenia's history. I simply added what I found necessary. If anyone thinks this or that sentence is redundant for the lead, they are welcome to remove make edits.  talk  \"",
         "0",
         "0",
         "0",
         "0",
         "0",
         "0"
        ],
        [
         "41",
         "00173958f46763a2",
         "TFD \n\nI think we just eced. I think we responded to each other without seeing each others responses. I added something in response to yours, but don't know if you saw mine. (T/C//WP:CHICAGO/WP:FOUR)",
         "0",
         "0",
         "0",
         "0",
         "0",
         "0"
        ],
        [
         "42",
         "001810bf8c45bf5f",
         "You are gay or antisemmitian? \n\nArchangel WHite Tiger\n\nMeow! Greetingshhh!\n\nUh, there are two ways, why you do erased my comment about WW2, that holocaust was brutally slaying of Jews and not gays/Gypsys/Slavs/anyone...\n\n1 - If you are anti-semitian, than shave your head bald and go to the skinhead meetings!\n\n2 - If you doubt words of the Bible, that homosexuality is a deadly sin, make a pentagram tatoo on your forehead go to the satanistic masses with your gay pals!\n\n3 - First and last warning, you fucking gay - I won't appreciate if any more nazi shwain would write in my page! I don't wish to talk to you anymore!\n\nBeware of the Dark Side!",
         "1",
         "0",
         "1",
         "0",
         "1",
         "1"
        ],
        [
         "43",
         "00190820581d90ce",
         "FUCK YOUR FILTHY MOTHER IN THE ASS, DRY!",
         "1",
         "0",
         "1",
         "0",
         "1",
         "0"
        ],
        [
         "44",
         "001956c382006abd",
         "I'm Sorry \n\nI'm sorry I screwed around with someones talk page.  It was very bad to do.  I know how having the templates on their talk page helps you assert your dominance over them.  I know I should bow down to the almighty administrators.  But then again, I'm going to go play outside....with your mom.   76.122.79.82",
         "1",
         "0",
         "0",
         "0",
         "0",
         "0"
        ],
        [
         "45",
         "001b2dd65d9d925c",
         "I don't believe the Lisak criticism present there conforms with the NPV rule.  Lisak doesn't have a neutral point of view to begin with.  If an offer to polygraph or even concerned review of polygraph results shocks a complainant into thinking her lies have been uncovered, the recantation is still perfectly valid.  If you know you are telling the truth, you will argue with machine or investigator.  Also part of Kanin's research was a followup of the recanted story where possible to verify if any were false recantations.  In all followups the recanted version of events matched what the accused said happened.\n\nArguing that Lisak is a respected PHD is baseless if Kanin is a respected PHD.  I agree that my edit wasn't as neutral as possible though, so apologize for that.  Still something must be done here.",
         "0",
         "0",
         "0",
         "0",
         "0",
         "0"
        ],
        [
         "46",
         "001c419c445b5a59",
         "You had a point, and it's now ammended with appropriate encyclopedic notability/significance.",
         "0",
         "0",
         "0",
         "0",
         "0",
         "0"
        ],
        [
         "47",
         "001c557175094f10",
         "In other words, you're too lazy to actually point anything out. Until you change that approach, the tag goes.",
         "0",
         "0",
         "0",
         "0",
         "0",
         "0"
        ],
        [
         "48",
         "001cadfd324f8087",
         "\"\nAs for your claims of \"\"stalking\"\", that is absolute rubbish and serves only to aggravate the situation. I have assumed good faith (and good intentions) on your part, and have never suggested (or seen reason to suggest) that you might have some ulterior motive in mass-adding links to one specific company's web page. Nor, for that matter, have I ever made any suggestion that this is an \"\"administrative\"\" matter or even mentioned such a role. (Clearly, as a party to this disagreement, I would not do so at any rate as it would be a conflict of interest.) I would ask that you thus extend the same good faith toward me, rather than making spurious and unfounded accusations. ''''''chatspy \n\n\"",
         "0",
         "0",
         "0",
         "0",
         "0",
         "0"
        ],
        [
         "49",
         "001d874a4d3e8813",
         "\"::::Jmabel; in regards to predominant scholary consensus who is it that allegedly claims \"\"despite \"\"Third Way\"\" rhetoric, fascism in power functioned rather consistently as a right-wing force\"\"? As far as I'm aware (owning numerous books on the subject) that is not the scholary consensus at all. The consensus, developed by respected scholars of fascism who write in a manner which is not bias to any interest group such as Roger Griffin, Hamish McDonald, Roger Eatwell and Zeev Sternhell all recongise fascism as a \"\"Third Way\"\" as the references show.\n\nThe only dissenters I'm aware of who seem to think fascism has absoutely no leftist connections and is merely a radical right system are street level socialists who want to put as much distance between the movements as possible. This of course does not come from educated people in a position to write books. For example, even the foremost scholary expert on Fascism, and a former member of both the Communist Party and then Socialist Party of Italy, Renzo De Felice doesn't try to \"\"cover up\"\" its socialistic origins and third way status. This is a man who has wrote a definitive seven volume piece on Mussolini. -   \n\n\"",
         "0",
         "0",
         "0",
         "0",
         "0",
         "0"
        ]
       ],
       "shape": {
        "columns": 8,
        "rows": 159571
       }
      },
      "text/html": [
       "<div>\n",
       "<style scoped>\n",
       "    .dataframe tbody tr th:only-of-type {\n",
       "        vertical-align: middle;\n",
       "    }\n",
       "\n",
       "    .dataframe tbody tr th {\n",
       "        vertical-align: top;\n",
       "    }\n",
       "\n",
       "    .dataframe thead th {\n",
       "        text-align: right;\n",
       "    }\n",
       "</style>\n",
       "<table border=\"1\" class=\"dataframe\">\n",
       "  <thead>\n",
       "    <tr style=\"text-align: right;\">\n",
       "      <th></th>\n",
       "      <th>id</th>\n",
       "      <th>comment_text</th>\n",
       "      <th>toxic</th>\n",
       "      <th>severe_toxic</th>\n",
       "      <th>obscene</th>\n",
       "      <th>threat</th>\n",
       "      <th>insult</th>\n",
       "      <th>identity_hate</th>\n",
       "    </tr>\n",
       "  </thead>\n",
       "  <tbody>\n",
       "    <tr>\n",
       "      <th>0</th>\n",
       "      <td>0000997932d777bf</td>\n",
       "      <td>Explanation\\nWhy the edits made under my usern...</td>\n",
       "      <td>0</td>\n",
       "      <td>0</td>\n",
       "      <td>0</td>\n",
       "      <td>0</td>\n",
       "      <td>0</td>\n",
       "      <td>0</td>\n",
       "    </tr>\n",
       "    <tr>\n",
       "      <th>1</th>\n",
       "      <td>000103f0d9cfb60f</td>\n",
       "      <td>D'aww! He matches this background colour I'm s...</td>\n",
       "      <td>0</td>\n",
       "      <td>0</td>\n",
       "      <td>0</td>\n",
       "      <td>0</td>\n",
       "      <td>0</td>\n",
       "      <td>0</td>\n",
       "    </tr>\n",
       "    <tr>\n",
       "      <th>2</th>\n",
       "      <td>000113f07ec002fd</td>\n",
       "      <td>Hey man, I'm really not trying to edit war. It...</td>\n",
       "      <td>0</td>\n",
       "      <td>0</td>\n",
       "      <td>0</td>\n",
       "      <td>0</td>\n",
       "      <td>0</td>\n",
       "      <td>0</td>\n",
       "    </tr>\n",
       "    <tr>\n",
       "      <th>3</th>\n",
       "      <td>0001b41b1c6bb37e</td>\n",
       "      <td>\"\\nMore\\nI can't make any real suggestions on ...</td>\n",
       "      <td>0</td>\n",
       "      <td>0</td>\n",
       "      <td>0</td>\n",
       "      <td>0</td>\n",
       "      <td>0</td>\n",
       "      <td>0</td>\n",
       "    </tr>\n",
       "    <tr>\n",
       "      <th>4</th>\n",
       "      <td>0001d958c54c6e35</td>\n",
       "      <td>You, sir, are my hero. Any chance you remember...</td>\n",
       "      <td>0</td>\n",
       "      <td>0</td>\n",
       "      <td>0</td>\n",
       "      <td>0</td>\n",
       "      <td>0</td>\n",
       "      <td>0</td>\n",
       "    </tr>\n",
       "    <tr>\n",
       "      <th>...</th>\n",
       "      <td>...</td>\n",
       "      <td>...</td>\n",
       "      <td>...</td>\n",
       "      <td>...</td>\n",
       "      <td>...</td>\n",
       "      <td>...</td>\n",
       "      <td>...</td>\n",
       "      <td>...</td>\n",
       "    </tr>\n",
       "    <tr>\n",
       "      <th>159566</th>\n",
       "      <td>ffe987279560d7ff</td>\n",
       "      <td>\":::::And for the second time of asking, when ...</td>\n",
       "      <td>0</td>\n",
       "      <td>0</td>\n",
       "      <td>0</td>\n",
       "      <td>0</td>\n",
       "      <td>0</td>\n",
       "      <td>0</td>\n",
       "    </tr>\n",
       "    <tr>\n",
       "      <th>159567</th>\n",
       "      <td>ffea4adeee384e90</td>\n",
       "      <td>You should be ashamed of yourself \\n\\nThat is ...</td>\n",
       "      <td>0</td>\n",
       "      <td>0</td>\n",
       "      <td>0</td>\n",
       "      <td>0</td>\n",
       "      <td>0</td>\n",
       "      <td>0</td>\n",
       "    </tr>\n",
       "    <tr>\n",
       "      <th>159568</th>\n",
       "      <td>ffee36eab5c267c9</td>\n",
       "      <td>Spitzer \\n\\nUmm, theres no actual article for ...</td>\n",
       "      <td>0</td>\n",
       "      <td>0</td>\n",
       "      <td>0</td>\n",
       "      <td>0</td>\n",
       "      <td>0</td>\n",
       "      <td>0</td>\n",
       "    </tr>\n",
       "    <tr>\n",
       "      <th>159569</th>\n",
       "      <td>fff125370e4aaaf3</td>\n",
       "      <td>And it looks like it was actually you who put ...</td>\n",
       "      <td>0</td>\n",
       "      <td>0</td>\n",
       "      <td>0</td>\n",
       "      <td>0</td>\n",
       "      <td>0</td>\n",
       "      <td>0</td>\n",
       "    </tr>\n",
       "    <tr>\n",
       "      <th>159570</th>\n",
       "      <td>fff46fc426af1f9a</td>\n",
       "      <td>\"\\nAnd ... I really don't think you understand...</td>\n",
       "      <td>0</td>\n",
       "      <td>0</td>\n",
       "      <td>0</td>\n",
       "      <td>0</td>\n",
       "      <td>0</td>\n",
       "      <td>0</td>\n",
       "    </tr>\n",
       "  </tbody>\n",
       "</table>\n",
       "<p>159571 rows × 8 columns</p>\n",
       "</div>"
      ],
      "text/plain": [
       "                      id                                       comment_text  \\\n",
       "0       0000997932d777bf  Explanation\\nWhy the edits made under my usern...   \n",
       "1       000103f0d9cfb60f  D'aww! He matches this background colour I'm s...   \n",
       "2       000113f07ec002fd  Hey man, I'm really not trying to edit war. It...   \n",
       "3       0001b41b1c6bb37e  \"\\nMore\\nI can't make any real suggestions on ...   \n",
       "4       0001d958c54c6e35  You, sir, are my hero. Any chance you remember...   \n",
       "...                  ...                                                ...   \n",
       "159566  ffe987279560d7ff  \":::::And for the second time of asking, when ...   \n",
       "159567  ffea4adeee384e90  You should be ashamed of yourself \\n\\nThat is ...   \n",
       "159568  ffee36eab5c267c9  Spitzer \\n\\nUmm, theres no actual article for ...   \n",
       "159569  fff125370e4aaaf3  And it looks like it was actually you who put ...   \n",
       "159570  fff46fc426af1f9a  \"\\nAnd ... I really don't think you understand...   \n",
       "\n",
       "        toxic  severe_toxic  obscene  threat  insult  identity_hate  \n",
       "0           0             0        0       0       0              0  \n",
       "1           0             0        0       0       0              0  \n",
       "2           0             0        0       0       0              0  \n",
       "3           0             0        0       0       0              0  \n",
       "4           0             0        0       0       0              0  \n",
       "...       ...           ...      ...     ...     ...            ...  \n",
       "159566      0             0        0       0       0              0  \n",
       "159567      0             0        0       0       0              0  \n",
       "159568      0             0        0       0       0              0  \n",
       "159569      0             0        0       0       0              0  \n",
       "159570      0             0        0       0       0              0  \n",
       "\n",
       "[159571 rows x 8 columns]"
      ]
     },
     "execution_count": 2,
     "metadata": {},
     "output_type": "execute_result"
    }
   ],
   "source": [
    "df_train = pd.read_csv(cfg.PATH_DF_TRAIN)\n",
    "df_train"
   ]
  },
  {
   "cell_type": "code",
   "execution_count": 3,
   "id": "20df5c1d",
   "metadata": {},
   "outputs": [
    {
     "data": {
      "application/vnd.microsoft.datawrangler.viewer.v0+json": {
       "columns": [
        {
         "name": "index",
         "rawType": "int64",
         "type": "integer"
        },
        {
         "name": "id",
         "rawType": "object",
         "type": "string"
        },
        {
         "name": "comment_text",
         "rawType": "object",
         "type": "string"
        }
       ],
       "ref": "bbae1089-c44e-4b41-8eba-a40521ef128a",
       "rows": [
        [
         "0",
         "00001cee341fdb12",
         "Yo bitch Ja Rule is more succesful then you'll ever be whats up with you and hating you sad mofuckas...i should bitch slap ur pethedic white faces and get you to kiss my ass you guys sicken me. Ja rule is about pride in da music man. dont diss that shit on him. and nothin is wrong bein like tupac he was a brother too...fuckin white boys get things right next time.,"
        ],
        [
         "1",
         "0000247867823ef7",
         "== From RfC == \n\n The title is fine as it is, IMO."
        ],
        [
         "2",
         "00013b17ad220c46",
         "\" \n\n == Sources == \n\n * Zawe Ashton on Lapland —  /  \""
        ],
        [
         "3",
         "00017563c3f7919a",
         ":If you have a look back at the source, the information I updated was the correct form. I can only guess the source hadn't updated. I shall update the information once again but thank you for your message."
        ],
        [
         "4",
         "00017695ad8997eb",
         "I don't anonymously edit articles at all."
        ],
        [
         "5",
         "0001ea8717f6de06",
         "Thank you for understanding. I think very highly of you and would not revert without discussion."
        ],
        [
         "6",
         "00024115d4cbde0f",
         "Please do not add nonsense to Wikipedia. Such edits are considered vandalism and quickly undone. If you would like to experiment, please use the sandbox instead. Thank you.   -"
        ],
        [
         "7",
         "000247e83dcc1211",
         ":Dear god this site is horrible."
        ],
        [
         "8",
         "00025358d4737918",
         "\" \n Only a fool can believe in such numbers. \n The correct number lies between 10 000 to 15 000. \n Ponder the numbers carefully.  \n\n This error will persist for a long time as it continues to reproduce... The latest reproduction I know is from ENCYCLOPÆDIA BRITANNICA ALMANAC 2008 wich states \n Magnittude: 8.7 (fair enough) \n victims: 70 000 (today 10 000 to 15 000 is not \"\"a lot\"\" so I guess people just come out with a number that impresses enough, I don't know. But I know this: it's just a shameless lucky number that they throw in the air. \n GC \n\n \""
        ],
        [
         "9",
         "00026d1092fe71cc",
         "== Double Redirects == \n\n When fixing double redirects, don't just blank the outer one, you need edit it to point it to the final target, unless you think it's inappropriate, in which case, it needs to be nominated at WP:RfD"
        ],
        [
         "10",
         "0002eadc3b301559",
         "I think its crap that the link to roggenbier is to this article. Somebody that knows how to do things should change it."
        ],
        [
         "11",
         "0002f87b16116a7f",
         "\"::: Somebody will invariably try to add Religion?  Really??  You mean, the way people have invariably kept adding \"\"Religion\"\" to the Samuel Beckett infobox?  And why do you bother bringing up the long-dead completely non-existent \"\"Influences\"\" issue?  You're just flailing, making up crap on the fly. \n ::: For comparison, the only explicit acknowledgement in the entire Amos Oz article that he is personally Jewish is in the categories!    \n\n \""
        ],
        [
         "12",
         "0003806b11932181",
         ", 25 February 2010 (UTC) \n\n :::Looking it over, it's clear that  (a banned sockpuppet of ) ignored the consensus (&, fwiw, policy-appropriate) choice to leave the page at Chihuahua (Mexico) and the current page should be returned there. Anyone have the time to fix the incoming links? -  18:24"
        ],
        [
         "13",
         "0003e1cccfd5a40a",
         "\" \n\n It says it right there that it IS a type. The \"\"Type\"\" of institution is needed in this case because there are three levels of SUNY schools: \n -University Centers and Doctoral Granting Institutions \n -State Colleges \n -Community Colleges. \n\n It is needed in this case to clarify that UB is a SUNY Center. It says it even in Binghamton University, University at Albany, State University of New York, and Stony Brook University. Stop trying to say it's not because I am totally right in this case.\""
        ],
        [
         "14",
         "00059ace3e3e9a53",
         "\" \n\n == Before adding a new product to the list, make sure it's relevant == \n\n Before adding a new product to the list, make sure it has a wikipedia entry already, \"\"proving\"\" it's relevance and giving the reader the possibility to read more about it. \n Otherwise it could be subject to deletion. See this article's revision history.\""
        ],
        [
         "15",
         "000634272d0d44eb",
         "==Current Position== \n Anyone have confirmation that Sir, Alfred is no longer at the airport and is hospitalised?"
        ],
        [
         "16",
         "000663aff0fffc80",
         "this other one from 1897"
        ],
        [
         "17",
         "000689dd34e20979",
         "== Reason for banning throwing == \n\n This article needs a section on /why/ throwing is banned. At the moment, to a non-cricket fan, it seems kind of arbitrary."
        ],
        [
         "18",
         "000834769115370c",
         ":: Wallamoose was changing the cited material to say things the original source did not say. In response to his objections, I modified the article as we went along. I was not just reverting him. I repeatedly asked him to use the talk page. I've been trying to add to the article for a long time.  It's so thin on content. This is wrong."
        ],
        [
         "19",
         "000844b52dee5f3f",
         "|blocked]] from editing Wikipedia.   |"
        ],
        [
         "20",
         "00084da5d4ead7aa",
         "==Indefinitely blocked== \n I have indefinitely blocked this account."
        ],
        [
         "21",
         "00091c35fa9d0465",
         "== Arabs are committing genocide in Iraq, but no protests in Europe. == \n\n May Europe also burn in hell."
        ],
        [
         "22",
         "000968ce11f5ee34",
         "Please stop. If you continue to vandalize Wikipedia, as you did to Homosexuality, you will be blocked from editing."
        ],
        [
         "23",
         "0009734200a85047",
         "== Energy  == \n\n I have edited the introduction, because previously it said that passive transport does not use any kind of energy. This is not true. Passive transport relies on the kinetic energy of the substance that is being transported. This kinetic energy is what causes it to move around and (by random chance) cross the membrane. The difference is that active transport actually uses the cell's energy (ATP or electrochemical gradient) to pump the substance across the membrane."
        ],
        [
         "24",
         "00097b6214686db5",
         ":yeah, thanks for reviving the tradition of pissing all over articles because you want to live out your ethnic essentialism. Why let mere facts get into the way of enjoying that."
        ],
        [
         "25",
         "0009aef4bd9e1697",
         "MLM Software,NBFC software,Non Banking Financial Company,NBFC software company,NBFC software in india,software for banking,Gold loan software.MLM Software  \n\n '''SEO Services \n Search Engine Optimization \n www.liveindiatech.com \n\n According to a recenBold textt survey people have moved away from searching print media for their needs. They use search engines to find the products and services. The first step to have a successful presence over the internet is creating your own website but that is not enough. When someone searches for the products/services that you offer your name needs to be listed high in the search engine.  \n\n Live India Tech guarantees you search engine optimization using which your organizations name will feature in the top ten listing in all the search engines. This will ensure that the traffic to your site will increase exponentially aiding you in the sales of more products and services.  \n\n We have invested enough resources to develop an SEO system that is far superior to anything else in the market. \n\n www.liveindiatech.com"
        ],
        [
         "26",
         "000a02d807ae0254",
         "@RedSlash, cut it short. If you have sources stating the RoK is sovereign post them. Otherwise please aknowledge WP is not the place to make OR."
        ],
        [
         "27",
         "000a6c6d4e89b9bc",
         "==================== \n Deception is the way of the Ninja..... \n\n Hence, Frank Dux is an amazing Ninja"
        ],
        [
         "28",
         "000bafe2080bba82",
         ". \n\n           Jews are not a race because you can only get it from your mother. Your own mention of Ethiopian Jews not testing \n           as Jews proves it is not, as well as the fact that we accept converts"
        ],
        [
         "29",
         "000bf0a9894b2807",
         ":::If Ollie or others think that one list of the oldest people we know about is too long, the easy answer is to raise the cutoff age. 110 is purely a round number and a full 12 years shorter then the record. We can make it the top 1000 or top 500 or everyone above 115 - tell us what the maximum list size is and we can set a threshold."
        ],
        [
         "30",
         "000c50dceb1eed2b",
         "\" \n *Support Per Jimbo and WP:google \"\"Climatic Research Unit email controversy\"\" =4,930 results, \"\"climategate\"\" =3,210,000 results. MFA  \n\n  \n \""
        ],
        [
         "31",
         "000c9b92318552d1",
         "Professors to the Manhatten Project."
        ],
        [
         "32",
         "000ce41d86f2b886",
         ":::::I have added more wikilinks to my sections and included more secondary sources as you suggested. For all the citations under human disease section, I went through them and exchanged review articles for the primary sources. Thanks again for all your input!"
        ],
        [
         "33",
         "000cf60dbaed8c02",
         "\" \n\n :Not sure whether this is notable enough to be mentioned in the article, but you're right – versions later than 6 (2001) can open files created by all previous versions, but save files only in its own format, with a suffix of \"\".msX\"\", where X is the version number (7, 8, 9, 10, 11, 12...). This is intentional, of course. Besides, all versions but 7 save files in a compressed format. ☭共产主义万岁★ \""
        ],
        [
         "34",
         "000d4f120d5a7303",
         "일이삼사오육칠팔구하고십이요 에헤헤 으헤 으헤 으허허"
        ],
        [
         "35",
         "000d60becb7d1a67",
         "I've deleted the page , as we have no evidence that you are the person named on that page, and its content goes against Wikipedia's policies for the use of user pages."
        ],
        [
         "36",
         "000fc381d4895598",
         "== Nation Radio - request for comment == \n\n Hi Dravecky, I'm just contacting a couple of editors with more specialist knowledge to resolve a discussion at Talk:Nation Radio about naming a broadcast area. I'd be interested in your feedback. Thanks"
        ],
        [
         "37",
         "000ff37cf57ab537",
         "\"\"\" (per your user page)\""
        ],
        [
         "38",
         "001068b809feee6b",
         "\" \n\n ==balance== \n This page has one sentence about the basic definition of the word, and a huge amount about the slang/profane uses. Perhaps the former should be extended; is there no information about female dogs available beyond their name? This is an encyclopaedia, not a dictionary.  \n\n  \n i feel that whoever is looking this definition up is very appropiate and should be deleted from wikipedia...IMMEDIATLY. this word is used very often and is also a very \"\"mean\"\" word. i belive that is majorly true. very much so. okay so, the good meaning is a female dog.  BITCH !!!!!!!!!It also stands for the name Brittany Fellows—Preceding unsigned comment added by   •    \n\n ==etymology== \n The word bitch is from the Old Norse Bikkjuna meaning \"\"female of the dog\"\" of unknown origin, Grimm derives the Old Norse words from Lapp Pittja, But OED notes that \"\"the converse is equally possible.\"\" \n The adj. Bitchy was first seen in 1925.  \n The verb meaning to complain in 1930. \n Slang Bitchen \"\"good\"\" is attested to the 1950's \n\n == reclaiming the word bitch == \n The word bitch is actually only offencive in American and Canadian English. In most other English variants bitch maintains it's correct definition - female canine. People have argued that bitch is different because it is used as an insult - but so is \"\"pig\"\", \"\"dog\"\", \"\"cow\"\" and others. These are not considered profane, so why is bitch? As far as I am concerned, there is nothing to \"\"reclaim\"\" as bitch simply means a female canine. \n\n It may be used as a pejorative or descriptor - that does not make it a profanity. \n\n    \n It should definately say something about Kyle Vanderweilen and all his bitchin Is there any particular evidence of women \"\"reclaiming\"\" the word bitch in the 90s? Can anyone point to articles on this, etc.? The song is definitely interesting and belongs here, but doesn't actually reclaim the word \"\"bitch\"\" any more than it reclaims the word \"\"sinner.\"\" \n\n Also, I don't really understand the last paragraph and it sucks  I was going to try and clear it up, but I realized I don't know what it means. Can someone point to a source that lays out the argument about bitches, fertility and patriarchy more clearly? \n\n \n\n :We don't need articles at all as I there are definitely enough examples (even outside of the 90s). Missy Elliot cleary and repeatedly reclaims the word, for instance, \"\"She's a Bitch\"\".   \n\n ::References are fine  just the name \"\"Missy Elliot\"\" got me to find a quote of a rolling stone review that mentioned \"\"reclaiming\"\" the word. In fact, if some one knows more about her, it might be interesting to add a section on her work and on how it relates to women/slurs more generally within hip-hop.   \n\n :::How relevant is this reclamation? It seems to me poison for a woman to use an epithet which still strongly connotes despised traits. I don't see how using a word connoting \"\"querolous\"\", \"\"spiteful\"\", and \"\"malicious\"\" can be empowering. But I don't know; life's a bitch.   \n\n ::::It stems from a reaction to the prevalence of tagging any woman who doesn't adhere to a certain standard of femininity as a bitch. To use a literary example, in the novel The Handmaid's Tale the narrator related the feeling that, whenever she outsmarted a man, she could almost hear him calling her a bitch in his mind, even her own husband. -   \n\n :::::That literary reaction you recited is jealousy; men have names for other men who outsmart them too, but, not having a word like \"\"bitch\"\" for them, they have to resort to a greater variety of pejoritive epithets. Though you haven't been specific, I think that standard of femininity you referred to is a pretext for subordination, which both sexes often strive to impose on the other, but men have traditionally had more power. Because it is such a popular epithet in slang, the connotations of \"\"bitch\"\" are diffuse, though still commonly pernicious. I think bitch, in itself, is not chiefly a denunciation to punish women who do not conform to that standard, but rather a contemptuous word often used for it. \n\n :::::However, I still don't see the point of reclamati"
        ],
        [
         "39",
         "0011c58fcfd6bf91",
         "\" \n\n *@EdJohnston. Your question was about figures in summary. Here are a few points about this. \n #Yes, the number of victims is important in an article about political repression. Therefore, the number (or a range of numbers) should be provided in the introduction. \n #The numbers of people \"\"killed\"\" and the number of people \"\"who died as a result of Communist policies\"\" are different. The second number is significantly greater: it is more than 60 million (rather than 20 million) in the Soviet Union alone according to The Guinness Book of Records. \n #I did not see any estimates of the number of people killed by all Communist regimes except \"\"Black book\"\", which qualifies as a secondary RS written by a group of European historians. It tells exactly this: \"\"100 million people killed by all Communist regimes\"\". They note that the number is approximate, which also should be noted in the introduction. If there are any other secondary RS that tell \"\"N million people killed by all Communist regimes\"\", they must be also used to obtain a range of numbers. \n #As a side note to others, it is grossly inappropriate to discuss sanctions at article talk pages. If you think that sanctions are needed, please go to appropriate administrative noticeboards and report your concerns there.   \""
        ],
        [
         "40",
         "0011cefc680993ba",
         "REDIRECT Talk:Mi Vida Eres Tú"
        ],
        [
         "41",
         "0011ef6aa33d42e6",
         "\" \n I'm not convinced that he was blind. Where is this documented? It's possible that he was just what we'd call \"\"Legally blind\"\" ie didn't have great vision, and that the name \"\"Blind Blake\"\" is an exaggerated moniker. Although I have no proof I've got a feeling that him being legally blind is more likely than totally blind. Of course I've got no evidence to back that thing up.\""
        ],
        [
         "42",
         "0012706ac77a7b37",
         "== Thanks for the Barnstar! == \n\n Thank you for awarding me with the RickK Anti-Vandilism Barnstar!"
        ],
        [
         "43",
         "0012bb72f20ae971",
         "\" \n\n == Ref: SS Ponzi Scheme == \n\n Hi Padillah, \n It is not my opinion that I am trying to impose here, although it may appear to be so. I am just highlighting the fact that it remains controversial whether it is or isn't a Ponzi Scheme (even if a legal one), so you cannot state as a fact that it is not a Ponzi Scheme (I saw the reference, and the perpetrator itself cannot be treated as a \"\"reliable source\"\"). In fact, claiming it is not a Ponzi Scheme seems to be an opinion in itself. My point is that a claim should not be made either way, and the edit in question just accomplishes that.  \n Thank you, \n Virat\""
        ],
        [
         "44",
         "0012bbcbd6958302",
         "\" \n\n Look, Gerry Spence has NOT \"\"never lost a case, criminal or civil.\"\" That is simply untrue. He prevailed in two cases about which he wrote books (Silkwood and the Miss Wyoming vs. Penthouse cases). He won both massively at trial, and both were completely overturned. In 1985 he represented then-15 year old Michael Jones charged with murder as a juvenile. In Oregon the trial was a criminal trial in EVERY sense except that the juvenile neither received a jury (which Spence argued at the time he was entitled to) and the sentencing authority then ended at age 21. Chief Justice Alex Kozinski of the 9Th U.S. Circuit court mentions the arrogance of trial lawyers who claim to \"\"never have lost a cast.\"\"   \"\"n19. There's one famous exception: Gerry Spence, at least to hear him tell it. See Gerry Spence, Gunning for Justice 47 (1982). But see Sherrie F. Nachman, True Lies, Starring Gerry Spence, Am. Law., Sept. 1994, at 13 (disputing Spence's claim made in Gunning for Justice and widely reported by the media, and quoting one victorious Spence adversary, \"\"It's a lie.\"\").\"\"\""
        ],
        [
         "45",
         "00137446b1aec28c",
         "== September 20th Truce == \n\n According to several news sources, a truce was reached in Minsk last night. http://www.bbc.com/news/world-europe-29290246"
        ],
        [
         "46",
         "0013a435effa29bd",
         "I'd never think I'd need to say it, but Wikipedia isn't a fansite discussion board. If anything is unannounced by any authority, it might as well be false. MMORPGs are overrated,"
        ],
        [
         "47",
         "0013be435187e84f",
         "But this is not the article about government position but about the reaction. Add positions to 2008 Kosovo declaration of independence or Foreign relations of Kosovo."
        ],
        [
         "48",
         "0013fed3aeae76b7",
         "DJ Robinson is gay as hell! he sucks his dick so much!!!!!"
        ],
        [
         "49",
         "001411adf8f1dd82",
         "== Dracula's Grandmother == \n\n  \n Dracula's grandmother was a Bulgarian princess, the sister of Ivan Sratzimir. The links with the lands across the Danube remain largely unexamined. I would appreciate any serious contributions. \n (Kaloyan)"
        ]
       ],
       "shape": {
        "columns": 2,
        "rows": 153164
       }
      },
      "text/html": [
       "<div>\n",
       "<style scoped>\n",
       "    .dataframe tbody tr th:only-of-type {\n",
       "        vertical-align: middle;\n",
       "    }\n",
       "\n",
       "    .dataframe tbody tr th {\n",
       "        vertical-align: top;\n",
       "    }\n",
       "\n",
       "    .dataframe thead th {\n",
       "        text-align: right;\n",
       "    }\n",
       "</style>\n",
       "<table border=\"1\" class=\"dataframe\">\n",
       "  <thead>\n",
       "    <tr style=\"text-align: right;\">\n",
       "      <th></th>\n",
       "      <th>id</th>\n",
       "      <th>comment_text</th>\n",
       "    </tr>\n",
       "  </thead>\n",
       "  <tbody>\n",
       "    <tr>\n",
       "      <th>0</th>\n",
       "      <td>00001cee341fdb12</td>\n",
       "      <td>Yo bitch Ja Rule is more succesful then you'll...</td>\n",
       "    </tr>\n",
       "    <tr>\n",
       "      <th>1</th>\n",
       "      <td>0000247867823ef7</td>\n",
       "      <td>== From RfC == \\n\\n The title is fine as it is...</td>\n",
       "    </tr>\n",
       "    <tr>\n",
       "      <th>2</th>\n",
       "      <td>00013b17ad220c46</td>\n",
       "      <td>\" \\n\\n == Sources == \\n\\n * Zawe Ashton on Lap...</td>\n",
       "    </tr>\n",
       "    <tr>\n",
       "      <th>3</th>\n",
       "      <td>00017563c3f7919a</td>\n",
       "      <td>:If you have a look back at the source, the in...</td>\n",
       "    </tr>\n",
       "    <tr>\n",
       "      <th>4</th>\n",
       "      <td>00017695ad8997eb</td>\n",
       "      <td>I don't anonymously edit articles at all.</td>\n",
       "    </tr>\n",
       "    <tr>\n",
       "      <th>...</th>\n",
       "      <td>...</td>\n",
       "      <td>...</td>\n",
       "    </tr>\n",
       "    <tr>\n",
       "      <th>153159</th>\n",
       "      <td>fffcd0960ee309b5</td>\n",
       "      <td>. \\n i totally agree, this stuff is nothing bu...</td>\n",
       "    </tr>\n",
       "    <tr>\n",
       "      <th>153160</th>\n",
       "      <td>fffd7a9a6eb32c16</td>\n",
       "      <td>== Throw from out field to home plate. == \\n\\n...</td>\n",
       "    </tr>\n",
       "    <tr>\n",
       "      <th>153161</th>\n",
       "      <td>fffda9e8d6fafa9e</td>\n",
       "      <td>\" \\n\\n == Okinotorishima categories == \\n\\n I ...</td>\n",
       "    </tr>\n",
       "    <tr>\n",
       "      <th>153162</th>\n",
       "      <td>fffe8f1340a79fc2</td>\n",
       "      <td>\" \\n\\n == \"\"One of the founding nations of the...</td>\n",
       "    </tr>\n",
       "    <tr>\n",
       "      <th>153163</th>\n",
       "      <td>ffffce3fb183ee80</td>\n",
       "      <td>\" \\n :::Stop already. Your bullshit is not wel...</td>\n",
       "    </tr>\n",
       "  </tbody>\n",
       "</table>\n",
       "<p>153164 rows × 2 columns</p>\n",
       "</div>"
      ],
      "text/plain": [
       "                      id                                       comment_text\n",
       "0       00001cee341fdb12  Yo bitch Ja Rule is more succesful then you'll...\n",
       "1       0000247867823ef7  == From RfC == \\n\\n The title is fine as it is...\n",
       "2       00013b17ad220c46  \" \\n\\n == Sources == \\n\\n * Zawe Ashton on Lap...\n",
       "3       00017563c3f7919a  :If you have a look back at the source, the in...\n",
       "4       00017695ad8997eb          I don't anonymously edit articles at all.\n",
       "...                  ...                                                ...\n",
       "153159  fffcd0960ee309b5  . \\n i totally agree, this stuff is nothing bu...\n",
       "153160  fffd7a9a6eb32c16  == Throw from out field to home plate. == \\n\\n...\n",
       "153161  fffda9e8d6fafa9e  \" \\n\\n == Okinotorishima categories == \\n\\n I ...\n",
       "153162  fffe8f1340a79fc2  \" \\n\\n == \"\"One of the founding nations of the...\n",
       "153163  ffffce3fb183ee80  \" \\n :::Stop already. Your bullshit is not wel...\n",
       "\n",
       "[153164 rows x 2 columns]"
      ]
     },
     "execution_count": 3,
     "metadata": {},
     "output_type": "execute_result"
    }
   ],
   "source": [
    "df_test = pd.read_csv(cfg.PATH_DF_TEST)\n",
    "df_test"
   ]
  },
  {
   "cell_type": "markdown",
   "id": "985c3cc4",
   "metadata": {},
   "source": [
    "# Preprocessing"
   ]
  },
  {
   "cell_type": "markdown",
   "id": "c0cd4093",
   "metadata": {},
   "source": [
    "## Stratification"
   ]
  },
  {
   "cell_type": "code",
   "execution_count": 4,
   "id": "1a215abd",
   "metadata": {},
   "outputs": [
    {
     "name": "stdout",
     "output_type": "stream",
     "text": [
      "toxic\n",
      "0    0.904156\n",
      "1    0.095844\n",
      "Name: proportion, dtype: float64\n",
      "severe_toxic\n",
      "0    0.990004\n",
      "1    0.009996\n",
      "Name: proportion, dtype: float64\n",
      "obscene\n",
      "0    0.947052\n",
      "1    0.052948\n",
      "Name: proportion, dtype: float64\n",
      "threat\n",
      "0    0.997004\n",
      "1    0.002996\n",
      "Name: proportion, dtype: float64\n",
      "insult\n",
      "0    0.950636\n",
      "1    0.049364\n",
      "Name: proportion, dtype: float64\n"
     ]
    }
   ],
   "source": [
    "for col in df_train.columns[2:-1]:\n",
    "    print(df_train[col].value_counts(normalize=True))"
   ]
  },
  {
   "cell_type": "markdown",
   "id": "6f32bee4",
   "metadata": {},
   "source": [
    "As showed above, the distribution of classes is highly unbalanced (many more 0s than 1s), but also very distant from one to another (toxic showing 10% positives but identity_hate less than 1%).\n",
    "\n",
    "This makes mandatory to use a multi-label stratified KFold, as if we'd use a standard one, there is high chance than some folds wouldn't include any positive class from the less frequent labels."
   ]
  },
  {
   "cell_type": "code",
   "execution_count": 5,
   "id": "9af3660f",
   "metadata": {},
   "outputs": [
    {
     "data": {
      "text/plain": [
       "array([     0,      1,      2, ..., 159568, 159569, 159570])"
      ]
     },
     "execution_count": 5,
     "metadata": {},
     "output_type": "execute_result"
    }
   ],
   "source": [
    "X_idx = df_train.index.values\n",
    "X_idx"
   ]
  },
  {
   "cell_type": "code",
   "execution_count": 6,
   "id": "f2edaf02",
   "metadata": {},
   "outputs": [
    {
     "data": {
      "text/plain": [
       "array([[0, 0, 0, 0, 0],\n",
       "       [0, 0, 0, 0, 0],\n",
       "       [0, 0, 0, 0, 0],\n",
       "       ...,\n",
       "       [0, 0, 0, 0, 0],\n",
       "       [0, 0, 0, 0, 0],\n",
       "       [0, 0, 0, 0, 0]])"
      ]
     },
     "execution_count": 6,
     "metadata": {},
     "output_type": "execute_result"
    }
   ],
   "source": [
    "y = df_train.iloc[:, 2:-1].values\n",
    "y"
   ]
  },
  {
   "cell_type": "code",
   "execution_count": 7,
   "id": "a4148436",
   "metadata": {},
   "outputs": [],
   "source": [
    "# Instantiate the stratified k-fold object\n",
    "kfold = IterativeStratification(n_splits=cfg.N_FOLDS, order=1)     # 5 folds"
   ]
  },
  {
   "cell_type": "code",
   "execution_count": 8,
   "id": "f8cc0ca6",
   "metadata": {},
   "outputs": [],
   "source": [
    "# Initialize the fold column into -1\n",
    "df_train[\"fold\"] = -1\n",
    "# Assign folds to the training set\n",
    "for fold, (train_idx, val_idx) in enumerate(kfold.split(X_idx, y)):\n",
    "    df_train.loc[val_idx, \"fold\"] = fold\n",
    "# Reorder the columns to have 'fold' as the second column\n",
    "df_train.insert(1, \"fold\", df_train.pop(\"fold\"))"
   ]
  },
  {
   "cell_type": "code",
   "execution_count": 9,
   "id": "2935fb0d",
   "metadata": {},
   "outputs": [
    {
     "data": {
      "application/vnd.microsoft.datawrangler.viewer.v0+json": {
       "columns": [
        {
         "name": "index",
         "rawType": "int64",
         "type": "integer"
        },
        {
         "name": "id",
         "rawType": "object",
         "type": "string"
        },
        {
         "name": "fold",
         "rawType": "int64",
         "type": "integer"
        },
        {
         "name": "comment_text",
         "rawType": "object",
         "type": "string"
        },
        {
         "name": "toxic",
         "rawType": "int64",
         "type": "integer"
        },
        {
         "name": "severe_toxic",
         "rawType": "int64",
         "type": "integer"
        },
        {
         "name": "obscene",
         "rawType": "int64",
         "type": "integer"
        },
        {
         "name": "threat",
         "rawType": "int64",
         "type": "integer"
        },
        {
         "name": "insult",
         "rawType": "int64",
         "type": "integer"
        },
        {
         "name": "identity_hate",
         "rawType": "int64",
         "type": "integer"
        }
       ],
       "ref": "ff188f17-6017-4566-93c3-cb41baf3e478",
       "rows": [
        [
         "80522",
         "d77187da7d19cb20",
         "0",
         "\"\n\nOrphaned fair use image (Image:Gord.jpg)\nThanks for uploading Image:Gord.jpg. I notice the 'image' page currently specifies that the image is unlicensed for use on Wikipedia and may only be used on Wikipedia under a claim of fair use. However, the image is currently orphaned, meaning that it is not used in any articles on Wikipedia. If the image was previously in an article, please go to the article and see why it was removed. You may add it back if you think that that will be useful. However, please note that images for which a replacement could be created are not acceptable under fair use (see our fair use policy).\n\nIf you have uploaded other unlicensed media, please check whether they're used in any articles or not. You can find a list of 'image' pages you have edited by clicking on the \"\"my contributions\"\" link (it is located at the very top of any Wikipedia page when you are logged in), and then selecting \"\"Image\"\" from the dropdown box. Note that any fair use images not used in any articles will be deleted after seven days, as described on criteria for speedy deletion. Thank you.   (talk) (email) (Contr.) \"",
         "0",
         "0",
         "0",
         "0",
         "0",
         "0"
        ],
        [
         "106930",
         "3bcbf6d107b18cfa",
         "0",
         "\" don't pay any attention to other users. I add my contributions (which are usually very minor) and move on. I don't know how long a fortnight is, but it's been a year since this Orange Mike character blocked me or whatever. And from looking at his page he is a hotly contested user. Like I said, I don't know what all this is about but I would appreciate not being a \"\"blocked user\"\" when I don't ever do anything.  \"",
         "0",
         "0",
         "0",
         "0",
         "0",
         "0"
        ],
        [
         "64973",
         "addd1b4531c59b87",
         "4",
         "\"\n\nYou know what, I appologize to you for being rude.  But I didn't do anything wrong originally.  I disagree that that's a personal attack, or if by a strict and anal definition you would consider it so, it is of the mildest and most inconsequential of \"\"attacks\"\".  I would say that to my own mother, geez.\n\nYou created the issue as it stands.  You talk about being mature - it was totally immature to raise this issue in the first place and it escalated the problem.  And I was immature in how I responded and as I said, I appologize for that. -  \"",
         "0",
         "0",
         "0",
         "0",
         "0",
         "0"
        ],
        [
         "53411",
         "8ecd9defaf39172d",
         "0",
         "Why shouldn't people discuss problems with a given source in advance? \n\nI don't think anyone was advising removal of the source, just noting that it is openly anti-trans, and uses transphobic slurs.",
         "0",
         "0",
         "0",
         "0",
         "0",
         "0"
        ],
        [
         "151530",
         "7eb81ceaf1cc4239",
         "0",
         "i think proffesor frink should but not the mafia",
         "0",
         "0",
         "0",
         "0",
         "0",
         "0"
        ],
        [
         "97616",
         "0a375f5916bd81ab",
         "4",
         "\"This is completely absurd.  Maybe this is the case in the United States, however your northern neighbour makes no such claims.  The Philosophy of Chiropractic far exceeds a modality (manual/mechanical manipulation) and a lesion (vertebral subluxation/joint dyskinesis). It is about a holistic approach to health care using natural therapies primarily (joint manipulation, soft tissue manipulation exercise, nutritional counseling, medical acupuncturestress management, health promotion, ergonomic consulting, etc.  To insinuate that the existence of the profession depends on subluxations is a dated, narrowed view of Contemporary Chiropractic.\n\nAlso, anyone who knows a lick of neurology realizes that there neurophysiological effects of manipulation and, similarly, there are neurophysiological effects of joint dyskinesis/subluxation.   However, these are being taken in a neuromusculoskeletal context now as well as possible autonomic implications on visceral functions that may arise from chronic NMS pain syndromes.  This is a contemporary view of the profession.\n\nThe title DC or chiropractor certainly does not imply manipulation for subluxation.  Again, a narrowed view focus.  Rather we are holistic NMS doctors with an emphasis on manual therapies and other complementary therapies.  We;re not wannabe MDs or \"\"glorified PTs\"\".  DCs trained in scientific schools are perfectly positioned to play a crucial role in managing and preventing NMS issues and PCP role.  \nI would encourage you, Fyslee, to visit the CCA website or the new OCA one and you tell me that my sole purpose is to rid subluxations.  It is, at least in Canada, a dying faction as CMCC and UQTR embrance scientific chiropractic and not traditional/philosophical (straight) chiropractic.\n\nwww.chiropractic.on.ca\n\nIt is always important to have different perspectives on issues to remain objective.  I am not an evangelist (as a good analogy to the straights/subluxation based) and definitely have my criticisms with my profession, but it's mainly a generational thing.  The evidence-based Doctor of Chiropractic in 2008 is not tied down to the philosophy of subluxations (metaphysically) or at least in Canada (my POV which conflicts with your chiropractic POV which is US and not a world wide one.  \n\nIn fact, every DC since 2002 has been educated in the integrative EBM curriculum (CMCC is 45 minutes away from McMaster University, where evidence based medicine was born) Canada, unlike the US has NO subluxation based schools and they are both university degree granting institutions.  This is important because credits obtained at CMCC and UQTR can be TRANSFERRED to public universities unlike before.\n\nIn the end, Fyslee, you will begin to appreciate the sophistication of contemporary chiropractors.  Most of us have 4 year undergrad degrees in kinesiology of the life sciences and obtain various other treatment modalities (soft tissue such as ART/Graston/SASTM, get diplomas in Medical Acupuncture from McMaster University by the Department of Anaesthesia from MDs who designed the course from a anatomy/neurophysiological POV, obtained CSCS designations from the NSCA (http://www.nsca-cc.org/) etc.\n\nI am anxious to hear your response.\n\n\"",
         "0",
         "0",
         "0",
         "0",
         "0",
         "0"
        ],
        [
         "51600",
         "8a05ac3212838c8f",
         "1",
         "If you can not organize your thoughts...just put arbitrary breaks in every five sentences.",
         "0",
         "0",
         "0",
         "0",
         "0",
         "0"
        ],
        [
         "50136",
         "85fe0d38e8b63dd1",
         "4",
         "\"\n\nThanking you in anticipation, I added some other citations as well on the topic. Please also elaborate what does \"\"secondary source\"\" means? Since i am just one year old wikipedian baby, so better if you guide me properly ;))\n 17:10, 14 May 2011\"",
         "0",
         "0",
         "0",
         "0",
         "0",
         "0"
        ],
        [
         "27215",
         "47fb7dba9d82817e",
         "0",
         "\"\n\n Popular Culture \n\n\"\"Read Wikipedia:WikiProject Aircraft/page content before adding any \"\"Popular culture\"\" items.  The aircraft must have a MAJOR or \"\"especially notable\"\" role in what is listed.  Random cruft, including all Ace Combat, Battlefield, Video Games, dogfighting films, military channel appearances, Transformer toylines, Metal Gear Solid appearances and anime/fiction look-a-like speculation will be removed.\"\"\n\nIt said no anime or fiction look a like appearances. Why you put the F-15 eagle appeared in the Popular Culture section? You know that G1 is a anime fiction look a like appearances.( )\"",
         "0",
         "0",
         "0",
         "0",
         "0",
         "0"
        ],
        [
         "2533",
         "06c4ba1c70839c27",
         "3",
         "\"\n\nI like the way you forget about all the times Israel has actualy done this to other nations, including it's \"\"allies\"\", such as when they forged european passports to commit a murder causing 20 innocent people to be framed, and do we really need to talk about the USS Liberty incident? Just because Iran says something, it has to be bad right? Fucking morons the lot of you if you think this isn't something they would do or at least consider.\n\n\"",
         "1",
         "0",
         "1",
         "0",
         "1",
         "0"
        ]
       ],
       "shape": {
        "columns": 9,
        "rows": 10
       }
      },
      "text/html": [
       "<div>\n",
       "<style scoped>\n",
       "    .dataframe tbody tr th:only-of-type {\n",
       "        vertical-align: middle;\n",
       "    }\n",
       "\n",
       "    .dataframe tbody tr th {\n",
       "        vertical-align: top;\n",
       "    }\n",
       "\n",
       "    .dataframe thead th {\n",
       "        text-align: right;\n",
       "    }\n",
       "</style>\n",
       "<table border=\"1\" class=\"dataframe\">\n",
       "  <thead>\n",
       "    <tr style=\"text-align: right;\">\n",
       "      <th></th>\n",
       "      <th>id</th>\n",
       "      <th>fold</th>\n",
       "      <th>comment_text</th>\n",
       "      <th>toxic</th>\n",
       "      <th>severe_toxic</th>\n",
       "      <th>obscene</th>\n",
       "      <th>threat</th>\n",
       "      <th>insult</th>\n",
       "      <th>identity_hate</th>\n",
       "    </tr>\n",
       "  </thead>\n",
       "  <tbody>\n",
       "    <tr>\n",
       "      <th>80522</th>\n",
       "      <td>d77187da7d19cb20</td>\n",
       "      <td>0</td>\n",
       "      <td>\"\\n\\nOrphaned fair use image (Image:Gord.jpg)\\...</td>\n",
       "      <td>0</td>\n",
       "      <td>0</td>\n",
       "      <td>0</td>\n",
       "      <td>0</td>\n",
       "      <td>0</td>\n",
       "      <td>0</td>\n",
       "    </tr>\n",
       "    <tr>\n",
       "      <th>106930</th>\n",
       "      <td>3bcbf6d107b18cfa</td>\n",
       "      <td>0</td>\n",
       "      <td>\" don't pay any attention to other users. I ad...</td>\n",
       "      <td>0</td>\n",
       "      <td>0</td>\n",
       "      <td>0</td>\n",
       "      <td>0</td>\n",
       "      <td>0</td>\n",
       "      <td>0</td>\n",
       "    </tr>\n",
       "    <tr>\n",
       "      <th>64973</th>\n",
       "      <td>addd1b4531c59b87</td>\n",
       "      <td>4</td>\n",
       "      <td>\"\\n\\nYou know what, I appologize to you for be...</td>\n",
       "      <td>0</td>\n",
       "      <td>0</td>\n",
       "      <td>0</td>\n",
       "      <td>0</td>\n",
       "      <td>0</td>\n",
       "      <td>0</td>\n",
       "    </tr>\n",
       "    <tr>\n",
       "      <th>53411</th>\n",
       "      <td>8ecd9defaf39172d</td>\n",
       "      <td>0</td>\n",
       "      <td>Why shouldn't people discuss problems with a g...</td>\n",
       "      <td>0</td>\n",
       "      <td>0</td>\n",
       "      <td>0</td>\n",
       "      <td>0</td>\n",
       "      <td>0</td>\n",
       "      <td>0</td>\n",
       "    </tr>\n",
       "    <tr>\n",
       "      <th>151530</th>\n",
       "      <td>7eb81ceaf1cc4239</td>\n",
       "      <td>0</td>\n",
       "      <td>i think proffesor frink should but not the mafia</td>\n",
       "      <td>0</td>\n",
       "      <td>0</td>\n",
       "      <td>0</td>\n",
       "      <td>0</td>\n",
       "      <td>0</td>\n",
       "      <td>0</td>\n",
       "    </tr>\n",
       "    <tr>\n",
       "      <th>97616</th>\n",
       "      <td>0a375f5916bd81ab</td>\n",
       "      <td>4</td>\n",
       "      <td>\"This is completely absurd.  Maybe this is the...</td>\n",
       "      <td>0</td>\n",
       "      <td>0</td>\n",
       "      <td>0</td>\n",
       "      <td>0</td>\n",
       "      <td>0</td>\n",
       "      <td>0</td>\n",
       "    </tr>\n",
       "    <tr>\n",
       "      <th>51600</th>\n",
       "      <td>8a05ac3212838c8f</td>\n",
       "      <td>1</td>\n",
       "      <td>If you can not organize your thoughts...just p...</td>\n",
       "      <td>0</td>\n",
       "      <td>0</td>\n",
       "      <td>0</td>\n",
       "      <td>0</td>\n",
       "      <td>0</td>\n",
       "      <td>0</td>\n",
       "    </tr>\n",
       "    <tr>\n",
       "      <th>50136</th>\n",
       "      <td>85fe0d38e8b63dd1</td>\n",
       "      <td>4</td>\n",
       "      <td>\"\\n\\nThanking you in anticipation, I added som...</td>\n",
       "      <td>0</td>\n",
       "      <td>0</td>\n",
       "      <td>0</td>\n",
       "      <td>0</td>\n",
       "      <td>0</td>\n",
       "      <td>0</td>\n",
       "    </tr>\n",
       "    <tr>\n",
       "      <th>27215</th>\n",
       "      <td>47fb7dba9d82817e</td>\n",
       "      <td>0</td>\n",
       "      <td>\"\\n\\n Popular Culture \\n\\n\"\"Read Wikipedia:Wik...</td>\n",
       "      <td>0</td>\n",
       "      <td>0</td>\n",
       "      <td>0</td>\n",
       "      <td>0</td>\n",
       "      <td>0</td>\n",
       "      <td>0</td>\n",
       "    </tr>\n",
       "    <tr>\n",
       "      <th>2533</th>\n",
       "      <td>06c4ba1c70839c27</td>\n",
       "      <td>3</td>\n",
       "      <td>\"\\n\\nI like the way you forget about all the t...</td>\n",
       "      <td>1</td>\n",
       "      <td>0</td>\n",
       "      <td>1</td>\n",
       "      <td>0</td>\n",
       "      <td>1</td>\n",
       "      <td>0</td>\n",
       "    </tr>\n",
       "  </tbody>\n",
       "</table>\n",
       "</div>"
      ],
      "text/plain": [
       "                      id  fold  \\\n",
       "80522   d77187da7d19cb20     0   \n",
       "106930  3bcbf6d107b18cfa     0   \n",
       "64973   addd1b4531c59b87     4   \n",
       "53411   8ecd9defaf39172d     0   \n",
       "151530  7eb81ceaf1cc4239     0   \n",
       "97616   0a375f5916bd81ab     4   \n",
       "51600   8a05ac3212838c8f     1   \n",
       "50136   85fe0d38e8b63dd1     4   \n",
       "27215   47fb7dba9d82817e     0   \n",
       "2533    06c4ba1c70839c27     3   \n",
       "\n",
       "                                             comment_text  toxic  \\\n",
       "80522   \"\\n\\nOrphaned fair use image (Image:Gord.jpg)\\...      0   \n",
       "106930  \" don't pay any attention to other users. I ad...      0   \n",
       "64973   \"\\n\\nYou know what, I appologize to you for be...      0   \n",
       "53411   Why shouldn't people discuss problems with a g...      0   \n",
       "151530   i think proffesor frink should but not the mafia      0   \n",
       "97616   \"This is completely absurd.  Maybe this is the...      0   \n",
       "51600   If you can not organize your thoughts...just p...      0   \n",
       "50136   \"\\n\\nThanking you in anticipation, I added som...      0   \n",
       "27215   \"\\n\\n Popular Culture \\n\\n\"\"Read Wikipedia:Wik...      0   \n",
       "2533    \"\\n\\nI like the way you forget about all the t...      1   \n",
       "\n",
       "        severe_toxic  obscene  threat  insult  identity_hate  \n",
       "80522              0        0       0       0              0  \n",
       "106930             0        0       0       0              0  \n",
       "64973              0        0       0       0              0  \n",
       "53411              0        0       0       0              0  \n",
       "151530             0        0       0       0              0  \n",
       "97616              0        0       0       0              0  \n",
       "51600              0        0       0       0              0  \n",
       "50136              0        0       0       0              0  \n",
       "27215              0        0       0       0              0  \n",
       "2533               0        1       0       1              0  "
      ]
     },
     "execution_count": 9,
     "metadata": {},
     "output_type": "execute_result"
    }
   ],
   "source": [
    "# Check that the folds are assigned correctly\n",
    "df_train.sample(10)"
   ]
  },
  {
   "cell_type": "code",
   "execution_count": 10,
   "id": "80017e41",
   "metadata": {},
   "outputs": [
    {
     "data": {
      "application/vnd.microsoft.datawrangler.viewer.v0+json": {
       "columns": [
        {
         "name": "fold",
         "rawType": "int64",
         "type": "integer"
        },
        {
         "name": "proportion",
         "rawType": "float64",
         "type": "float"
        }
       ],
       "ref": "f6375dff-dd73-442e-a066-397a53a7d8ae",
       "rows": [
        [
         "0",
         "0.20000501344229216"
        ],
        [
         "4",
         "0.20000501344229216"
        ],
        [
         "3",
         "0.20000501344229216"
        ],
        [
         "1",
         "0.20000501344229216"
        ],
        [
         "2",
         "0.19997994623083143"
        ]
       ],
       "shape": {
        "columns": 1,
        "rows": 5
       }
      },
      "text/plain": [
       "fold\n",
       "0    0.200005\n",
       "4    0.200005\n",
       "3    0.200005\n",
       "1    0.200005\n",
       "2    0.199980\n",
       "Name: proportion, dtype: float64"
      ]
     },
     "execution_count": 10,
     "metadata": {},
     "output_type": "execute_result"
    }
   ],
   "source": [
    "# Check that the folds were distributed evenly\n",
    "df_train[\"fold\"].value_counts(normalize=True)"
   ]
  },
  {
   "cell_type": "code",
   "execution_count": 11,
   "id": "092e6801",
   "metadata": {},
   "outputs": [
    {
     "data": {
      "application/vnd.microsoft.datawrangler.viewer.v0+json": {
       "columns": [
        {
         "name": "fold",
         "rawType": "object",
         "type": "unknown"
        },
        {
         "name": "proportion_toxic",
         "rawType": "float64",
         "type": "float"
        },
        {
         "name": "proportion_severe_toxic",
         "rawType": "float64",
         "type": "float"
        },
        {
         "name": "proportion_obscene",
         "rawType": "float64",
         "type": "float"
        },
        {
         "name": "proportion_threat",
         "rawType": "float64",
         "type": "float"
        },
        {
         "name": "proportion_insult",
         "rawType": "float64",
         "type": "float"
        },
        {
         "name": "proportion_identity_hate",
         "rawType": "float64",
         "type": "float"
        }
       ],
       "ref": "17dbb236-e114-4bab-acf4-91e49207911f",
       "rows": [
        [
         "full dataset",
         "0.0958",
         "0.01",
         "0.0529",
         "0.003",
         "0.0494",
         "0.0088"
        ],
        [
         "0",
         "0.0958",
         "0.01",
         "0.053",
         "0.0029",
         "0.0493",
         "0.0094"
        ],
        [
         "1",
         "0.0958",
         "0.0095",
         "0.0529",
         "0.003",
         "0.0493",
         "0.0081"
        ],
        [
         "2",
         "0.0959",
         "0.0101",
         "0.053",
         "0.0029",
         "0.0494",
         "0.0086"
        ],
        [
         "3",
         "0.0958",
         "0.0102",
         "0.053",
         "0.0029",
         "0.0494",
         "0.0092"
        ],
        [
         "4",
         "0.0958",
         "0.0102",
         "0.053",
         "0.0032",
         "0.0493",
         "0.0086"
        ]
       ],
       "shape": {
        "columns": 6,
        "rows": 6
       }
      },
      "text/html": [
       "<div>\n",
       "<style scoped>\n",
       "    .dataframe tbody tr th:only-of-type {\n",
       "        vertical-align: middle;\n",
       "    }\n",
       "\n",
       "    .dataframe tbody tr th {\n",
       "        vertical-align: top;\n",
       "    }\n",
       "\n",
       "    .dataframe thead th {\n",
       "        text-align: right;\n",
       "    }\n",
       "</style>\n",
       "<table border=\"1\" class=\"dataframe\">\n",
       "  <thead>\n",
       "    <tr style=\"text-align: right;\">\n",
       "      <th></th>\n",
       "      <th>proportion_toxic</th>\n",
       "      <th>proportion_severe_toxic</th>\n",
       "      <th>proportion_obscene</th>\n",
       "      <th>proportion_threat</th>\n",
       "      <th>proportion_insult</th>\n",
       "      <th>proportion_identity_hate</th>\n",
       "    </tr>\n",
       "    <tr>\n",
       "      <th>fold</th>\n",
       "      <th></th>\n",
       "      <th></th>\n",
       "      <th></th>\n",
       "      <th></th>\n",
       "      <th></th>\n",
       "      <th></th>\n",
       "    </tr>\n",
       "  </thead>\n",
       "  <tbody>\n",
       "    <tr>\n",
       "      <th>full dataset</th>\n",
       "      <td>0.0958</td>\n",
       "      <td>0.0100</td>\n",
       "      <td>0.0529</td>\n",
       "      <td>0.0030</td>\n",
       "      <td>0.0494</td>\n",
       "      <td>0.0088</td>\n",
       "    </tr>\n",
       "    <tr>\n",
       "      <th>0</th>\n",
       "      <td>0.0958</td>\n",
       "      <td>0.0100</td>\n",
       "      <td>0.0530</td>\n",
       "      <td>0.0029</td>\n",
       "      <td>0.0493</td>\n",
       "      <td>0.0094</td>\n",
       "    </tr>\n",
       "    <tr>\n",
       "      <th>1</th>\n",
       "      <td>0.0958</td>\n",
       "      <td>0.0095</td>\n",
       "      <td>0.0529</td>\n",
       "      <td>0.0030</td>\n",
       "      <td>0.0493</td>\n",
       "      <td>0.0081</td>\n",
       "    </tr>\n",
       "    <tr>\n",
       "      <th>2</th>\n",
       "      <td>0.0959</td>\n",
       "      <td>0.0101</td>\n",
       "      <td>0.0530</td>\n",
       "      <td>0.0029</td>\n",
       "      <td>0.0494</td>\n",
       "      <td>0.0086</td>\n",
       "    </tr>\n",
       "    <tr>\n",
       "      <th>3</th>\n",
       "      <td>0.0958</td>\n",
       "      <td>0.0102</td>\n",
       "      <td>0.0530</td>\n",
       "      <td>0.0029</td>\n",
       "      <td>0.0494</td>\n",
       "      <td>0.0092</td>\n",
       "    </tr>\n",
       "    <tr>\n",
       "      <th>4</th>\n",
       "      <td>0.0958</td>\n",
       "      <td>0.0102</td>\n",
       "      <td>0.0530</td>\n",
       "      <td>0.0032</td>\n",
       "      <td>0.0493</td>\n",
       "      <td>0.0086</td>\n",
       "    </tr>\n",
       "  </tbody>\n",
       "</table>\n",
       "</div>"
      ],
      "text/plain": [
       "              proportion_toxic  proportion_severe_toxic  proportion_obscene  \\\n",
       "fold                                                                          \n",
       "full dataset            0.0958                   0.0100              0.0529   \n",
       "0                       0.0958                   0.0100              0.0530   \n",
       "1                       0.0958                   0.0095              0.0529   \n",
       "2                       0.0959                   0.0101              0.0530   \n",
       "3                       0.0958                   0.0102              0.0530   \n",
       "4                       0.0958                   0.0102              0.0530   \n",
       "\n",
       "              proportion_threat  proportion_insult  proportion_identity_hate  \n",
       "fold                                                                          \n",
       "full dataset             0.0030             0.0494                    0.0088  \n",
       "0                        0.0029             0.0493                    0.0094  \n",
       "1                        0.0030             0.0493                    0.0081  \n",
       "2                        0.0029             0.0494                    0.0086  \n",
       "3                        0.0029             0.0494                    0.0092  \n",
       "4                        0.0032             0.0493                    0.0086  "
      ]
     },
     "execution_count": 11,
     "metadata": {},
     "output_type": "execute_result"
    }
   ],
   "source": [
    "\"Check that within each fold, the proportions of labels are the same as in the full dataset\"\n",
    "\n",
    "# Create a DataFrame with one row containing the mean proportions of labels in the full dataset\n",
    "check_proportions = pd.DataFrame([df_train[cfg.LABEL_COLS].mean().round(4)], index=[\"full dataset\"])\n",
    "check_proportions.index.name = \"fold\"\n",
    "# Concatenate the proportions of labels for each fold\n",
    "check_proportions = pd.concat([check_proportions, df_train.groupby(\"fold\")[cfg.LABEL_COLS].mean().round(4)])\n",
    "check_proportions.rename(columns=lambda x: f\"proportion_{x}\", inplace=True)\n",
    "check_proportions"
   ]
  },
  {
   "cell_type": "markdown",
   "id": "393b7956",
   "metadata": {},
   "source": [
    "Checked that all the folds have the same number of samples, and the proportion of classes for each label is approximately the same than in the full dataset."
   ]
  },
  {
   "cell_type": "markdown",
   "id": "de92f072",
   "metadata": {},
   "source": [
    "## Tokenization"
   ]
  },
  {
   "cell_type": "code",
   "execution_count": 12,
   "id": "c96539e4",
   "metadata": {},
   "outputs": [
    {
     "name": "stderr",
     "output_type": "stream",
     "text": [
      "/home/ubuntu/toxicity_classificator_internal/.venv/lib/python3.10/site-packages/transformers/convert_slow_tokenizer.py:560: UserWarning: The sentencepiece tokenizer that you are converting to a fast tokenizer uses the byte fallback option which is not implemented in the fast tokenizers. In practice this means that the fast version of the tokenizer can produce unknown tokens whereas the sentencepiece version would have converted these unknown tokens into a sequence of byte tokens matching the original piece of text.\n",
      "  warnings.warn(\n"
     ]
    }
   ],
   "source": [
    "# Instantiate the tokenizer from the base model\n",
    "tokenizer = AutoTokenizer.from_pretrained(cfg.MODEL_BASE)"
   ]
  },
  {
   "cell_type": "code",
   "execution_count": 13,
   "id": "86073451",
   "metadata": {},
   "outputs": [],
   "source": [
    "# Define a function to tokenize the comments\n",
    "def tokenize(batch: dict) -> dict:\n",
    "    \"\"\"Tokenizes the comments in the batch.\n",
    "    Args:\n",
    "\t\t- batch (dict): A dictionary containing the comments to be tokenized.\n",
    "\tReturns:\n",
    "\t\t- dict: A dictionary containing the tokenized comments.\n",
    "    Key parameters:\n",
    "\t\t- batch[\"comment_text\"] (list): A list of comments to be tokenized.\n",
    "\t\t- padding (str): Padding strategy, set to \"max_length\" to fill to the maximum length.\n",
    "\t\t- truncation (bool): Whether to truncate the comments to the maximum length.\n",
    "\t\t- max_length (int): The maximum length to which the comments will be truncated or padded.\n",
    "    \"\"\"\n",
    "    return tokenizer(\n",
    "        batch[\"comment_text\"],\n",
    "        padding=\"max_length\",\n",
    "        truncation=True,\n",
    "        max_length=cfg.MAX_LENGTH_TOKENIZER\n",
    "    )"
   ]
  },
  {
   "cell_type": "code",
   "execution_count": 14,
   "id": "bdb60551",
   "metadata": {},
   "outputs": [],
   "source": [
    "def add_label_vector(batch: dict) -> dict:\n",
    "    \"\"\"\n",
    "    Convert the six one-hot label columns (one per toxicity type)\n",
    "    into a single **vector column** called ``\"labels\"`` so that\n",
    "    Hugging-Face’s multi-label trainer can consume the dataset.\n",
    "\n",
    "    Parameters:\n",
    "    \t- batch (dict): A mini-batch coming from Datasets while using `.map(batched=True)`.\n",
    "        \tBesides the tokenised fields, it still contains the six original\n",
    "            binary columns listed in ``cfg.LABEL_COLS``:\n",
    "            \ttoxic, severe_toxic, obscene, threat, insult, identity_hate\n",
    "\n",
    "    Returns:\n",
    "\t    - dict: The same batch, but now with an extra key ``\"labels\"`` whose\n",
    "        \tvalue is a NumPy array of shape ``(batch_size, 6)`` and dtype ``float32``.\n",
    "        \tThis is exactly the format expected by ``AutoModelForSequenceClassification``\n",
    "            when ``problem_type=\"multi_label_classification\"``.\n",
    "    \"\"\"\n",
    "    \n",
    "\t# Gather the six label columns and transpose them:\n",
    "    # - `batch[col]` is a list with length = batch_size\n",
    "    # - `zip(*)` turns the list-of-columns into list-of-rows so each `row` holds the 6 labels for **one** example.\n",
    "    batch[\"labels\"] = [list(row) for row in zip(*[batch[col] for col in cfg.LABEL_COLS])]\n",
    "    \n",
    "\t# Convert the list of lists into a NumPy array with dtype float32\n",
    "    batch[\"labels\"] = np.array(batch[\"labels\"], dtype=np.float32)\n",
    "    \n",
    "    return batch"
   ]
  },
  {
   "cell_type": "code",
   "execution_count": 17,
   "id": "59345ad1",
   "metadata": {},
   "outputs": [
    {
     "name": "stdout",
     "output_type": "stream",
     "text": [
      "Loading tokenized training dataset from disk...\n"
     ]
    }
   ],
   "source": [
    "if not os.path.exists(cfg.PATH_DS_TRAIN_TOKENIZED):\n",
    "    print(\"Tokenizing training dataset...\")\n",
    "    # Load the training dataset into a Dataset object from the pandas DataFrame\n",
    "    ds_train_raw = Dataset.from_pandas(df_train)\n",
    "    # Add the label vector to the dataset\n",
    "    ds_train_raw = ds_train_raw.map(add_label_vector, batched=True)\n",
    "    # Tokenize train dataset and remove the original comment text and label columns\n",
    "    ds_train_tokenized = ds_train_raw.map(tokenize, batched=True, remove_columns=[\"comment_text\"]+cfg.LABEL_COLS)\n",
    "    # Save the tokenized dataset to disk\n",
    "    ds_train_tokenized.save_to_disk(cfg.PATH_DS_TRAIN_TOKENIZED)\n",
    "else:\n",
    "    print(\"Loading tokenized training dataset from disk...\")\n",
    "    ds_train_tokenized = load_from_disk(cfg.PATH_DS_TRAIN_TOKENIZED)"
   ]
  },
  {
   "cell_type": "code",
   "execution_count": 18,
   "id": "5162d0e0",
   "metadata": {},
   "outputs": [
    {
     "name": "stdout",
     "output_type": "stream",
     "text": [
      "Loading tokenized test dataset from disk...\n"
     ]
    }
   ],
   "source": [
    "if not os.path.exists(cfg.PATH_DS_TEST_TOKENIZED):\n",
    "    print(\"Tokenizing test dataset...\")\n",
    "    # Do the same for the test dataset except without the label vector\n",
    "    ds_test_raw = Dataset.from_pandas(df_test)\n",
    "    ds_test_tokenized = ds_test_raw.map(tokenize, batched=True, remove_columns=[\"comment_text\"])\n",
    "    ds_test_tokenized.save_to_disk(cfg.PATH_DS_TEST_TOKENIZED)\n",
    "else:\n",
    "    print(\"Loading tokenized test dataset from disk...\")\n",
    "    ds_test_tokenized = load_from_disk(cfg.PATH_DS_TEST_TOKENIZED)"
   ]
  },
  {
   "cell_type": "code",
   "execution_count": null,
   "id": "06ec8ba5",
   "metadata": {},
   "outputs": [],
   "source": []
  }
 ],
 "metadata": {
  "kernelspec": {
   "display_name": ".venv",
   "language": "python",
   "name": "python3"
  },
  "language_info": {
   "codemirror_mode": {
    "name": "ipython",
    "version": 3
   },
   "file_extension": ".py",
   "mimetype": "text/x-python",
   "name": "python",
   "nbconvert_exporter": "python",
   "pygments_lexer": "ipython3",
   "version": "3.10.12"
  }
 },
 "nbformat": 4,
 "nbformat_minor": 5
}
