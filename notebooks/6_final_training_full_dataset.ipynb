{
 "cells": [
  {
   "cell_type": "code",
   "execution_count": null,
   "id": "0e96c217",
   "metadata": {},
   "outputs": [],
   "source": [
    "import sys\n",
    "from pathlib import Path\n",
    "ROOT_DIR = Path().resolve().parents[0]\n",
    "sys.path.append(str(ROOT_DIR))\n",
    "import config as cfg\n",
    "\n",
    "from datasets import load_from_disk\n",
    "import os\n",
    "import json\n",
    "from transformers import (\n",
    "    AutoModelForSequenceClassification,\n",
    "    TrainingArguments,\n",
    "    Trainer,\n",
    "    EarlyStoppingCallback\n",
    ")\n",
    "import numpy as np\n",
    "from sklearn.metrics import roc_auc_score\n",
    "\n",
    "TOTAL_RUNS = 2"
   ]
  },
  {
   "cell_type": "code",
   "execution_count": 2,
   "id": "2c5ebd9c",
   "metadata": {},
   "outputs": [],
   "source": [
    "# Load dataset\n",
    "ds_train_tokenized = load_from_disk(cfg.PATH_DS_TRAIN_TOKENIZED)"
   ]
  },
  {
   "cell_type": "markdown",
   "id": "86a51142",
   "metadata": {},
   "source": [
    "# Pick best checkpoint"
   ]
  },
  {
   "cell_type": "code",
   "execution_count": 3,
   "id": "bff35f55",
   "metadata": {},
   "outputs": [],
   "source": [
    "def _get_checkpoint_steps_from_fold(n_run, fold_id):\n",
    "    path_fold_dir = os.path.join(cfg.PATH_CHECKPOINTS, cfg.MODEL_BASE, f\"run_{n_run}\", f\"fold_{fold_id}\")\n",
    "    checkpoints = [int(folder.split(\"checkpoint-\")[-1]) for folder in os.listdir(path_fold_dir) if folder.startswith(\"checkpoint\")]\n",
    "    return sorted(checkpoints)"
   ]
  },
  {
   "cell_type": "code",
   "execution_count": 4,
   "id": "a9310fd7",
   "metadata": {},
   "outputs": [],
   "source": [
    "def get_best_checkpoint_from_fold(n_run, fold_id):\n",
    "    last_checkpoint = max(_get_checkpoint_steps_from_fold(n_run, fold_id))\n",
    "    path_trainer_state = os.path.join(\n",
    "        cfg.PATH_CHECKPOINTS, cfg.MODEL_BASE, f\"run_{n_run}\", f\"fold_{fold_id}\",\n",
    "        f\"checkpoint-{last_checkpoint}\", \"trainer_state.json\"\n",
    "    )\n",
    "    try:\n",
    "        with open(path_trainer_state, \"r\") as f:\n",
    "            trainer_state = json.load(f)\n",
    "            global_step = trainer_state.get(\"global_step\", None)\n",
    "            best_checkpoint = trainer_state.get(\"best_model_checkpoint\", None)\n",
    "            best_metric = trainer_state.get(\"best_metric\", None)\n",
    "        return {\"best_metric\": best_metric, \"best_checkpoint\": best_checkpoint, \"global_step\": global_step}\n",
    "    except FileNotFoundError:\n",
    "        print(f\"File not found: {path_trainer_state}\")\n",
    "        return None"
   ]
  },
  {
   "cell_type": "code",
   "execution_count": 11,
   "id": "5b9dc41a",
   "metadata": {},
   "outputs": [],
   "source": [
    "def get_best_checkpoint(best_checkpoints):\n",
    "\tbest_checkpoint = {\n",
    "\t\t\"best_run\": None,\n",
    "\t\t\"best_fold\": None,\n",
    "\t\t\"best_step\": None,\n",
    "\t\t\"best_checkpoint\": None,\n",
    "\t\t\"best_metric\": 0,\n",
    "\t}\n",
    "\t\n",
    "\tfor run_id, folds in best_checkpoints.items():\n",
    "\t\tfor fold_id, metrics in folds.items():\n",
    "\t\t\tif metrics[\"best_metric\"] > best_checkpoint[\"best_metric\"]:\n",
    "\t\t\t\tbest_checkpoint[\"best_run\"] = run_id\n",
    "\t\t\t\tbest_checkpoint[\"best_fold\"] = fold_id\n",
    "\t\t\t\tbest_checkpoint[\"best_step\"] = metrics[\"global_step\"]\n",
    "\t\t\t\tbest_checkpoint[\"best_checkpoint\"] = metrics[\"best_checkpoint\"]\n",
    "\t\t\t\tbest_checkpoint[\"best_metric\"] = metrics[\"best_metric\"]\n",
    "\t\n",
    "\treturn best_checkpoint"
   ]
  },
  {
   "cell_type": "code",
   "execution_count": null,
   "id": "e690393e",
   "metadata": {},
   "outputs": [
    {
     "ename": "FileNotFoundError",
     "evalue": "[Errno 2] No such file or directory: '/home/azureuser/ruben/toxicity_classificator/checkpoints/microsoft/deberta-v3-base/run_1/fold_4'",
     "output_type": "error",
     "traceback": [
      "\u001b[0;31m---------------------------------------------------------------------------\u001b[0m",
      "\u001b[0;31mFileNotFoundError\u001b[0m                         Traceback (most recent call last)",
      "Cell \u001b[0;32mIn[15], line 5\u001b[0m\n\u001b[1;32m      3\u001b[0m \tbest_checkpoints[\u001b[38;5;124mf\u001b[39m\u001b[38;5;124m\"\u001b[39m\u001b[38;5;124mrun_\u001b[39m\u001b[38;5;132;01m{\u001b[39;00mn_run\u001b[38;5;132;01m}\u001b[39;00m\u001b[38;5;124m\"\u001b[39m] \u001b[38;5;241m=\u001b[39m {}\n\u001b[1;32m      4\u001b[0m \t\u001b[38;5;28;01mfor\u001b[39;00m fold_id \u001b[38;5;129;01min\u001b[39;00m \u001b[38;5;28mrange\u001b[39m(cfg\u001b[38;5;241m.\u001b[39mN_FOLDS):\n\u001b[0;32m----> 5\u001b[0m \t\tbest_checkpoints[\u001b[38;5;124mf\u001b[39m\u001b[38;5;124m\"\u001b[39m\u001b[38;5;124mrun_\u001b[39m\u001b[38;5;132;01m{\u001b[39;00mn_run\u001b[38;5;132;01m}\u001b[39;00m\u001b[38;5;124m\"\u001b[39m][\u001b[38;5;124mf\u001b[39m\u001b[38;5;124m\"\u001b[39m\u001b[38;5;124mfold_\u001b[39m\u001b[38;5;132;01m{\u001b[39;00mfold_id\u001b[38;5;132;01m}\u001b[39;00m\u001b[38;5;124m\"\u001b[39m] \u001b[38;5;241m=\u001b[39m \u001b[43mget_best_checkpoint_from_fold\u001b[49m\u001b[43m(\u001b[49m\u001b[43mn_run\u001b[49m\u001b[43m,\u001b[49m\u001b[43m \u001b[49m\u001b[43mfold_id\u001b[49m\u001b[43m)\u001b[49m\n\u001b[1;32m      6\u001b[0m best_checkpoints\n",
      "Cell \u001b[0;32mIn[4], line 2\u001b[0m, in \u001b[0;36mget_best_checkpoint_from_fold\u001b[0;34m(n_run, fold_id)\u001b[0m\n\u001b[1;32m      1\u001b[0m \u001b[38;5;28;01mdef\u001b[39;00m\u001b[38;5;250m \u001b[39m\u001b[38;5;21mget_best_checkpoint_from_fold\u001b[39m(n_run, fold_id):\n\u001b[0;32m----> 2\u001b[0m     last_checkpoint \u001b[38;5;241m=\u001b[39m \u001b[38;5;28mmax\u001b[39m(\u001b[43m_get_checkpoint_steps_from_fold\u001b[49m\u001b[43m(\u001b[49m\u001b[43mn_run\u001b[49m\u001b[43m,\u001b[49m\u001b[43m \u001b[49m\u001b[43mfold_id\u001b[49m\u001b[43m)\u001b[49m)\n\u001b[1;32m      3\u001b[0m     path_trainer_state \u001b[38;5;241m=\u001b[39m os\u001b[38;5;241m.\u001b[39mpath\u001b[38;5;241m.\u001b[39mjoin(\n\u001b[1;32m      4\u001b[0m         cfg\u001b[38;5;241m.\u001b[39mPATH_CHECKPOINTS, cfg\u001b[38;5;241m.\u001b[39mMODEL_BASE, \u001b[38;5;124mf\u001b[39m\u001b[38;5;124m\"\u001b[39m\u001b[38;5;124mrun_\u001b[39m\u001b[38;5;132;01m{\u001b[39;00mn_run\u001b[38;5;132;01m}\u001b[39;00m\u001b[38;5;124m\"\u001b[39m, \u001b[38;5;124mf\u001b[39m\u001b[38;5;124m\"\u001b[39m\u001b[38;5;124mfold_\u001b[39m\u001b[38;5;132;01m{\u001b[39;00mfold_id\u001b[38;5;132;01m}\u001b[39;00m\u001b[38;5;124m\"\u001b[39m,\n\u001b[1;32m      5\u001b[0m         \u001b[38;5;124mf\u001b[39m\u001b[38;5;124m\"\u001b[39m\u001b[38;5;124mcheckpoint-\u001b[39m\u001b[38;5;132;01m{\u001b[39;00mlast_checkpoint\u001b[38;5;132;01m}\u001b[39;00m\u001b[38;5;124m\"\u001b[39m, \u001b[38;5;124m\"\u001b[39m\u001b[38;5;124mtrainer_state.json\u001b[39m\u001b[38;5;124m\"\u001b[39m\n\u001b[1;32m      6\u001b[0m     )\n\u001b[1;32m      7\u001b[0m     \u001b[38;5;28;01mtry\u001b[39;00m:\n",
      "Cell \u001b[0;32mIn[3], line 3\u001b[0m, in \u001b[0;36m_get_checkpoint_steps_from_fold\u001b[0;34m(n_run, fold_id)\u001b[0m\n\u001b[1;32m      1\u001b[0m \u001b[38;5;28;01mdef\u001b[39;00m\u001b[38;5;250m \u001b[39m\u001b[38;5;21m_get_checkpoint_steps_from_fold\u001b[39m(n_run, fold_id):\n\u001b[1;32m      2\u001b[0m     path_fold_dir \u001b[38;5;241m=\u001b[39m os\u001b[38;5;241m.\u001b[39mpath\u001b[38;5;241m.\u001b[39mjoin(cfg\u001b[38;5;241m.\u001b[39mPATH_CHECKPOINTS, cfg\u001b[38;5;241m.\u001b[39mMODEL_BASE, \u001b[38;5;124mf\u001b[39m\u001b[38;5;124m\"\u001b[39m\u001b[38;5;124mrun_\u001b[39m\u001b[38;5;132;01m{\u001b[39;00mn_run\u001b[38;5;132;01m}\u001b[39;00m\u001b[38;5;124m\"\u001b[39m, \u001b[38;5;124mf\u001b[39m\u001b[38;5;124m\"\u001b[39m\u001b[38;5;124mfold_\u001b[39m\u001b[38;5;132;01m{\u001b[39;00mfold_id\u001b[38;5;132;01m}\u001b[39;00m\u001b[38;5;124m\"\u001b[39m)\n\u001b[0;32m----> 3\u001b[0m     checkpoints \u001b[38;5;241m=\u001b[39m [\u001b[38;5;28mint\u001b[39m(folder\u001b[38;5;241m.\u001b[39msplit(\u001b[38;5;124m\"\u001b[39m\u001b[38;5;124mcheckpoint-\u001b[39m\u001b[38;5;124m\"\u001b[39m)[\u001b[38;5;241m-\u001b[39m\u001b[38;5;241m1\u001b[39m]) \u001b[38;5;28;01mfor\u001b[39;00m folder \u001b[38;5;129;01min\u001b[39;00m \u001b[43mos\u001b[49m\u001b[38;5;241;43m.\u001b[39;49m\u001b[43mlistdir\u001b[49m\u001b[43m(\u001b[49m\u001b[43mpath_fold_dir\u001b[49m\u001b[43m)\u001b[49m \u001b[38;5;28;01mif\u001b[39;00m folder\u001b[38;5;241m.\u001b[39mstartswith(\u001b[38;5;124m\"\u001b[39m\u001b[38;5;124mcheckpoint\u001b[39m\u001b[38;5;124m\"\u001b[39m)]\n\u001b[1;32m      4\u001b[0m     \u001b[38;5;28;01mreturn\u001b[39;00m \u001b[38;5;28msorted\u001b[39m(checkpoints)\n",
      "\u001b[0;31mFileNotFoundError\u001b[0m: [Errno 2] No such file or directory: '/home/azureuser/ruben/toxicity_classificator/checkpoints/microsoft/deberta-v3-base/run_1/fold_4'"
     ]
    }
   ],
   "source": [
    "best_checkpoints = {}\n",
    "for n_run in range(TOTAL_RUNS):\n",
    "\tbest_checkpoints[f\"run_{n_run}\"] = {}\n",
    "\tfor fold_id in range(cfg.N_FOLDS):\n",
    "\t\tbest_checkpoints[f\"run_{n_run}\"][f\"fold_{fold_id}\"] = get_best_checkpoint_from_fold(n_run, fold_id)\n",
    "best_checkpoints"
   ]
  },
  {
   "cell_type": "code",
   "execution_count": null,
   "id": "744ca7d9",
   "metadata": {},
   "outputs": [
    {
     "data": {
      "text/plain": [
       "{'best_run': 'run_0',\n",
       " 'best_fold': 'fold_2',\n",
       " 'best_step': 10240,\n",
       " 'best_checkpoint': 'checkpoints/microsoft/deberta-v3-base/fold_2/checkpoint-10240',\n",
       " 'best_metric': 0.991930075119802}"
      ]
     },
     "execution_count": 13,
     "metadata": {},
     "output_type": "execute_result"
    }
   ],
   "source": [
    "best_checkpoint = get_best_checkpoint(best_checkpoints)\n",
    "best_checkpoint"
   ]
  },
  {
   "cell_type": "code",
   "execution_count": null,
   "id": "3c1c226f",
   "metadata": {},
   "outputs": [],
   "source": [
    "best_model = AutoModelForSequenceClassification.from_pretrained(best_checkpoint[\"best_checkpoint\"]).to(\"cuda\")"
   ]
  },
  {
   "cell_type": "code",
   "execution_count": null,
   "id": "b47c90ad",
   "metadata": {},
   "outputs": [],
   "source": [
    "args = TrainingArguments(\n",
    "\t# Training structure parameters\n",
    "\tnum_train_epochs=cfg.EPOCHS,\n",
    "\tper_device_train_batch_size=cfg.BATCH_SIZE,\n",
    "\tgradient_accumulation_steps=1,\n",
    "\tper_device_eval_batch_size=cfg.BATCH_SIZE,\n",
    "\t# Optimization parameters\n",
    "\tlearning_rate=1e-5,\n",
    "\tweight_decay=0.01,\n",
    "\toptim=\"adamw_torch_fused\",\n",
    "\t# Evaluation and saving parameters\n",
    "\teval_strategy=\"steps\",\n",
    "\tsave_strategy=\"steps\",\n",
    "\teval_steps=cfg.EVAL_STEPS,\n",
    "\tsave_steps=cfg.SAVE_STEPS,\n",
    "\tload_best_model_at_end=True,\n",
    "\tsave_only_model=True,\n",
    "\tsave_total_limit=cfg.EARLY_STOP_PATIENCE,\n",
    "\tmetric_for_best_model=\"roc_auc_macro\",\n",
    "\t# Precision and memory parameters\n",
    "\tfp16=True,\n",
    "\tgradient_checkpointing=False,\n",
    "\tdataloader_num_workers=2,\n",
    "\tdataloader_pin_memory=True,\n",
    "\t# Logging and reproducibility parameters\n",
    "\tlogging_steps=100,\n",
    "\tseed=cfg.RANDOM_SEED,\n",
    "\toutput_dir= os.path.join(cfg.PATH_CHECKPOINTS, cfg.MODEL_BASE, \"run_full_dataset\")\n",
    ")"
   ]
  },
  {
   "cell_type": "code",
   "execution_count": null,
   "id": "4cd9a849",
   "metadata": {},
   "outputs": [],
   "source": [
    "def compute_metrics(eval_pred):\n",
    "    logits, labels = eval_pred\n",
    "    probs = 1 / (1 + np.exp(-logits))\n",
    "    auc = roc_auc_score(labels, probs, average=\"macro\")\n",
    "    return {\"roc_auc_macro\": auc}"
   ]
  },
  {
   "cell_type": "code",
   "execution_count": null,
   "id": "b898cbb8",
   "metadata": {},
   "outputs": [],
   "source": [
    "trainer = Trainer(\n",
    "\tmodel=best_model,\n",
    "\targs=args,\n",
    "\ttrain_dataset=ds_train_tokenized,\n",
    "\teval_dataset=,\n",
    "\tcompute_metrics=compute_metrics,\n",
    "\tcallbacks=[EarlyStoppingCallback(early_stopping_patience=cfg.EARLY_STOP_PATIENCE)],\n",
    ")"
   ]
  },
  {
   "cell_type": "markdown",
   "id": "eedcb281",
   "metadata": {},
   "source": [
    "We should define a small validation dataset to check the results, but this dataset needs to be stratified to guarantee that it takes same proportion of all labels than the full dataset."
   ]
  },
  {
   "cell_type": "code",
   "execution_count": null,
   "id": "06296bad",
   "metadata": {},
   "outputs": [],
   "source": []
  }
 ],
 "metadata": {
  "kernelspec": {
   "display_name": ".venv",
   "language": "python",
   "name": "python3"
  },
  "language_info": {
   "codemirror_mode": {
    "name": "ipython",
    "version": 3
   },
   "file_extension": ".py",
   "mimetype": "text/x-python",
   "name": "python",
   "nbconvert_exporter": "python",
   "pygments_lexer": "ipython3",
   "version": "3.10.11"
  }
 },
 "nbformat": 4,
 "nbformat_minor": 5
}
