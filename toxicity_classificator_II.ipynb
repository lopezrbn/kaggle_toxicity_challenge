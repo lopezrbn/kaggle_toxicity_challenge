{
 "cells": [
  {
   "cell_type": "code",
   "execution_count": null,
   "id": "35c019b4",
   "metadata": {},
   "outputs": [],
   "source": [
    "import numpy as np\n",
    "from datasets import load_from_disk\n",
    "from transformers import AutoModelForSequenceClassification, TrainingArguments, Trainer, EarlyStoppingCallback\n",
    "from sklearn.metrics import roc_auc_score\n",
    "\n",
    "RANDOM_SEED  = 31415\n",
    "# MODEL_NAME = \"microsoft/deberta-v3-large\"\n",
    "MODEL_NAME = \"microsoft/deberta-v3-base\""
   ]
  },
  {
   "cell_type": "code",
   "execution_count": 2,
   "id": "59023c43",
   "metadata": {},
   "outputs": [],
   "source": [
    "def get_fold_datasets(ds, fold):\n",
    "    ds_train = ds.filter(lambda x: x[\"fold\"] != fold)\n",
    "    ds_val = ds.filter(lambda x: x[\"fold\"] == fold)\n",
    "    return ds_train, ds_val"
   ]
  },
  {
   "cell_type": "code",
   "execution_count": 3,
   "id": "2149ee4b",
   "metadata": {},
   "outputs": [],
   "source": [
    "def model_init(model_name=\"microsoft/deberta-v3-base\"):\n",
    "    return AutoModelForSequenceClassification.from_pretrained(\n",
    "        model_name,\n",
    "        num_labels=6,\n",
    "        problem_type=\"multi_label_classification\",\n",
    "    )"
   ]
  },
  {
   "cell_type": "code",
   "execution_count": 4,
   "id": "05925786",
   "metadata": {},
   "outputs": [],
   "source": [
    "def compute_metrics(eval_pred):\n",
    "    logits, labels = eval_pred\n",
    "    probs = 1 / (1 + np.exp(-logits))\n",
    "    auc = roc_auc_score(labels, probs, average=\"macro\")\n",
    "    return {\"roc_auc_macro\": auc}"
   ]
  },
  {
   "cell_type": "code",
   "execution_count": null,
   "id": "c515161f",
   "metadata": {},
   "outputs": [
    {
     "name": "stdout",
     "output_type": "stream",
     "text": [
      "Fold 1: Train size: 127656 (80.00%), Val size: 31915 (20.00%)\n"
     ]
    },
    {
     "name": "stderr",
     "output_type": "stream",
     "text": [
      "/home/azureuser/ruben/toxicity_classificator/.venv/lib/python3.10/site-packages/transformers/training_args.py:1474: FutureWarning: `evaluation_strategy` is deprecated and will be removed in version 4.46 of 🤗 Transformers. Use `eval_strategy` instead\n",
      "  warnings.warn(\n",
      "Some weights of DebertaV2ForSequenceClassification were not initialized from the model checkpoint at microsoft/deberta-v3-base and are newly initialized: ['classifier.bias', 'classifier.weight', 'pooler.dense.bias', 'pooler.dense.weight']\n",
      "You should probably TRAIN this model on a down-stream task to be able to use it for predictions and inference.\n"
     ]
    },
    {
     "data": {
      "text/html": [
       "\n",
       "    <div>\n",
       "      \n",
       "      <progress value='61' max='23937' style='width:300px; height:20px; vertical-align: middle;'></progress>\n",
       "      [   61/23937 00:51 < 5:48:45, 1.14 it/s, Epoch 0.01/3]\n",
       "    </div>\n",
       "    <table border=\"1\" class=\"dataframe\">\n",
       "  <thead>\n",
       " <tr style=\"text-align: left;\">\n",
       "      <th>Step</th>\n",
       "      <th>Training Loss</th>\n",
       "      <th>Validation Loss</th>\n",
       "    </tr>\n",
       "  </thead>\n",
       "  <tbody>\n",
       "  </tbody>\n",
       "</table><p>"
      ],
      "text/plain": [
       "<IPython.core.display.HTML object>"
      ]
     },
     "metadata": {},
     "output_type": "display_data"
    }
   ],
   "source": [
    "ds_tokenized = load_from_disk(\"data/processed_data/ds_tokenized\")\n",
    "ds_tokenized\n",
    "\n",
    "for fold in range(5):\n",
    "\n",
    "    train, val = get_fold_datasets(ds_tokenized, fold)\n",
    "    print(f\"Fold {fold}: Train size: {len(train)} ({len(train)/len(ds_tokenized):.2%}), Val size: {len(val)} ({len(val)/len(ds_tokenized):.2%})\")\n",
    "\n",
    "    args = TrainingArguments(\n",
    "        # Training structure parameters\n",
    "        num_train_epochs=3,\n",
    "        per_device_train_batch_size=32,     # Try to use multiples of 8 for maximum GPU efficiency\n",
    "        gradient_accumulation_steps=1,\n",
    "        per_device_eval_batch_size=32,      # Try to use multiples of 8 for maximum GPU efficiency\n",
    "        # Optimization parameters\n",
    "        learning_rate=1e-5,\n",
    "        weight_decay=0.01,\n",
    "        optim=\"adamw_torch_fused\",\n",
    "        # Evaluation and saving parameters\n",
    "        evaluation_strategy=\"steps\",\n",
    "        save_strategy=\"steps\",\n",
    "        eval_steps=1024,                    # Try to use a multiple of the batch size so the evaluation is made on an integer number of full batches\n",
    "        save_steps=1024,                    # Try to use a multiple of the batch size so the evaluation is made on an integer number of full batches\n",
    "        load_best_model_at_end=True,\n",
    "        metric_for_best_model=\"roc_auc_macro\",\n",
    "        # Precision and memory parameters\n",
    "        fp16=True,\n",
    "        gradient_checkpointing=False,\n",
    "        dataloader_num_workers=2,\n",
    "        dataloader_pin_memory=True,\n",
    "        # Logging and reproducibility parameters\n",
    "        logging_steps=50,\n",
    "        seed=RANDOM_SEED,\n",
    "        output_dir=f\"checkpoints/deberta_fold{fold}\",\n",
    "    )\n",
    "\n",
    "    trainer = Trainer(\n",
    "        model=model_init(MODEL_NAME),\n",
    "        args=args,\n",
    "        train_dataset=train,\n",
    "        eval_dataset=val,\n",
    "        compute_metrics=compute_metrics,\n",
    "        callbacks=[EarlyStoppingCallback(early_stopping_patience=3)],\n",
    "    )\n",
    "\n",
    "    trainer.train()\n",
    "\n",
    "    trainer.save_model(f\"checkpoints/deberta_fold{fold}/model_final\")"
   ]
  }
 ],
 "metadata": {
  "kernelspec": {
   "display_name": ".venv",
   "language": "python",
   "name": "python3"
  },
  "language_info": {
   "codemirror_mode": {
    "name": "ipython",
    "version": 3
   },
   "file_extension": ".py",
   "mimetype": "text/x-python",
   "name": "python",
   "nbconvert_exporter": "python",
   "pygments_lexer": "ipython3",
   "version": "3.10.11"
  }
 },
 "nbformat": 4,
 "nbformat_minor": 5
}
