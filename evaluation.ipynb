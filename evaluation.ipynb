{
 "cells": [
  {
   "cell_type": "code",
   "execution_count": 1,
   "id": "0f50bec2",
   "metadata": {},
   "outputs": [],
   "source": [
    "import os\n",
    "import pandas as pd\n",
    "import numpy as np\n",
    "import json\n",
    "from datasets import Dataset, load_from_disk\n",
    "from transformers import AutoModelForSequenceClassification, Trainer, TrainingArguments\n",
    "from sklearn.metrics import roc_auc_score\n",
    "import matplotlib.pyplot as plt\n",
    "\n",
    "MODEL_BASE = \"microsoft/deberta-v3-base\"\n",
    "N_RUN = 0\n",
    "\n",
    "# PATH_MODEL_TRAINED_BASE = f\"checkpoints/{MODEL_BASE}/run_{N_RUN}/fold_\"\n",
    "PATH_DS_TRAIN_TOKENIZED = f\"data/processed/{MODEL_BASE}/ds_train_tokenized\"\n",
    "\n",
    "PATH_DF_SCORES = \"results/evaluation/df_scores.csv\""
   ]
  },
  {
   "cell_type": "markdown",
   "id": "11c6c47e",
   "metadata": {},
   "source": [
    "# Analyze folds results"
   ]
  },
  {
   "cell_type": "code",
   "execution_count": 2,
   "id": "47362642",
   "metadata": {},
   "outputs": [],
   "source": [
    "def get_best_metric_from_fold(fold_id):\n",
    "    path = f\"checkpoints/{MODEL_BASE}/run_{N_RUN}/fold_{fold_id}/checkpoint-10240/trainer_state.json\"\n",
    "    try:\n",
    "        with open(path, \"r\") as f:\n",
    "            trainer_state = json.load(f)\n",
    "        return trainer_state[\"best_metric\"]\n",
    "    except FileNotFoundError:\n",
    "        print(f\"File not found: {path}\")\n",
    "        return None"
   ]
  },
  {
   "cell_type": "code",
   "execution_count": 3,
   "id": "fe8db5c4",
   "metadata": {},
   "outputs": [
    {
     "data": {
      "text/plain": [
       "[0.988704817025802,\n",
       " 0.9882707078896035,\n",
       " 0.991930075119802,\n",
       " 0.9900226678585309,\n",
       " 0.9913572009696786]"
      ]
     },
     "execution_count": 3,
     "metadata": {},
     "output_type": "execute_result"
    }
   ],
   "source": [
    "scores = [get_best_metric_from_fold(fold_id) for fold_id in range(5)]\n",
    "scores"
   ]
  },
  {
   "cell_type": "code",
   "execution_count": 4,
   "id": "a4073a10",
   "metadata": {},
   "outputs": [
    {
     "data": {
      "text/plain": [
       "0.9900570937726835"
      ]
     },
     "execution_count": 4,
     "metadata": {},
     "output_type": "execute_result"
    }
   ],
   "source": [
    "np.mean(scores)"
   ]
  },
  {
   "cell_type": "code",
   "execution_count": 5,
   "id": "044290c0",
   "metadata": {},
   "outputs": [
    {
     "data": {
      "text/plain": [
       "0.0014296398089953676"
      ]
     },
     "execution_count": 5,
     "metadata": {},
     "output_type": "execute_result"
    }
   ],
   "source": [
    "np.std(scores)"
   ]
  },
  {
   "cell_type": "markdown",
   "id": "17f91cd7",
   "metadata": {},
   "source": [
    "The scores (ROC AUC macro) of the five folds are very high, with a mean of ~0.990057.\n",
    "\n",
    "Also, there are very little differences between the five folds as it shows the small standard deviation (~0.001430), which means that not only the model get good results when generalizing, but also these good results does not depend on a specific batch.\n",
    "\n",
    "The model generalizes very well."
   ]
  },
  {
   "cell_type": "code",
   "execution_count": null,
   "id": "ca9a9274",
   "metadata": {},
   "outputs": [],
   "source": []
  },
  {
   "cell_type": "markdown",
   "id": "1b7942cf",
   "metadata": {},
   "source": [
    "# Learning curves"
   ]
  },
  {
   "cell_type": "code",
   "execution_count": 6,
   "id": "43f6f747",
   "metadata": {},
   "outputs": [],
   "source": [
    "def get_fold_datasets(ds, fold):\n",
    "    ds_train = ds.filter(lambda x: x[\"fold\"] != fold)\n",
    "    ds_val = ds.filter(lambda x: x[\"fold\"] == fold)\n",
    "    return ds_train, ds_val"
   ]
  },
  {
   "cell_type": "code",
   "execution_count": 7,
   "id": "1575f513",
   "metadata": {},
   "outputs": [],
   "source": [
    "def eval_checkpoint(fold_id, step, ds_train, ds_val):\n",
    "    \n",
    "    def _compute_metrics(eval_pred):\n",
    "        logits, labels = eval_pred\n",
    "        probs = 1 / (1 + np.exp(-logits))\n",
    "        auc = roc_auc_score(labels, probs, average=\"macro\")\n",
    "        return {\"roc_auc_macro\": auc}\n",
    "\n",
    "    # Load the model trained at given checkpoint\n",
    "    path_checkpoint = f\"checkpoints/{MODEL_BASE}/run_{N_RUN}/fold_{fold_id}/checkpoint-{step}\"\n",
    "    model_trained = AutoModelForSequenceClassification.from_pretrained(path_checkpoint).to(\"cuda\")\n",
    "\n",
    "    # Instantiate TrainingArguments and Trainer for evaluation\n",
    "    eval_args = TrainingArguments(\n",
    "        output_dir=\"./tmp_eval\",\n",
    "        per_device_eval_batch_size=32,\n",
    "        dataloader_num_workers=2,\n",
    "        fp16=True,\n",
    "        save_strategy=\"no\",\n",
    "        evaluation_strategy=\"no\",\n",
    "    )\n",
    "    eval_trainer = Trainer(model=model_trained, args=eval_args, compute_metrics=_compute_metrics)\n",
    "\n",
    "    # Evaluate the model on the train and validation datasets\n",
    "    metrics_train = eval_trainer.evaluate(eval_dataset=ds_train)\n",
    "    metrics_val = eval_trainer.evaluate(eval_dataset=ds_val)\n",
    "\n",
    "    return {\n",
    "        \"fold_id\": fold_id,\n",
    "        \"step\": step,\n",
    "        \"train_loss\": metrics_train[\"eval_loss\"],\n",
    "        \"val_loss\": metrics_val[\"eval_loss\"],\n",
    "        \"train_roc_auc_macro\": metrics_train[\"eval_roc_auc_macro\"],\n",
    "        \"val_roc_auc_macro\": metrics_val[\"eval_roc_auc_macro\"],\n",
    "    }"
   ]
  },
  {
   "cell_type": "code",
   "execution_count": 8,
   "id": "076fe9bb",
   "metadata": {},
   "outputs": [],
   "source": [
    "# Load the tokenized dataset and get the train/validation splits\n",
    "ds_train_tokenized = load_from_disk(PATH_DS_TRAIN_TOKENIZED)"
   ]
  },
  {
   "cell_type": "code",
   "execution_count": 9,
   "id": "b943e4c0",
   "metadata": {},
   "outputs": [
    {
     "name": "stdout",
     "output_type": "stream",
     "text": [
      "Evaluating fold 0...\n",
      "\tEvaluating step 2048...\n"
     ]
    },
    {
     "name": "stderr",
     "output_type": "stream",
     "text": [
      "/home/azureuser/ruben/toxicity_classificator/.venv/lib/python3.10/site-packages/transformers/training_args.py:1474: FutureWarning: `evaluation_strategy` is deprecated and will be removed in version 4.46 of 🤗 Transformers. Use `eval_strategy` instead\n",
      "  warnings.warn(\n"
     ]
    },
    {
     "data": {
      "text/html": [
       "\n",
       "    <div>\n",
       "      \n",
       "      <progress value='4988' max='3990' style='width:300px; height:20px; vertical-align: middle;'></progress>\n",
       "      [3990/3990 16:59]\n",
       "    </div>\n",
       "    "
      ],
      "text/plain": [
       "<IPython.core.display.HTML object>"
      ]
     },
     "metadata": {},
     "output_type": "display_data"
    },
    {
     "name": "stdout",
     "output_type": "stream",
     "text": [
      "\tEvaluating step 4096...\n"
     ]
    },
    {
     "name": "stderr",
     "output_type": "stream",
     "text": [
      "/home/azureuser/ruben/toxicity_classificator/.venv/lib/python3.10/site-packages/transformers/training_args.py:1474: FutureWarning: `evaluation_strategy` is deprecated and will be removed in version 4.46 of 🤗 Transformers. Use `eval_strategy` instead\n",
      "  warnings.warn(\n"
     ]
    },
    {
     "data": {
      "text/html": [
       "\n",
       "    <div>\n",
       "      \n",
       "      <progress value='4988' max='3990' style='width:300px; height:20px; vertical-align: middle;'></progress>\n",
       "      [3990/3990 17:05]\n",
       "    </div>\n",
       "    "
      ],
      "text/plain": [
       "<IPython.core.display.HTML object>"
      ]
     },
     "metadata": {},
     "output_type": "display_data"
    },
    {
     "name": "stdout",
     "output_type": "stream",
     "text": [
      "\tEvaluating step 6144...\n"
     ]
    },
    {
     "name": "stderr",
     "output_type": "stream",
     "text": [
      "/home/azureuser/ruben/toxicity_classificator/.venv/lib/python3.10/site-packages/transformers/training_args.py:1474: FutureWarning: `evaluation_strategy` is deprecated and will be removed in version 4.46 of 🤗 Transformers. Use `eval_strategy` instead\n",
      "  warnings.warn(\n"
     ]
    },
    {
     "data": {
      "text/html": [
       "\n",
       "    <div>\n",
       "      \n",
       "      <progress value='4988' max='3990' style='width:300px; height:20px; vertical-align: middle;'></progress>\n",
       "      [3990/3990 17:05]\n",
       "    </div>\n",
       "    "
      ],
      "text/plain": [
       "<IPython.core.display.HTML object>"
      ]
     },
     "metadata": {},
     "output_type": "display_data"
    },
    {
     "name": "stdout",
     "output_type": "stream",
     "text": [
      "\tEvaluating step 8192...\n"
     ]
    },
    {
     "name": "stderr",
     "output_type": "stream",
     "text": [
      "/home/azureuser/ruben/toxicity_classificator/.venv/lib/python3.10/site-packages/transformers/training_args.py:1474: FutureWarning: `evaluation_strategy` is deprecated and will be removed in version 4.46 of 🤗 Transformers. Use `eval_strategy` instead\n",
      "  warnings.warn(\n"
     ]
    },
    {
     "data": {
      "text/html": [
       "\n",
       "    <div>\n",
       "      \n",
       "      <progress value='4988' max='3990' style='width:300px; height:20px; vertical-align: middle;'></progress>\n",
       "      [3990/3990 17:06]\n",
       "    </div>\n",
       "    "
      ],
      "text/plain": [
       "<IPython.core.display.HTML object>"
      ]
     },
     "metadata": {},
     "output_type": "display_data"
    },
    {
     "name": "stdout",
     "output_type": "stream",
     "text": [
      "\tEvaluating step 10240...\n"
     ]
    },
    {
     "name": "stderr",
     "output_type": "stream",
     "text": [
      "/home/azureuser/ruben/toxicity_classificator/.venv/lib/python3.10/site-packages/transformers/training_args.py:1474: FutureWarning: `evaluation_strategy` is deprecated and will be removed in version 4.46 of 🤗 Transformers. Use `eval_strategy` instead\n",
      "  warnings.warn(\n"
     ]
    },
    {
     "data": {
      "text/html": [
       "\n",
       "    <div>\n",
       "      \n",
       "      <progress value='4988' max='3990' style='width:300px; height:20px; vertical-align: middle;'></progress>\n",
       "      [3990/3990 17:06]\n",
       "    </div>\n",
       "    "
      ],
      "text/plain": [
       "<IPython.core.display.HTML object>"
      ]
     },
     "metadata": {},
     "output_type": "display_data"
    }
   ],
   "source": [
    "scores = []\n",
    "steps = [step for step in range(2048, 10241, 2048)]\n",
    "for fold_id in range(1):\n",
    "    print(f\"Evaluating fold {fold_id}...\")\n",
    "    ds_train, ds_val = get_fold_datasets(ds_train_tokenized, fold_id)\n",
    "    # scores += [eval_checkpoint(fold_id, step, ds_train, ds_val) for step in steps]\n",
    "    for step in steps:\n",
    "        print(f\"\\tEvaluating step {step}...\")\n",
    "        scores.append(eval_checkpoint(fold_id, step, ds_train, ds_val))\n",
    "df_scores = pd.DataFrame(scores)\n",
    "df_scores[\"epoch\"] = df_scores[\"step\"] / 11970\n",
    "df_scores.insert(2, \"epoch\", df_scores.pop(\"epoch\"))\n",
    "df_scores.to_csv(PATH_DF_SCORES, index=False)"
   ]
  },
  {
   "cell_type": "markdown",
   "id": "98d7648a",
   "metadata": {},
   "source": [
    "## Plot results"
   ]
  },
  {
   "cell_type": "code",
   "execution_count": 20,
   "id": "dabdaf61",
   "metadata": {},
   "outputs": [],
   "source": [
    "fold_id = 0\n",
    "df_filtered = df_scores[df_scores[\"fold_id\"] == fold_id]"
   ]
  },
  {
   "cell_type": "code",
   "execution_count": 17,
   "id": "944acaa8",
   "metadata": {},
   "outputs": [
    {
     "data": {
      "application/vnd.microsoft.datawrangler.viewer.v0+json": {
       "columns": [
        {
         "name": "index",
         "rawType": "int64",
         "type": "integer"
        },
        {
         "name": "fold_id",
         "rawType": "int64",
         "type": "integer"
        },
        {
         "name": "step",
         "rawType": "int64",
         "type": "integer"
        },
        {
         "name": "epoch",
         "rawType": "float64",
         "type": "float"
        },
        {
         "name": "train_loss",
         "rawType": "float64",
         "type": "float"
        },
        {
         "name": "val_loss",
         "rawType": "float64",
         "type": "float"
        },
        {
         "name": "train_roc_auc_macro",
         "rawType": "float64",
         "type": "float"
        },
        {
         "name": "val_roc_auc_macro",
         "rawType": "float64",
         "type": "float"
        }
       ],
       "ref": "c42a2d9b-e468-44c3-8441-af39bf687d94",
       "rows": [
        [
         "0",
         "0",
         "2048",
         "0.5132832080200501",
         "0.044138576835393906",
         "0.04247219115495682",
         "0.9775101734347021",
         "0.982491088935069"
        ],
        [
         "1",
         "0",
         "4096",
         "1.0265664160401002",
         "0.03798551857471466",
         "0.03682504594326019",
         "0.9850046794452094",
         "0.9885621082548001"
        ],
        [
         "2",
         "0",
         "6144",
         "1.5398496240601505",
         "0.0370807908475399",
         "0.035924412310123444",
         "0.9891410154614882",
         "0.9908971039474719"
        ],
        [
         "3",
         "0",
         "8192",
         "2.0531328320802005",
         "0.034968577325344086",
         "0.03357020020484924",
         "0.9905287668048816",
         "0.9922589238176255"
        ],
        [
         "4",
         "0",
         "10240",
         "2.5664160401002505",
         "0.032545190304517746",
         "0.03132789582014084",
         "0.9915005675875168",
         "0.99289358033377"
        ]
       ],
       "shape": {
        "columns": 7,
        "rows": 5
       }
      },
      "text/html": [
       "<div>\n",
       "<style scoped>\n",
       "    .dataframe tbody tr th:only-of-type {\n",
       "        vertical-align: middle;\n",
       "    }\n",
       "\n",
       "    .dataframe tbody tr th {\n",
       "        vertical-align: top;\n",
       "    }\n",
       "\n",
       "    .dataframe thead th {\n",
       "        text-align: right;\n",
       "    }\n",
       "</style>\n",
       "<table border=\"1\" class=\"dataframe\">\n",
       "  <thead>\n",
       "    <tr style=\"text-align: right;\">\n",
       "      <th></th>\n",
       "      <th>fold_id</th>\n",
       "      <th>step</th>\n",
       "      <th>epoch</th>\n",
       "      <th>train_loss</th>\n",
       "      <th>val_loss</th>\n",
       "      <th>train_roc_auc_macro</th>\n",
       "      <th>val_roc_auc_macro</th>\n",
       "    </tr>\n",
       "  </thead>\n",
       "  <tbody>\n",
       "    <tr>\n",
       "      <th>0</th>\n",
       "      <td>0</td>\n",
       "      <td>2048</td>\n",
       "      <td>0.513283</td>\n",
       "      <td>0.044139</td>\n",
       "      <td>0.042472</td>\n",
       "      <td>0.977510</td>\n",
       "      <td>0.982491</td>\n",
       "    </tr>\n",
       "    <tr>\n",
       "      <th>1</th>\n",
       "      <td>0</td>\n",
       "      <td>4096</td>\n",
       "      <td>1.026566</td>\n",
       "      <td>0.037986</td>\n",
       "      <td>0.036825</td>\n",
       "      <td>0.985005</td>\n",
       "      <td>0.988562</td>\n",
       "    </tr>\n",
       "    <tr>\n",
       "      <th>2</th>\n",
       "      <td>0</td>\n",
       "      <td>6144</td>\n",
       "      <td>1.539850</td>\n",
       "      <td>0.037081</td>\n",
       "      <td>0.035924</td>\n",
       "      <td>0.989141</td>\n",
       "      <td>0.990897</td>\n",
       "    </tr>\n",
       "    <tr>\n",
       "      <th>3</th>\n",
       "      <td>0</td>\n",
       "      <td>8192</td>\n",
       "      <td>2.053133</td>\n",
       "      <td>0.034969</td>\n",
       "      <td>0.033570</td>\n",
       "      <td>0.990529</td>\n",
       "      <td>0.992259</td>\n",
       "    </tr>\n",
       "    <tr>\n",
       "      <th>4</th>\n",
       "      <td>0</td>\n",
       "      <td>10240</td>\n",
       "      <td>2.566416</td>\n",
       "      <td>0.032545</td>\n",
       "      <td>0.031328</td>\n",
       "      <td>0.991501</td>\n",
       "      <td>0.992894</td>\n",
       "    </tr>\n",
       "  </tbody>\n",
       "</table>\n",
       "</div>"
      ],
      "text/plain": [
       "   fold_id   step     epoch  train_loss  val_loss  train_roc_auc_macro  \\\n",
       "0        0   2048  0.513283    0.044139  0.042472             0.977510   \n",
       "1        0   4096  1.026566    0.037986  0.036825             0.985005   \n",
       "2        0   6144  1.539850    0.037081  0.035924             0.989141   \n",
       "3        0   8192  2.053133    0.034969  0.033570             0.990529   \n",
       "4        0  10240  2.566416    0.032545  0.031328             0.991501   \n",
       "\n",
       "   val_roc_auc_macro  \n",
       "0           0.982491  \n",
       "1           0.988562  \n",
       "2           0.990897  \n",
       "3           0.992259  \n",
       "4           0.992894  "
      ]
     },
     "execution_count": 17,
     "metadata": {},
     "output_type": "execute_result"
    }
   ],
   "source": [
    "df_scores"
   ]
  },
  {
   "cell_type": "code",
   "execution_count": 15,
   "id": "1fbc90ab",
   "metadata": {},
   "outputs": [
    {
     "data": {
      "text/plain": [
       "3990"
      ]
     },
     "execution_count": 15,
     "metadata": {},
     "output_type": "execute_result"
    }
   ],
   "source": [
    "import math\n",
    "math.ceil(len(ds_train) / 32)"
   ]
  },
  {
   "cell_type": "code",
   "execution_count": 16,
   "id": "0424f6c9",
   "metadata": {},
   "outputs": [],
   "source": [
    "df_scores[\"epoch\"] = df_scores[\"step\"] / 3990"
   ]
  },
  {
   "cell_type": "code",
   "execution_count": null,
   "id": "0bc34a3d",
   "metadata": {},
   "outputs": [],
   "source": []
  },
  {
   "cell_type": "code",
   "execution_count": 21,
   "id": "01b01004",
   "metadata": {},
   "outputs": [
    {
     "data": {
      "image/png": "[encoded data removed]",
      "text/plain": [
       "<Figure size 1000x600 with 1 Axes>"
      ]
     },
     "metadata": {},
     "output_type": "display_data"
    }
   ],
   "source": [
    "# Loss vs Epoch Plot\n",
    "plt.figure(figsize=(10, 6))\n",
    "plt.plot(df_filtered[\"epoch\"], df_filtered[\"train_loss\"], marker=\"o\", label='Train Loss')\n",
    "plt.plot(df_filtered[\"epoch\"], df_filtered[\"val_loss\"], marker=\"o\", label='Validation Loss')\n",
    "plt.xlabel(\"Epoch\")\n",
    "plt.ylabel(\"Loss\")\n",
    "plt.title(\"Loss vs Epoch\")\n",
    "plt.legend()\n",
    "plt.grid(True)"
   ]
  },
  {
   "cell_type": "code",
   "execution_count": 22,
   "id": "905f65ae",
   "metadata": {},
   "outputs": [
    {
     "data": {
      "image/png": "[encoded data removed]",
      "text/plain": [
       "<Figure size 1000x600 with 1 Axes>"
      ]
     },
     "metadata": {},
     "output_type": "display_data"
    }
   ],
   "source": [
    "# ROC AUC vs Epoch Plot\n",
    "plt.figure(figsize=(10, 6))\n",
    "plt.plot(df_filtered[\"epoch\"], df_filtered[\"train_roc_auc_macro\"], marker=\"o\", label='Train ROC AUC Macro')\n",
    "plt.plot(df_filtered[\"epoch\"], df_filtered[\"val_roc_auc_macro\"], marker=\"o\", label='Validation ROC AUC Macro')\n",
    "plt.xlabel(\"Epoch\")\n",
    "plt.ylabel(\"ROC AUC Macro\")\n",
    "plt.title(\"ROC AUC Macro vs Epoch\")\n",
    "plt.legend()\n",
    "plt.grid(True)"
   ]
  },
  {
   "cell_type": "markdown",
   "id": "b07bd807",
   "metadata": {},
   "source": [
    "## Conclusions"
   ]
  },
  {
   "cell_type": "markdown",
   "id": "f74da948",
   "metadata": {},
   "source": [
    "TBD"
   ]
  },
  {
   "cell_type": "code",
   "execution_count": null,
   "id": "f5b1b2cc",
   "metadata": {},
   "outputs": [],
   "source": []
  },
  {
   "cell_type": "code",
   "execution_count": 13,
   "id": "bc602829",
   "metadata": {},
   "outputs": [],
   "source": [
    "# print(\"Train loss:\", train_metrics[\"eval_loss\"])\n",
    "# print(\"Train AUC :\", train_metrics[\"eval_roc_auc_macro\"])\n",
    "# print(\"Val   loss:\", val_metrics[\"eval_loss\"])\n",
    "# print(\"Val   AUC :\", val_metrics[\"eval_roc_auc_macro\"])"
   ]
  },
  {
   "cell_type": "markdown",
   "id": "f856540a",
   "metadata": {},
   "source": [
    "Train loss: 0.030696088448166847\n",
    "Train AUC : 0.9925534637672399\n",
    "Val   loss: 0.03872407227754593\n",
    "Val   AUC : 0.988704817025802"
   ]
  },
  {
   "cell_type": "code",
   "execution_count": null,
   "id": "abce5664",
   "metadata": {},
   "outputs": [],
   "source": []
  }
 ],
 "metadata": {
  "kernelspec": {
   "display_name": ".venv",
   "language": "python",
   "name": "python3"
  },
  "language_info": {
   "codemirror_mode": {
    "name": "ipython",
    "version": 3
   },
   "file_extension": ".py",
   "mimetype": "text/x-python",
   "name": "python",
   "nbconvert_exporter": "python",
   "pygments_lexer": "ipython3",
   "version": "3.10.11"
  }
 },
 "nbformat": 4,
 "nbformat_minor": 5
}
