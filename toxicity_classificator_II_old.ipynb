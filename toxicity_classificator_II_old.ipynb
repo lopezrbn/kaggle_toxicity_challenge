{
 "cells": [
  {
   "cell_type": "code",
   "execution_count": 1,
   "id": "35c019b4",
   "metadata": {},
   "outputs": [],
   "source": [
    "import numpy as np\n",
    "import pandas as pd\n",
    "from datasets import load_from_disk\n",
    "from transformers import AutoModelForSequenceClassification, TrainingArguments, Trainer, EarlyStoppingCallback\n",
    "from sklearn.metrics import roc_auc_score\n",
    "import torch\n",
    "\n",
    "RANDOM_SEED  = 31415"
   ]
  },
  {
   "cell_type": "markdown",
   "id": "5e479023",
   "metadata": {},
   "source": [
    "# Create training and validation subsets"
   ]
  },
  {
   "cell_type": "code",
   "execution_count": 2,
   "id": "59023c43",
   "metadata": {},
   "outputs": [],
   "source": [
    "def get_fold_datasets(ds, fold):\n",
    "    ds_train = ds.filter(lambda x: x[\"fold\"] != fold)\n",
    "    ds_val = ds.filter(lambda x: x[\"fold\"] == fold)\n",
    "    return ds_train, ds_val"
   ]
  },
  {
   "cell_type": "code",
   "execution_count": 3,
   "id": "a91838ac",
   "metadata": {},
   "outputs": [
    {
     "data": {
      "text/plain": [
       "Dataset({\n",
       "    features: ['id', 'fold', 'labels', 'input_ids', 'token_type_ids', 'attention_mask'],\n",
       "    num_rows: 159571\n",
       "})"
      ]
     },
     "execution_count": 3,
     "metadata": {},
     "output_type": "execute_result"
    }
   ],
   "source": [
    "ds_tokenized = load_from_disk(\"data/processed_data/ds_tokenized\")\n",
    "ds_tokenized"
   ]
  },
  {
   "cell_type": "markdown",
   "id": "3a7ccb7c",
   "metadata": {},
   "source": [
    "# Model"
   ]
  },
  {
   "cell_type": "code",
   "execution_count": 6,
   "id": "c5138dc2",
   "metadata": {},
   "outputs": [
    {
     "name": "stderr",
     "output_type": "stream",
     "text": [
      "Some weights of DebertaV2ForSequenceClassification were not initialized from the model checkpoint at microsoft/deberta-v3-base and are newly initialized: ['classifier.bias', 'classifier.weight', 'pooler.dense.bias', 'pooler.dense.weight']\n",
      "You should probably TRAIN this model on a down-stream task to be able to use it for predictions and inference.\n"
     ]
    }
   ],
   "source": [
    "# model_name = \"microsoft/deberta-v3-large\"\n",
    "model_name = \"microsoft/deberta-v3-base\"\n",
    "model = AutoModelForSequenceClassification.from_pretrained(model_name, num_labels=6, problem_type=\"multi_label_classification\").to(\"cuda\")"
   ]
  },
  {
   "cell_type": "code",
   "execution_count": 7,
   "id": "12d11145",
   "metadata": {},
   "outputs": [],
   "source": [
    "# model.switch_to_sdp(SdpaConfig(\"flash_attention_2\"))"
   ]
  },
  {
   "cell_type": "code",
   "execution_count": 8,
   "id": "28b679bd",
   "metadata": {},
   "outputs": [],
   "source": [
    "# model = torch.compile(model)"
   ]
  },
  {
   "cell_type": "code",
   "execution_count": 9,
   "id": "05925786",
   "metadata": {},
   "outputs": [],
   "source": [
    "def compute_metrics(eval_pred):\n",
    "    logits, labels = eval_pred\n",
    "    probs = 1 / (1 + np.exp(-logits))\n",
    "    auc = roc_auc_score(labels, probs, average=\"macro\")\n",
    "    return {\"roc_auc_macro\": auc}"
   ]
  },
  {
   "cell_type": "code",
   "execution_count": 10,
   "id": "fc88b0c6",
   "metadata": {},
   "outputs": [],
   "source": [
    "# args = TrainingArguments(\n",
    "#     output_dir=\"checkpoints/deberta_fold0\",\n",
    "#     num_train_epochs=3,\n",
    "#     per_device_train_batch_size=8,\n",
    "#     per_device_eval_batch_size=4,\n",
    "#     learning_rate=1e-5,\n",
    "#     weight_decay=0.01,\n",
    "#     evaluation_strategy=\"epoch\",\n",
    "#     save_strategy=\"epoch\",\n",
    "#     metric_for_best_model=\"roc_auc_macro\",\n",
    "#     load_best_model_at_end=True,\n",
    "#     fp16=True,\n",
    "#     gradient_checkpointing=False,\n",
    "#     logging_steps=50,\n",
    "#     seed=RANDOM_SEED\n",
    "# )"
   ]
  },
  {
   "cell_type": "code",
   "execution_count": 11,
   "id": "a20fd20e",
   "metadata": {},
   "outputs": [
    {
     "name": "stderr",
     "output_type": "stream",
     "text": [
      "/home/azureuser/ruben/toxicity_classificator/.venv/lib/python3.10/site-packages/transformers/training_args.py:1474: FutureWarning: `evaluation_strategy` is deprecated and will be removed in version 4.46 of 🤗 Transformers. Use `eval_strategy` instead\n",
      "  warnings.warn(\n"
     ]
    }
   ],
   "source": [
    "args = TrainingArguments(\n",
    "    output_dir=\"checkpoints/deberta_fold0\",\n",
    "    num_train_epochs=3,\n",
    "    per_device_train_batch_size=8,\n",
    "    gradient_accumulation_steps=2,      # New line\n",
    "    per_device_eval_batch_size=8,       # Adjusted\n",
    "    learning_rate=1e-5,\n",
    "    weight_decay=0.01,\n",
    "    evaluation_strategy=\"steps\",        # Adjusted\n",
    "    eval_steps=2000,                    # New line   \n",
    "    save_strategy=\"steps\",              # Adjusted\n",
    "    save_steps=2000,                    # New line\n",
    "    load_best_model_at_end=True,\n",
    "    metric_for_best_model=\"roc_auc_macro\",\n",
    "    fp16=True,\n",
    "    gradient_checkpointing=False,\n",
    "    dataloader_num_workers=2,           # New line\n",
    "    dataloader_pin_memory=True,         # New line\n",
    "    logging_steps=50,\n",
    "    seed=RANDOM_SEED,\n",
    "    optim=\"adamw_torch_fused\"           # New line\n",
    ")"
   ]
  },
  {
   "cell_type": "code",
   "execution_count": null,
   "id": "c515161f",
   "metadata": {},
   "outputs": [],
   "source": [
    "for fold in range(1, 5):\n",
    "    train, val = get_fold_datasets(ds_tokenized, fold)\n",
    "    print(f\"Fold {fold}: Train size: {len(train)} ({len(train)/len(ds_tokenized):.2%}), Val size: {len(val)} ({len(val)/len(ds_tokenized):.2%})\")\n",
    "    trainer = Trainer(\n",
    "        model=model,\n",
    "        args=args,\n",
    "        train_dataset=train,\n",
    "        eval_dataset=val,\n",
    "        compute_metrics=compute_metrics,\n",
    "        callbacks=[EarlyStoppingCallback(early_stopping_patience=2)],\n",
    "    )\n",
    "    trainer.train()\n",
    "# train_0, val_0 = get_fold_datasets(ds_tokenized, 0)"
   ]
  },
  {
   "cell_type": "code",
   "execution_count": null,
   "id": "67950a8c",
   "metadata": {},
   "outputs": [],
   "source": []
  },
  {
   "cell_type": "code",
   "execution_count": 13,
   "id": "862bbb3e",
   "metadata": {},
   "outputs": [
    {
     "data": {
      "text/html": [
       "\n",
       "    <div>\n",
       "      \n",
       "      <progress value='18000' max='23934' style='width:300px; height:20px; vertical-align: middle;'></progress>\n",
       "      [18000/23934 2:43:01 < 53:45, 1.84 it/s, Epoch 2/3]\n",
       "    </div>\n",
       "    <table border=\"1\" class=\"dataframe\">\n",
       "  <thead>\n",
       " <tr style=\"text-align: left;\">\n",
       "      <th>Step</th>\n",
       "      <th>Training Loss</th>\n",
       "      <th>Validation Loss</th>\n",
       "      <th>Roc Auc Macro</th>\n",
       "    </tr>\n",
       "  </thead>\n",
       "  <tbody>\n",
       "    <tr>\n",
       "      <td>2000</td>\n",
       "      <td>0.042000</td>\n",
       "      <td>0.042506</td>\n",
       "      <td>0.979005</td>\n",
       "    </tr>\n",
       "    <tr>\n",
       "      <td>4000</td>\n",
       "      <td>0.042400</td>\n",
       "      <td>0.043684</td>\n",
       "      <td>0.982231</td>\n",
       "    </tr>\n",
       "    <tr>\n",
       "      <td>6000</td>\n",
       "      <td>0.035800</td>\n",
       "      <td>0.039424</td>\n",
       "      <td>0.982926</td>\n",
       "    </tr>\n",
       "    <tr>\n",
       "      <td>8000</td>\n",
       "      <td>0.039000</td>\n",
       "      <td>0.040464</td>\n",
       "      <td>0.988242</td>\n",
       "    </tr>\n",
       "    <tr>\n",
       "      <td>10000</td>\n",
       "      <td>0.034500</td>\n",
       "      <td>0.039660</td>\n",
       "      <td>0.988469</td>\n",
       "    </tr>\n",
       "    <tr>\n",
       "      <td>12000</td>\n",
       "      <td>0.034600</td>\n",
       "      <td>0.040457</td>\n",
       "      <td>0.989537</td>\n",
       "    </tr>\n",
       "    <tr>\n",
       "      <td>14000</td>\n",
       "      <td>0.038500</td>\n",
       "      <td>0.040989</td>\n",
       "      <td>0.990535</td>\n",
       "    </tr>\n",
       "    <tr>\n",
       "      <td>16000</td>\n",
       "      <td>0.027600</td>\n",
       "      <td>0.038374</td>\n",
       "      <td>0.990595</td>\n",
       "    </tr>\n",
       "    <tr>\n",
       "      <td>18000</td>\n",
       "      <td>0.030500</td>\n",
       "      <td>0.039470</td>\n",
       "      <td>0.990515</td>\n",
       "    </tr>\n",
       "  </tbody>\n",
       "</table><p>"
      ],
      "text/plain": [
       "<IPython.core.display.HTML object>"
      ]
     },
     "metadata": {},
     "output_type": "display_data"
    },
    {
     "data": {
      "text/plain": [
       "TrainOutput(global_step=18000, training_loss=0.04024555553992589, metrics={'train_runtime': 9782.4889, 'train_samples_per_second': 39.148, 'train_steps_per_second': 2.447, 'total_flos': 3.7890032173056e+16, 'train_loss': 0.04024555553992589, 'epoch': 2.2560631697687534})"
      ]
     },
     "execution_count": 13,
     "metadata": {},
     "output_type": "execute_result"
    }
   ],
   "source": [
    "trainer.train()"
   ]
  },
  {
   "cell_type": "code",
   "execution_count": 14,
   "id": "ffbd154e",
   "metadata": {},
   "outputs": [],
   "source": [
    "trainer.save_model(\"checkpoints/deberta_fold0/model_final\")"
   ]
  },
  {
   "cell_type": "code",
   "execution_count": null,
   "id": "a5702927",
   "metadata": {},
   "outputs": [],
   "source": []
  }
 ],
 "metadata": {
  "kernelspec": {
   "display_name": ".venv",
   "language": "python",
   "name": "python3"
  },
  "language_info": {
   "codemirror_mode": {
    "name": "ipython",
    "version": 3
   },
   "file_extension": ".py",
   "mimetype": "text/x-python",
   "name": "python",
   "nbconvert_exporter": "python",
   "pygments_lexer": "ipython3",
   "version": "3.10.11"
  }
 },
 "nbformat": 4,
 "nbformat_minor": 5
}
